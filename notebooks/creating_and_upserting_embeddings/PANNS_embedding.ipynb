{
 "cells": [
  {
   "cell_type": "code",
   "execution_count": 1,
   "metadata": {
    "collapsed": true,
    "ExecuteTime": {
     "start_time": "2025-03-19T13:31:42.395281Z",
     "end_time": "2025-03-19T13:31:55.027292Z"
    }
   },
   "outputs": [
    {
     "name": "stdout",
     "output_type": "stream",
     "text": [
      "Checkpoint path: /Users/A117792292/panns_data/Cnn14_mAP=0.431.pth\n",
      "Using CPU.\n"
     ]
    }
   ],
   "source": [
    "import numpy as np\n",
    "import librosa\n",
    "from panns_inference import AudioTagging\n",
    "model = AudioTagging(checkpoint_path=None, device='cpu')  # Use 'cpu' if GPU is not available\n"
   ]
  },
  {
   "cell_type": "code",
   "execution_count": 2,
   "outputs": [],
   "source": [
    "#TODO spravit 8 sekundove embedingy\n",
    "def select_strongest_8_seconds(y, sr, onset_env, beats):\n",
    "    # Calculate the cumulative onset strength for each 8-second segment\n",
    "    hop_length = 512\n",
    "    frame_length = int(8 * sr / hop_length)\n",
    "    onset_env_cumsum = np.cumsum(onset_env)\n",
    "    max_strength = 0\n",
    "    start_frame = 0\n",
    "\n",
    "    for i in range(len(onset_env) - frame_length):\n",
    "        strength = onset_env_cumsum[i + frame_length] - onset_env_cumsum[i]\n",
    "        if strength > max_strength:\n",
    "            max_strength = strength\n",
    "            start_frame = i\n",
    "\n",
    "    # Align the start of the 8-second segment with the nearest beat\n",
    "    start_time = librosa.frames_to_time(start_frame, sr=sr, hop_length=hop_length)\n",
    "    beat_times = librosa.frames_to_time(beats, sr=sr, hop_length=hop_length)\n",
    "\n",
    "    if len(beat_times) > 0:\n",
    "        nearest_beat_time = min(beat_times, key=lambda x: abs(x - start_time))\n",
    "        start_time = nearest_beat_time\n",
    "\n",
    "    end_time = start_time + 8\n",
    "    start_sample = int(start_time * sr)\n",
    "    end_sample = int(end_time * sr)\n",
    "    y_selected_seconds = y[start_sample:end_sample]\n",
    "    return y_selected_seconds, start_time, end_time"
   ],
   "metadata": {
    "collapsed": false,
    "ExecuteTime": {
     "start_time": "2025-03-19T13:32:21.307344Z",
     "end_time": "2025-03-19T13:32:21.319420Z"
    }
   }
  },
  {
   "cell_type": "code",
   "execution_count": 3,
   "outputs": [],
   "source": [
    "# Function to normalize a vector\n",
    "def normalize(v):\n",
    "    norm = np.linalg.norm(v)\n",
    "    if norm == 0:\n",
    "        return v\n",
    "    return v / norm\n",
    "\n",
    "# Function to get an embedding of an audio file\n",
    "def get_embedding(file_path):\n",
    "    # Load the audio file\n",
    "    # audio, _ = librosa.load(audio_file, sr=None)\n",
    "    y, sr = librosa.load(file_path, sr=None)\n",
    "    onset_env = librosa.onset.onset_strength(y=y, sr=sr, aggregate=np.median)\n",
    "    tempo, beats = librosa.beat.beat_track(onset_envelope=onset_env, sr=sr, trim=True)\n",
    "    y_selected_seconds, start_time, end_time = select_strongest_8_seconds(y, sr, onset_env, beats)\n",
    "    query_audio = y_selected_seconds[None, :]  # Reshape for model input\n",
    "    # Load the PANNS model with the correct checkpoint path\n",
    "\n",
    "    # Perform inference to get the embedding\n",
    "    _, emb = model.inference(query_audio)\n",
    "\n",
    "    # Normalize the embedding\n",
    "    normalized_emb = normalize(emb[0])\n",
    "    return normalized_emb\n",
    "\n",
    "\n",
    "# # Example usage\n",
    "audio_file = '../mp3songs/tekkno/165Er Zahnfleischbluten.mp3'\n",
    "embedding = get_embedding(audio_file)"
   ],
   "metadata": {
    "collapsed": false,
    "ExecuteTime": {
     "start_time": "2025-03-19T13:32:30.784314Z",
     "end_time": "2025-03-19T13:32:34.647479Z"
    }
   }
  },
  {
   "cell_type": "code",
   "execution_count": 4,
   "outputs": [
    {
     "data": {
      "text/plain": "(2048,)"
     },
     "execution_count": 4,
     "metadata": {},
     "output_type": "execute_result"
    }
   ],
   "source": [
    "embedding.shape"
   ],
   "metadata": {
    "collapsed": false,
    "ExecuteTime": {
     "start_time": "2025-03-19T13:34:08.278203Z",
     "end_time": "2025-03-19T13:34:08.305541Z"
    }
   }
  },
  {
   "cell_type": "code",
   "execution_count": 5,
   "outputs": [
    {
     "data": {
      "text/plain": "                                    name                artist  \\\n0             Brown Noise 140 hz Sharp Q              Granular   \n1                       Survival Tactics           Joey Bada$$   \n2                     That Day Will Come              Capleton   \n3                           Already Gone        Kelly Clarkson   \n4                              The Drugs            The Holdup   \n..                                   ...                   ...   \n839      The Good, the Bad and the Dirty   Panic! At The Disco   \n840            The End Is Where We Begin  Thousand Foot Krutch   \n841  Put Your Lights On (feat. Everlast)               Santana   \n842              Drink to That All Night        Jerrod Niemann   \n843                    You Can't Save Me                   SiR   \n\n                 spotify_id  \\\n0    1efbB8dNowPNwBU6HaHjup   \n1    4pNT8XTKWb2vhcsqwzdXCT   \n2    6D4eMFcg3DquhNOQsNanQk   \n3    4fq2YUONcgrCJ2SPndSeKC   \n4    6CTxqx9pxaoOxOYZSbsqDc   \n..                      ...   \n839  5eoZTdiq4C4aoEfUwAN0ha   \n840  1Ou0kPQcfXuLVYUKV8KUox   \n841  3uRaD26t3RkJ8n549udQ83   \n842  3M31S6f0z8S3nkFh3eS06W   \n843  5LKzqs734Xs528hqK8bGS1   \n\n                                               preview  \\\n0    https://p.scdn.co/mp3-preview/587cffc089799746...   \n1    https://p.scdn.co/mp3-preview/89f912f9bbd2af71...   \n2    https://p.scdn.co/mp3-preview/d33eccef67aaf6ac...   \n3    https://p.scdn.co/mp3-preview/660bd02563cebe61...   \n4    https://p.scdn.co/mp3-preview/c544ea6c0d9720a9...   \n..                                                 ...   \n839  https://p.scdn.co/mp3-preview/f37091eef36c052b...   \n840  https://p.scdn.co/mp3-preview/5037771d0b7498bc...   \n841  https://p.scdn.co/mp3-preview/3d6e38a7feb56d15...   \n842  https://p.scdn.co/mp3-preview/3e1f057daa61f7a1...   \n843  https://p.scdn.co/mp3-preview/65cf0682c523ec2b...   \n\n                                                   img  danceability  energy  \\\n0    https://i.scdn.co/image/ab67616d0000b273727265...         0.205   0.337   \n1    https://i.scdn.co/image/ab67616d0000b273fcd372...         0.530   0.843   \n2    https://i.scdn.co/image/ab67616d0000b27352630f...         0.672   0.839   \n3    https://i.scdn.co/image/ab67616d0000b2737ed879...         0.209   0.872   \n4    https://i.scdn.co/image/ab67616d0000b273a580ae...         0.723   0.810   \n..                                                 ...           ...     ...   \n839  https://i.scdn.co/image/ab67616d0000b27323152d...         0.531   0.825   \n840  https://i.scdn.co/image/ab67616d0000b273405821...         0.463   0.876   \n841  https://i.scdn.co/image/ab67616d0000b27347eb3e...         0.606   0.834   \n842  https://i.scdn.co/image/ab67616d0000b2736fcccc...         0.639   0.846   \n843  https://i.scdn.co/image/ab67616d0000b273bbee54...         0.623   0.585   \n\n     loudness  speechiness  acousticness  ...               artist_id  \\\n0     -37.221       0.0647       0.75100  ...  1jfnMuDBl5OaAoU0VwLD8m   \n1      -2.271       0.3900       0.42800  ...  2P5sC9cVZDToPxyomzF1UH   \n2      -5.034       0.1140       0.06740  ...  21J3YJTyq1biE3SvSNjzuf   \n3      -2.996       0.0757       0.21700  ...  3BmGtnKgCSGYIUhmivXKWX   \n4      -3.983       0.0338       0.03370  ...  1gwTohHbTpE3qdPyDvnOEu   \n..        ...          ...           ...  ...                     ...   \n839    -5.333       0.0545       0.00191  ...  20JZFwl6HVl6yg8a4H3ZqK   \n840    -4.190       0.0529       0.00205  ...  6GfiCQDFYANz5wUkSmb3Dr   \n841    -6.101       0.0369       0.01550  ...  6GI52t8N5F02MxU0g5U69P   \n842    -6.184       0.0439       0.03250  ...  0RKP52f5PNDCRZ9Luq2Sr7   \n843    -7.895       0.1240       0.06280  ...  3QTDHixorJelOLxoxcjqGx   \n\n                                       genres  \\\n0                                   ['sleep']   \n1                          ['hip hop', 'rap']   \n2                  ['reggae', 'roots reggae']   \n3                        ['dance pop', 'pop']   \n4                           ['reggae fusion']   \n..                                        ...   \n839                                   ['pop']   \n840                     ['alternative metal']   \n841                          ['classic rock']   \n842  ['contemporary country', 'country road']   \n843                       ['alternative r&b']   \n\n                                   genres_str  main_genre  \\\n0                                   ['sleep']     ambient   \n1                          ['hip hop', 'rap']         rap   \n2                  ['reggae', 'roots reggae']      reggae   \n3                        ['dance pop', 'pop']         pop   \n4                           ['reggae fusion']      reggae   \n..                                        ...         ...   \n839                                   ['pop']         pop   \n840                     ['alternative metal']       metal   \n841                          ['classic rock']        rock   \n842  ['contemporary country', 'country road']     country   \n843                       ['alternative r&b']         rnb   \n\n                                             file_path  \\\n0    ../mp3songs/48_genres_11_main_genres/Brown Noi...   \n1    ../mp3songs/48_genres_11_main_genres/Survival ...   \n2    ../mp3songs/48_genres_11_main_genres/That Day ...   \n3    ../mp3songs/48_genres_11_main_genres/Already G...   \n4    ../mp3songs/48_genres_11_main_genres/The Drugs...   \n..                                                 ...   \n839  ../mp3songs/48_genres_11_main_genres/The Good,...   \n840  ../mp3songs/48_genres_11_main_genres/The End I...   \n841  ../mp3songs/48_genres_11_main_genres/Put Your ...   \n842  ../mp3songs/48_genres_11_main_genres/Drink to ...   \n843  ../mp3songs/48_genres_11_main_genres/You Can't...   \n\n                                          genre_array2  \\\n0    [0 0 0 0 1 0 0 0 0 0 0 0 0 0 0 0 0 0 0 0 0 0 0...   \n1    [0 0 0 0 0 0 0 0 0 0 0 0 0 0 0 0 0 0 0 0 0 0 0...   \n2    [0 0 0 0 0 0 0 0 0 0 0 0 0 0 0 0 0 0 0 0 0 0 0...   \n3    [0 0 0 0 0 1 0 0 0 0 0 0 0 0 0 0 0 0 0 0 0 0 0...   \n4    [0 0 0 0 0 0 0 0 0 0 0 0 0 0 0 0 0 0 0 1 0 0 0...   \n..                                                 ...   \n839  [0 0 0 0 0 0 0 0 0 0 0 0 0 0 0 0 0 0 0 0 0 0 0...   \n840  [0 0 0 0 0 0 0 0 0 0 0 0 0 0 0 0 0 0 0 0 0 0 0...   \n841  [0 0 0 0 0 0 0 0 1 0 0 0 0 0 0 0 0 0 0 0 0 0 0...   \n842  [0 0 0 0 0 0 0 0 0 0 1 0 0 0 0 0 0 0 0 0 0 0 0...   \n843  [0 0 0 0 0 0 0 0 0 0 0 0 0 0 0 0 0 0 0 0 0 0 0...   \n\n          VGG_embeddings_8_seconds_base_13_genres_test  \\\n0    [-0.20768842101097107, 0.17027533054351807, 0....   \n1    [-0.5984508991241455, -0.21273860335350037, 0....   \n2    [-0.6541938781738281, 0.03160589933395386, 0.2...   \n3    [-0.4340738356113434, -0.13108360767364502, 0....   \n4    [-1.0772324800491333, 0.011838555335998535, 0....   \n..                                                 ...   \n839  [-0.633353590965271, -0.1372760832309723, 0.10...   \n840  [-0.736586332321167, -0.00830000638961792, -0....   \n841  [-0.7161309719085693, -0.11904561519622803, 0....   \n842  [-0.6121714115142822, -0.09478384256362915, 0....   \n843  [-0.6132622957229614, 0.03110295534133911, 0.2...   \n\n     fine_tuned_13_genres_with_val_softmax_vggish_model_batch_size_5_test  \\\n0    [-1.7131984233856201, 1.8003138303756714, 0.26...                      \n1    [-4.477705478668213, -2.5627753734588623, -2.5...                      \n2    [-4.383584022521973, -2.044909715652466, -1.62...                      \n3    [-3.3959813117980957, -1.1046748161315918, -1....                      \n4    [-6.385115623474121, -1.9373447895050049, -2.0...                      \n..                                                 ...                      \n839  [-4.58098030090332, -2.0702669620513916, -2.02...                      \n840  [-8.500086784362793, -3.2871286869049072, -3.3...                      \n841  [-2.987689733505249, -1.489028811454773, -2.09...                      \n842  [-4.983516693115234, -1.551437258720398, -1.91...                      \n843  [-4.409715175628662, -1.8983900547027588, -1.1...                      \n\n     fine_tuned_59_genres_with_val_sigmoid_vggish_model_multilabel_batch_size_5  \\\n0    [-14.115251541137695, -7.341050148010254, -2.3...                            \n1    [-4.634706020355225, -2.2025468349456787, -2.5...                            \n2    [-5.128568172454834, -2.1408400535583496, -2.6...                            \n3    [-5.52520751953125, -1.0195895433425903, -0.75...                            \n4    [-6.066783905029297, -1.9855862855911255, -1.5...                            \n..                                                 ...                            \n839  [-5.9073100090026855, -2.2739641666412354, -3....                            \n840  [-5.80438232421875, -2.217241048812866, -0.391...                            \n841  [-6.011346817016602, -2.080354690551758, -1.35...                            \n842  [-5.415207386016846, -2.002927303314209, -2.12...                            \n843  [-4.796065807342529, -1.660236120223999, -1.87...                            \n\n                           base_open3l_model_test_data  \n0    [ 2.0042045   3.385865    2.2807853   0.486558...  \n1    [2.7665234  2.2206402  2.4165297  2.279251   1...  \n2    [2.2732286  2.584271   3.2119744  2.348352   1...  \n3    [2.3422306  2.3426332  2.685641   2.38519    2...  \n4    [2.1347637  2.1387303  3.246513   2.245867   1...  \n..                                                 ...  \n839  [2.212627   2.329846   2.4827034  2.4413834  1...  \n840  [2.055967   2.2873874  2.8332672  2.7910056  2...  \n841  [2.2334995  2.4151835  2.960587   2.5212998  2...  \n842  [2.4632046  2.2667255  2.9979198  2.2731826  1...  \n843  [2.2099254  2.278734   3.5323112  2.2055922  1...  \n\n[844 rows x 30 columns]",
      "text/html": "<div>\n<style scoped>\n    .dataframe tbody tr th:only-of-type {\n        vertical-align: middle;\n    }\n\n    .dataframe tbody tr th {\n        vertical-align: top;\n    }\n\n    .dataframe thead th {\n        text-align: right;\n    }\n</style>\n<table border=\"1\" class=\"dataframe\">\n  <thead>\n    <tr style=\"text-align: right;\">\n      <th></th>\n      <th>name</th>\n      <th>artist</th>\n      <th>spotify_id</th>\n      <th>preview</th>\n      <th>img</th>\n      <th>danceability</th>\n      <th>energy</th>\n      <th>loudness</th>\n      <th>speechiness</th>\n      <th>acousticness</th>\n      <th>...</th>\n      <th>artist_id</th>\n      <th>genres</th>\n      <th>genres_str</th>\n      <th>main_genre</th>\n      <th>file_path</th>\n      <th>genre_array2</th>\n      <th>VGG_embeddings_8_seconds_base_13_genres_test</th>\n      <th>fine_tuned_13_genres_with_val_softmax_vggish_model_batch_size_5_test</th>\n      <th>fine_tuned_59_genres_with_val_sigmoid_vggish_model_multilabel_batch_size_5</th>\n      <th>base_open3l_model_test_data</th>\n    </tr>\n  </thead>\n  <tbody>\n    <tr>\n      <th>0</th>\n      <td>Brown Noise 140 hz Sharp Q</td>\n      <td>Granular</td>\n      <td>1efbB8dNowPNwBU6HaHjup</td>\n      <td>https://p.scdn.co/mp3-preview/587cffc089799746...</td>\n      <td>https://i.scdn.co/image/ab67616d0000b273727265...</td>\n      <td>0.205</td>\n      <td>0.337</td>\n      <td>-37.221</td>\n      <td>0.0647</td>\n      <td>0.75100</td>\n      <td>...</td>\n      <td>1jfnMuDBl5OaAoU0VwLD8m</td>\n      <td>['sleep']</td>\n      <td>['sleep']</td>\n      <td>ambient</td>\n      <td>../mp3songs/48_genres_11_main_genres/Brown Noi...</td>\n      <td>[0 0 0 0 1 0 0 0 0 0 0 0 0 0 0 0 0 0 0 0 0 0 0...</td>\n      <td>[-0.20768842101097107, 0.17027533054351807, 0....</td>\n      <td>[-1.7131984233856201, 1.8003138303756714, 0.26...</td>\n      <td>[-14.115251541137695, -7.341050148010254, -2.3...</td>\n      <td>[ 2.0042045   3.385865    2.2807853   0.486558...</td>\n    </tr>\n    <tr>\n      <th>1</th>\n      <td>Survival Tactics</td>\n      <td>Joey Bada$$</td>\n      <td>4pNT8XTKWb2vhcsqwzdXCT</td>\n      <td>https://p.scdn.co/mp3-preview/89f912f9bbd2af71...</td>\n      <td>https://i.scdn.co/image/ab67616d0000b273fcd372...</td>\n      <td>0.530</td>\n      <td>0.843</td>\n      <td>-2.271</td>\n      <td>0.3900</td>\n      <td>0.42800</td>\n      <td>...</td>\n      <td>2P5sC9cVZDToPxyomzF1UH</td>\n      <td>['hip hop', 'rap']</td>\n      <td>['hip hop', 'rap']</td>\n      <td>rap</td>\n      <td>../mp3songs/48_genres_11_main_genres/Survival ...</td>\n      <td>[0 0 0 0 0 0 0 0 0 0 0 0 0 0 0 0 0 0 0 0 0 0 0...</td>\n      <td>[-0.5984508991241455, -0.21273860335350037, 0....</td>\n      <td>[-4.477705478668213, -2.5627753734588623, -2.5...</td>\n      <td>[-4.634706020355225, -2.2025468349456787, -2.5...</td>\n      <td>[2.7665234  2.2206402  2.4165297  2.279251   1...</td>\n    </tr>\n    <tr>\n      <th>2</th>\n      <td>That Day Will Come</td>\n      <td>Capleton</td>\n      <td>6D4eMFcg3DquhNOQsNanQk</td>\n      <td>https://p.scdn.co/mp3-preview/d33eccef67aaf6ac...</td>\n      <td>https://i.scdn.co/image/ab67616d0000b27352630f...</td>\n      <td>0.672</td>\n      <td>0.839</td>\n      <td>-5.034</td>\n      <td>0.1140</td>\n      <td>0.06740</td>\n      <td>...</td>\n      <td>21J3YJTyq1biE3SvSNjzuf</td>\n      <td>['reggae', 'roots reggae']</td>\n      <td>['reggae', 'roots reggae']</td>\n      <td>reggae</td>\n      <td>../mp3songs/48_genres_11_main_genres/That Day ...</td>\n      <td>[0 0 0 0 0 0 0 0 0 0 0 0 0 0 0 0 0 0 0 0 0 0 0...</td>\n      <td>[-0.6541938781738281, 0.03160589933395386, 0.2...</td>\n      <td>[-4.383584022521973, -2.044909715652466, -1.62...</td>\n      <td>[-5.128568172454834, -2.1408400535583496, -2.6...</td>\n      <td>[2.2732286  2.584271   3.2119744  2.348352   1...</td>\n    </tr>\n    <tr>\n      <th>3</th>\n      <td>Already Gone</td>\n      <td>Kelly Clarkson</td>\n      <td>4fq2YUONcgrCJ2SPndSeKC</td>\n      <td>https://p.scdn.co/mp3-preview/660bd02563cebe61...</td>\n      <td>https://i.scdn.co/image/ab67616d0000b2737ed879...</td>\n      <td>0.209</td>\n      <td>0.872</td>\n      <td>-2.996</td>\n      <td>0.0757</td>\n      <td>0.21700</td>\n      <td>...</td>\n      <td>3BmGtnKgCSGYIUhmivXKWX</td>\n      <td>['dance pop', 'pop']</td>\n      <td>['dance pop', 'pop']</td>\n      <td>pop</td>\n      <td>../mp3songs/48_genres_11_main_genres/Already G...</td>\n      <td>[0 0 0 0 0 1 0 0 0 0 0 0 0 0 0 0 0 0 0 0 0 0 0...</td>\n      <td>[-0.4340738356113434, -0.13108360767364502, 0....</td>\n      <td>[-3.3959813117980957, -1.1046748161315918, -1....</td>\n      <td>[-5.52520751953125, -1.0195895433425903, -0.75...</td>\n      <td>[2.3422306  2.3426332  2.685641   2.38519    2...</td>\n    </tr>\n    <tr>\n      <th>4</th>\n      <td>The Drugs</td>\n      <td>The Holdup</td>\n      <td>6CTxqx9pxaoOxOYZSbsqDc</td>\n      <td>https://p.scdn.co/mp3-preview/c544ea6c0d9720a9...</td>\n      <td>https://i.scdn.co/image/ab67616d0000b273a580ae...</td>\n      <td>0.723</td>\n      <td>0.810</td>\n      <td>-3.983</td>\n      <td>0.0338</td>\n      <td>0.03370</td>\n      <td>...</td>\n      <td>1gwTohHbTpE3qdPyDvnOEu</td>\n      <td>['reggae fusion']</td>\n      <td>['reggae fusion']</td>\n      <td>reggae</td>\n      <td>../mp3songs/48_genres_11_main_genres/The Drugs...</td>\n      <td>[0 0 0 0 0 0 0 0 0 0 0 0 0 0 0 0 0 0 0 1 0 0 0...</td>\n      <td>[-1.0772324800491333, 0.011838555335998535, 0....</td>\n      <td>[-6.385115623474121, -1.9373447895050049, -2.0...</td>\n      <td>[-6.066783905029297, -1.9855862855911255, -1.5...</td>\n      <td>[2.1347637  2.1387303  3.246513   2.245867   1...</td>\n    </tr>\n    <tr>\n      <th>...</th>\n      <td>...</td>\n      <td>...</td>\n      <td>...</td>\n      <td>...</td>\n      <td>...</td>\n      <td>...</td>\n      <td>...</td>\n      <td>...</td>\n      <td>...</td>\n      <td>...</td>\n      <td>...</td>\n      <td>...</td>\n      <td>...</td>\n      <td>...</td>\n      <td>...</td>\n      <td>...</td>\n      <td>...</td>\n      <td>...</td>\n      <td>...</td>\n      <td>...</td>\n      <td>...</td>\n    </tr>\n    <tr>\n      <th>839</th>\n      <td>The Good, the Bad and the Dirty</td>\n      <td>Panic! At The Disco</td>\n      <td>5eoZTdiq4C4aoEfUwAN0ha</td>\n      <td>https://p.scdn.co/mp3-preview/f37091eef36c052b...</td>\n      <td>https://i.scdn.co/image/ab67616d0000b27323152d...</td>\n      <td>0.531</td>\n      <td>0.825</td>\n      <td>-5.333</td>\n      <td>0.0545</td>\n      <td>0.00191</td>\n      <td>...</td>\n      <td>20JZFwl6HVl6yg8a4H3ZqK</td>\n      <td>['pop']</td>\n      <td>['pop']</td>\n      <td>pop</td>\n      <td>../mp3songs/48_genres_11_main_genres/The Good,...</td>\n      <td>[0 0 0 0 0 0 0 0 0 0 0 0 0 0 0 0 0 0 0 0 0 0 0...</td>\n      <td>[-0.633353590965271, -0.1372760832309723, 0.10...</td>\n      <td>[-4.58098030090332, -2.0702669620513916, -2.02...</td>\n      <td>[-5.9073100090026855, -2.2739641666412354, -3....</td>\n      <td>[2.212627   2.329846   2.4827034  2.4413834  1...</td>\n    </tr>\n    <tr>\n      <th>840</th>\n      <td>The End Is Where We Begin</td>\n      <td>Thousand Foot Krutch</td>\n      <td>1Ou0kPQcfXuLVYUKV8KUox</td>\n      <td>https://p.scdn.co/mp3-preview/5037771d0b7498bc...</td>\n      <td>https://i.scdn.co/image/ab67616d0000b273405821...</td>\n      <td>0.463</td>\n      <td>0.876</td>\n      <td>-4.190</td>\n      <td>0.0529</td>\n      <td>0.00205</td>\n      <td>...</td>\n      <td>6GfiCQDFYANz5wUkSmb3Dr</td>\n      <td>['alternative metal']</td>\n      <td>['alternative metal']</td>\n      <td>metal</td>\n      <td>../mp3songs/48_genres_11_main_genres/The End I...</td>\n      <td>[0 0 0 0 0 0 0 0 0 0 0 0 0 0 0 0 0 0 0 0 0 0 0...</td>\n      <td>[-0.736586332321167, -0.00830000638961792, -0....</td>\n      <td>[-8.500086784362793, -3.2871286869049072, -3.3...</td>\n      <td>[-5.80438232421875, -2.217241048812866, -0.391...</td>\n      <td>[2.055967   2.2873874  2.8332672  2.7910056  2...</td>\n    </tr>\n    <tr>\n      <th>841</th>\n      <td>Put Your Lights On (feat. Everlast)</td>\n      <td>Santana</td>\n      <td>3uRaD26t3RkJ8n549udQ83</td>\n      <td>https://p.scdn.co/mp3-preview/3d6e38a7feb56d15...</td>\n      <td>https://i.scdn.co/image/ab67616d0000b27347eb3e...</td>\n      <td>0.606</td>\n      <td>0.834</td>\n      <td>-6.101</td>\n      <td>0.0369</td>\n      <td>0.01550</td>\n      <td>...</td>\n      <td>6GI52t8N5F02MxU0g5U69P</td>\n      <td>['classic rock']</td>\n      <td>['classic rock']</td>\n      <td>rock</td>\n      <td>../mp3songs/48_genres_11_main_genres/Put Your ...</td>\n      <td>[0 0 0 0 0 0 0 0 1 0 0 0 0 0 0 0 0 0 0 0 0 0 0...</td>\n      <td>[-0.7161309719085693, -0.11904561519622803, 0....</td>\n      <td>[-2.987689733505249, -1.489028811454773, -2.09...</td>\n      <td>[-6.011346817016602, -2.080354690551758, -1.35...</td>\n      <td>[2.2334995  2.4151835  2.960587   2.5212998  2...</td>\n    </tr>\n    <tr>\n      <th>842</th>\n      <td>Drink to That All Night</td>\n      <td>Jerrod Niemann</td>\n      <td>3M31S6f0z8S3nkFh3eS06W</td>\n      <td>https://p.scdn.co/mp3-preview/3e1f057daa61f7a1...</td>\n      <td>https://i.scdn.co/image/ab67616d0000b2736fcccc...</td>\n      <td>0.639</td>\n      <td>0.846</td>\n      <td>-6.184</td>\n      <td>0.0439</td>\n      <td>0.03250</td>\n      <td>...</td>\n      <td>0RKP52f5PNDCRZ9Luq2Sr7</td>\n      <td>['contemporary country', 'country road']</td>\n      <td>['contemporary country', 'country road']</td>\n      <td>country</td>\n      <td>../mp3songs/48_genres_11_main_genres/Drink to ...</td>\n      <td>[0 0 0 0 0 0 0 0 0 0 1 0 0 0 0 0 0 0 0 0 0 0 0...</td>\n      <td>[-0.6121714115142822, -0.09478384256362915, 0....</td>\n      <td>[-4.983516693115234, -1.551437258720398, -1.91...</td>\n      <td>[-5.415207386016846, -2.002927303314209, -2.12...</td>\n      <td>[2.4632046  2.2667255  2.9979198  2.2731826  1...</td>\n    </tr>\n    <tr>\n      <th>843</th>\n      <td>You Can't Save Me</td>\n      <td>SiR</td>\n      <td>5LKzqs734Xs528hqK8bGS1</td>\n      <td>https://p.scdn.co/mp3-preview/65cf0682c523ec2b...</td>\n      <td>https://i.scdn.co/image/ab67616d0000b273bbee54...</td>\n      <td>0.623</td>\n      <td>0.585</td>\n      <td>-7.895</td>\n      <td>0.1240</td>\n      <td>0.06280</td>\n      <td>...</td>\n      <td>3QTDHixorJelOLxoxcjqGx</td>\n      <td>['alternative r&amp;b']</td>\n      <td>['alternative r&amp;b']</td>\n      <td>rnb</td>\n      <td>../mp3songs/48_genres_11_main_genres/You Can't...</td>\n      <td>[0 0 0 0 0 0 0 0 0 0 0 0 0 0 0 0 0 0 0 0 0 0 0...</td>\n      <td>[-0.6132622957229614, 0.03110295534133911, 0.2...</td>\n      <td>[-4.409715175628662, -1.8983900547027588, -1.1...</td>\n      <td>[-4.796065807342529, -1.660236120223999, -1.87...</td>\n      <td>[2.2099254  2.278734   3.5323112  2.2055922  1...</td>\n    </tr>\n  </tbody>\n</table>\n<p>844 rows × 30 columns</p>\n</div>"
     },
     "metadata": {},
     "output_type": "display_data"
    }
   ],
   "source": [
    "import pandas as pd\n",
    "df = pd.read_csv('test_set_final_13main_59sub_genres.csv')\n",
    "display(df)"
   ],
   "metadata": {
    "collapsed": false,
    "ExecuteTime": {
     "start_time": "2025-03-19T13:34:40.959747Z",
     "end_time": "2025-03-19T13:34:44.085384Z"
    }
   }
  },
  {
   "cell_type": "code",
   "execution_count": 3,
   "outputs": [],
   "source": [],
   "metadata": {
    "collapsed": false,
    "ExecuteTime": {
     "start_time": "2025-02-18T08:52:56.877583Z",
     "end_time": "2025-02-18T08:52:56.888918Z"
    }
   }
  },
  {
   "cell_type": "code",
   "execution_count": 14,
   "outputs": [
    {
     "data": {
      "text/plain": "2048"
     },
     "execution_count": 14,
     "metadata": {},
     "output_type": "execute_result"
    }
   ],
   "source": [
    "# len(embedding)"
   ],
   "metadata": {
    "collapsed": false,
    "ExecuteTime": {
     "start_time": "2025-01-26T18:15:50.556437Z",
     "end_time": "2025-01-26T18:15:50.565017Z"
    }
   }
  },
  {
   "cell_type": "code",
   "execution_count": 15,
   "outputs": [
    {
     "data": {
      "text/plain": "array([0.        , 0.        , 0.        , ..., 0.03252791, 0.        ,\n       0.        ], dtype=float32)"
     },
     "execution_count": 15,
     "metadata": {},
     "output_type": "execute_result"
    }
   ],
   "source": [
    "# embedding"
   ],
   "metadata": {
    "collapsed": false,
    "ExecuteTime": {
     "start_time": "2025-01-26T18:15:53.956710Z",
     "end_time": "2025-01-26T18:15:53.962998Z"
    }
   }
  },
  {
   "cell_type": "code",
   "execution_count": 16,
   "outputs": [
    {
     "data": {
      "text/plain": "                                                   name  \\\n4                                    you broke me first   \n5                                 POPSTAR (feat. Drake)   \n6                                              Go Crazy   \n7                                          Midnight Sky   \n9                                  GREECE (feat. Drake)   \n15                                            Adore You   \n17                                              Falling   \n21                                              Perfect   \n27                                 Say You Won't Let Go   \n34                                         Shape of You   \n41                                               Closer   \n42                            No Guidance (feat. Drake)   \n46                                           Photograph   \n47                                    Thinking out Loud   \n55                                        XO Tour Llif3   \n58                                          Higher Love   \n65                                               20 Min   \n70                                          Billie Jean   \n100                                           EARFQUAKE   \n122                            Post Malone (feat. RANI)   \n123                                       Unforgettable   \n125                                          Devil Eyes   \n141                                         ORANGE SODA   \n152                                        Ayy Macarena   \n167                    See You Again (feat. Kali Uchis)   \n168   Or Nah (feat. The Weeknd, Wiz Khalifa & DJ Mus...   \n190                     Best Part (feat. Daniel Caesar)   \n270                                             Beat It   \n277                                     Boys Ain't Shit   \n280                                               Slide   \n283                                          Astronomia   \n285                                           Firestone   \n302                                                Body   \n358                     Smooth Criminal - 2012 Remaster   \n366                                  You Can Call Me Al   \n411                                          Sure Thing   \n443                         Be Honest (feat. Burna Boy)   \n497                                      Stole the Show   \n511                              Call on Me - Radio Mix   \n565                                          Purple Hat   \n625                                              Nevada   \n784                                           Follow Me   \n798                                          Drift Away   \n1111                                      Chattahoochee   \n1152                                         Highwayman   \n1176                                              Smile   \n1250                                      How Do I Live   \n1374                             Have I Told You Lately   \n1377                          A Country Boy Can Survive   \n1780                                          Graceland   \n1783                        It's Five O'Clock Somewhere   \n1946                        When You Say Nothing At All   \n2024                          Can't Fight The Moonlight   \n2107                                     Days Like This   \n2169                 Diamonds on the Soles of Her Shoes   \n2892                                   Someone Like You   \n3455                                Late in the Evening   \n3867                                  Slip Slidin' Away   \n4283                                 These Are the Days   \n4568                              Make You Feel My Love   \n\n                             artist              spotify_id  \\\n4                        Tate McRae  45bE4HXI0AwGZXfZtMp8JR   \n5                         DJ Khaled  6EDO9iiTtwNv6waLwa1UUq   \n6                       Chris Brown  1IIKrJVP1C9N7iPtG6eOsK   \n7                       Miley Cyrus  27ycaQnQAxaPiyeg3nr2aB   \n9                         DJ Khaled  35RJhm1pEovTBwnNR0zWad   \n15                     Harry Styles  3jjujdWJ72nww5eGnfs2E7   \n17                     Harry Styles  1ZMiCix7XSAbfAJlEZWMCp   \n21                       Ed Sheeran  0tgVpDi06FyKpA1z0VMD4v   \n27                     James Arthur  5uCax9HTNlzGybIStD3vDh   \n34                       Ed Sheeran  7qiZfU4dY1lWllzX7mPBI3   \n41                 The Chainsmokers  7BKLCZ1jbUBVqRi2FVlTVw   \n42                      Chris Brown  6XHVuErjQ4XNm6nDPVCxVX   \n46                       Ed Sheeran  1HNkqx9Ahdgi1Ixy2xkKkL   \n47                       Ed Sheeran  34gCuhDGsG4bRPIf9bb02f   \n55                     Lil Uzi Vert  7GX5flRQZVHRAGd6B4TmDO   \n58                             Kygo  6oJ6le65B3SEqPwMRNXWjY   \n65                     Lil Uzi Vert  0uxSUdBrJy9Un0EYoBowng   \n70                  Michael Jackson  5ChkMS8OtdzJeqyybCc9R5   \n100              Tyler, The Creator  5hVghJ4KaYES3BFUATCYn0   \n122                       Sam Feldt  0qc4QlcCxVTGyShurEv1UU   \n123                  French Montana  3B54sVLJ402zGa6Xm4YGNe   \n125                 Hippie Sabotage  7MiZjKawmXTsTNePyTfPyL   \n141                       Baby Keem  5FkoSXiJPKTNyYgALRJFhD   \n152                            Tyga  6LcauUZjF1eXQrgqMUecHX   \n167              Tyler, The Creator  7KA4W4McWYRpgf0fWsJZWB   \n168                   Ty Dolla $ign  7t2bFihaDvhIrd2gn2CWJO   \n190                          H.E.R.  4OBZT9EnhYIV17t4pGw7ig   \n270                 Michael Jackson  1OOtq8tRnDM8kG2gqUPjAj   \n277                        SAYGRACE  6vzLbfskWigBsCzNdB0kfE   \n280                          H.E.R.  2rTnVB1bvwxHtaIl4uVu7f   \n283                        Vicetone  3hWfKBt3n7j1xqIy6LA5ve   \n285                            Kygo  1I8tHoNBFTuoJAlh4hfVVE   \n302                     Loud Luxury  21RzyxY3EFaxVy6K4RqaU9   \n358                 Michael Jackson  2bCQHF9gdG5BNDVuEIEnNk   \n366                      Paul Simon  0qxYx4F3vm1AOnfux6dDxP   \n411                          Miguel  0JXXNGljqupsJaZsgSbMZV   \n443                     Jorja Smith  5pAbCxt9e3f81lOmjIXwzd   \n497                            Kygo  5masKPHeAOVNgxdLebIcK7   \n511                      Eric Prydz  1xNcBAoUw8Hz6LqK2jt4Ff   \n565                     Sofi Tukker  0bGH7ezs7WdDwpqnsvGf1z   \n625                        Vicetone  02shCNmb6IvgB5jLqKjtkK   \n784                   Uncle Kracker  4KoecuyOpZaNFZ0UqVsllc   \n798                   Uncle Kracker  0RFgvrhkf9FiDRLA0BhzpZ   \n1111                   Alan Jackson  59kHPbwyyCApYA8RQQEuXm   \n1152                 The Highwaymen  7jWbXvrgdbkajU8L28ahn5   \n1176                  Uncle Kracker  4ZC8hXXqu2hPcDLw9QTdtQ   \n1250                    LeAnn Rimes  7BD50ATrF3Vab5FQy7vtK8   \n1374                   Van Morrison  1VsGYaCBFjCVudtX9IGqDg   \n1377             Hank Williams, Jr.  77dcKrzRUI02XjHd2okARp   \n1780                     Paul Simon  51KKQAgYFoJHgVIuJWHdHb   \n1783                   Alan Jackson  5oHHMDcVOmPSFrCgdbHPdb   \n1946  Alison Krauss & Union Station  46LI9mnlQ8fJHH47ioBubg   \n2024                    LeAnn Rimes  2AogRMqARWyUP7VQ3gmSoY   \n2107                   Van Morrison  3xINh6YqkLfucEtjoa4x7D   \n2169                     Paul Simon  71GvlH0VdeClloLIkHrAVu   \n2892                   Van Morrison  4beWEVoUbjSziAFPy8voaF   \n3455                     Paul Simon  2h23bjG8B3bcD47HBu6bHG   \n3867                     Paul Simon  0zb2kpEQMnqJPiLACKMiFM   \n4283                   Van Morrison  0qyAgwtnMU6AOszUw0DWTe   \n4568                      Bob Dylan  6rfGPGghQL7SJmZPXprXIc   \n\n                                                preview  \\\n4     https://p.scdn.co/mp3-preview/47afb10323067e82...   \n5     https://p.scdn.co/mp3-preview/f06dde2517250354...   \n6     https://p.scdn.co/mp3-preview/cd1e4584425d4be8...   \n7     https://p.scdn.co/mp3-preview/837e5649e915ca76...   \n9     https://p.scdn.co/mp3-preview/730e8f890f342ab3...   \n15    https://p.scdn.co/mp3-preview/2dbeaa922270b337...   \n17    https://p.scdn.co/mp3-preview/755e88e49f038885...   \n21    https://p.scdn.co/mp3-preview/9779493d90a47f29...   \n27    https://p.scdn.co/mp3-preview/00825cb1779b31d6...   \n34    https://p.scdn.co/mp3-preview/84462d8e1e4d0f9e...   \n41    https://p.scdn.co/mp3-preview/8d3df1c64907cb18...   \n42    https://p.scdn.co/mp3-preview/7c3bc7b4d1741a00...   \n46    https://p.scdn.co/mp3-preview/097c7b735ceb4109...   \n47    https://p.scdn.co/mp3-preview/7fba47d0806142cb...   \n55    https://p.scdn.co/mp3-preview/7add10ee576e9017...   \n58    https://p.scdn.co/mp3-preview/a74efdaa12f70867...   \n65    https://p.scdn.co/mp3-preview/839fb8d9ef7958ac...   \n70    https://p.scdn.co/mp3-preview/f504e6b8e0377713...   \n100   https://p.scdn.co/mp3-preview/d6528c193bac76f7...   \n122   https://p.scdn.co/mp3-preview/b74cd0ca94e2907b...   \n123   https://p.scdn.co/mp3-preview/3814de3ede744556...   \n125   https://p.scdn.co/mp3-preview/dd5388e277a34183...   \n141   https://p.scdn.co/mp3-preview/e73b574011e43a3a...   \n152   https://p.scdn.co/mp3-preview/8fc019547a3bcf54...   \n167   https://p.scdn.co/mp3-preview/e9e8d9fce04ab59c...   \n168   https://p.scdn.co/mp3-preview/70f126c139847335...   \n190   https://p.scdn.co/mp3-preview/863e2a899be2340a...   \n270   https://p.scdn.co/mp3-preview/4901df6e0f8bf6ce...   \n277   https://p.scdn.co/mp3-preview/fd9c6828b7c5196a...   \n280   https://p.scdn.co/mp3-preview/93882ea1384208a1...   \n283   https://p.scdn.co/mp3-preview/76175ba50f727200...   \n285   https://p.scdn.co/mp3-preview/f91af8bcd21a11a1...   \n302   https://p.scdn.co/mp3-preview/cc8dc2d90a923e02...   \n358   https://p.scdn.co/mp3-preview/8dcbe2702477ac98...   \n366   https://p.scdn.co/mp3-preview/ff8c2381dbea9e5c...   \n411   https://p.scdn.co/mp3-preview/d2ea23d1d8efbf03...   \n443   https://p.scdn.co/mp3-preview/55bfb31d5fbbc268...   \n497   https://p.scdn.co/mp3-preview/b5f2f3e09b0fea53...   \n511   https://p.scdn.co/mp3-preview/1ebddc935c487dde...   \n565   https://p.scdn.co/mp3-preview/02ce7f41c2dee57e...   \n625   https://p.scdn.co/mp3-preview/3fdbd9870e39d5da...   \n784   https://p.scdn.co/mp3-preview/482cf9985443c2e4...   \n798   https://p.scdn.co/mp3-preview/70de6989fcebb7c1...   \n1111  https://p.scdn.co/mp3-preview/bdecab377b84c0fd...   \n1152  https://p.scdn.co/mp3-preview/e076d5c991daae54...   \n1176  https://p.scdn.co/mp3-preview/be7278bd9f4601b9...   \n1250  https://p.scdn.co/mp3-preview/dfd7958f815b8496...   \n1374  https://p.scdn.co/mp3-preview/584755baaebc561a...   \n1377  https://p.scdn.co/mp3-preview/6c278f980b5594b4...   \n1780  https://p.scdn.co/mp3-preview/7e2256807c1cccc8...   \n1783  https://p.scdn.co/mp3-preview/235e8af3a26f3d8e...   \n1946  https://p.scdn.co/mp3-preview/b161bace583d8c3c...   \n2024  https://p.scdn.co/mp3-preview/84b0ad9f6dddec18...   \n2107  https://p.scdn.co/mp3-preview/80727f36ce4de08c...   \n2169  https://p.scdn.co/mp3-preview/75b35e78582e255a...   \n2892  https://p.scdn.co/mp3-preview/f410cb5284156bde...   \n3455  https://p.scdn.co/mp3-preview/282dd09a7ed3a6e4...   \n3867  https://p.scdn.co/mp3-preview/fe4b595d8c7892c0...   \n4283  https://p.scdn.co/mp3-preview/27d2a655a4659723...   \n4568  https://p.scdn.co/mp3-preview/a5b57bd6404b5ecf...   \n\n                                                    img  danceability  energy  \\\n4     https://i.scdn.co/image/ab67616d0000b2730c2c97...         0.642   0.374   \n5     https://i.scdn.co/image/ab67616d0000b273efaecb...         0.800   0.560   \n6     https://i.scdn.co/image/ab67616d0000b27363e0dd...         0.755   0.578   \n7     https://i.scdn.co/image/ab67616d0000b273d59c3c...         0.705   0.814   \n9     https://i.scdn.co/image/ab67616d0000b2737db0d2...         0.695   0.343   \n15    https://i.scdn.co/image/ab67616d0000b27377fdcf...         0.676   0.771   \n17    https://i.scdn.co/image/ab67616d0000b27377fdcf...         0.567   0.267   \n21    https://i.scdn.co/image/ab67616d0000b273ba5db4...         0.599   0.448   \n27    https://i.scdn.co/image/ab67616d0000b27320beb6...         0.358   0.557   \n34    https://i.scdn.co/image/ab67616d0000b273ba5db4...         0.825   0.652   \n41    https://i.scdn.co/image/ab67616d0000b273495ce6...         0.748   0.524   \n42    https://i.scdn.co/image/ab67616d0000b2739e588b...         0.698   0.454   \n46    https://i.scdn.co/image/ab67616d0000b27313b3e3...         0.614   0.379   \n47    https://i.scdn.co/image/ab67616d0000b27313b3e3...         0.781   0.445   \n55    https://i.scdn.co/image/ab67616d0000b27341b41e...         0.732   0.750   \n58    https://i.scdn.co/image/ab67616d0000b2737c8977...         0.693   0.678   \n65    https://i.scdn.co/image/ab67616d0000b2730d5a84...         0.773   0.750   \n70    https://i.scdn.co/image/ab67616d0000b2734121fa...         0.920   0.654   \n100   https://i.scdn.co/image/ab67616d0000b273700588...         0.554   0.498   \n122   https://i.scdn.co/image/ab67616d0000b27354de16...         0.590   0.642   \n123   https://i.scdn.co/image/ab67616d0000b2738a3119...         0.726   0.769   \n125   https://i.scdn.co/image/ab67616d0000b273ecdad1...         0.391   0.396   \n141   https://i.scdn.co/image/ab67616d0000b273683757...         0.830   0.564   \n152   https://i.scdn.co/image/ab67616d0000b27309cd3b...         0.816   0.630   \n167   https://i.scdn.co/image/ab67616d0000b2738940ac...         0.558   0.559   \n168   https://i.scdn.co/image/ab67616d0000b2731c04ef...         0.805   0.330   \n190   https://i.scdn.co/image/ab67616d0000b273b5d9c8...         0.473   0.371   \n270   https://i.scdn.co/image/ab67616d0000b2734121fa...         0.779   0.867   \n277   https://i.scdn.co/image/ab67616d0000b27353946e...         0.826   0.615   \n280   https://i.scdn.co/image/ab67616d0000b2735cba0b...         0.827   0.469   \n283   https://i.scdn.co/image/ab67616d0000b27345c900...         0.653   0.945   \n285   https://i.scdn.co/image/ab67616d0000b27335590c...         0.704   0.634   \n302   https://i.scdn.co/image/ab67616d0000b273af5e18...         0.752   0.764   \n358   https://i.scdn.co/image/ab67616d0000b2731bb21d...         0.853   0.981   \n366   https://i.scdn.co/image/ab67616d0000b27309880a...         0.776   0.763   \n411   https://i.scdn.co/image/ab67616d0000b273d5a839...         0.684   0.603   \n443   https://i.scdn.co/image/ab67616d0000b2730d4b41...         0.757   0.737   \n497   https://i.scdn.co/image/ab67616d0000b27335590c...         0.640   0.635   \n511   https://i.scdn.co/image/ab67616d0000b2731cd65e...         0.597   0.837   \n565   https://i.scdn.co/image/ab67616d0000b273818685...         0.777   0.744   \n625   https://i.scdn.co/image/ab67616d0000b273f48a2a...         0.605   0.783   \n784   https://i.scdn.co/image/ab67616d0000b2739bb9d6...         0.817   0.585   \n798   https://i.scdn.co/image/ab67616d0000b273efbcab...         0.583   0.660   \n1111  https://i.scdn.co/image/ab67616d0000b273933cf6...         0.606   0.706   \n1152  https://i.scdn.co/image/ab67616d0000b2735b819a...         0.670   0.351   \n1176  https://i.scdn.co/image/ab67616d0000b273b51c32...         0.541   0.812   \n1250  https://i.scdn.co/image/ab67616d0000b273b8a740...         0.577   0.462   \n1374  https://i.scdn.co/image/ab67616d0000b273202a4b...         0.344   0.477   \n1377  https://i.scdn.co/image/ab67616d0000b273401829...         0.688   0.459   \n1780  https://i.scdn.co/image/ab67616d0000b27309880a...         0.732   0.705   \n1783  https://i.scdn.co/image/ab67616d0000b273992151...         0.713   0.772   \n1946  https://i.scdn.co/image/ab67616d0000b273f1f17f...         0.509   0.242   \n2024  https://i.scdn.co/image/ab67616d0000b2735cf523...         0.628   0.834   \n2107  https://i.scdn.co/image/ab67616d0000b273716d4c...         0.660   0.541   \n2169  https://i.scdn.co/image/ab67616d0000b27309880a...         0.791   0.677   \n2892  https://i.scdn.co/image/ab67616d0000b2738c7816...         0.474   0.351   \n3455  https://i.scdn.co/image/ab67616d0000b27329fa77...         0.720   0.880   \n3867  https://i.scdn.co/image/ab67616d0000b2737075e4...         0.641   0.409   \n4283  https://i.scdn.co/image/ab67616d0000b273202a4b...         0.563   0.400   \n4568  https://i.scdn.co/image/ab67616d0000b273fa4240...         0.375   0.219   \n\n      loudness  speechiness  acousticness  ...  danceability_artist  \\\n4       -9.386       0.0545       0.78600  ...             0.617000   \n5       -4.818       0.2610       0.05700  ...             0.634541   \n6       -8.932       0.1450       0.31600  ...             0.660851   \n7       -5.466       0.0346       0.00115  ...             0.568616   \n9      -10.798       0.0432       0.07430  ...             0.634541   \n15      -3.675       0.0483       0.02370  ...             0.541462   \n17      -6.502       0.0299       0.83900  ...             0.541462   \n21      -6.312       0.0232       0.16300  ...             0.660442   \n27      -7.398       0.0590       0.69500  ...             0.453781   \n34      -3.183       0.0802       0.58100  ...             0.660442   \n41      -5.599       0.0338       0.41400  ...             0.605326   \n42      -6.756       0.1510       0.12300  ...             0.660851   \n46     -10.480       0.0476       0.60700  ...             0.660442   \n47      -6.061       0.0295       0.47400  ...             0.660442   \n55      -6.366       0.2310       0.00264  ...             0.763695   \n58      -7.159       0.0324       0.01540  ...             0.629631   \n65      -4.009       0.1170       0.10900  ...             0.763695   \n70      -3.051       0.0401       0.02360  ...             0.709716   \n100     -8.866       0.0685       0.23000  ...             0.553979   \n122     -3.870       0.1220       0.07710  ...             0.665300   \n123     -5.043       0.1230       0.02930  ...             0.672588   \n125     -8.621       0.1890       0.70200  ...             0.439455   \n141     -7.822       0.2350       0.17700  ...             0.797250   \n152     -5.568       0.2260       0.13300  ...             0.808690   \n167     -9.222       0.0959       0.37100  ...             0.553979   \n168     -8.712       0.1000       0.22000  ...             0.689605   \n190    -10.219       0.0405       0.79500  ...             0.540486   \n270     -3.704       0.0457       0.04910  ...             0.709716   \n277     -4.729       0.1370       0.43500  ...             0.624200   \n280     -9.141       0.3410       0.08070  ...             0.540486   \n283     -2.634       0.0960       0.00561  ...             0.607800   \n285     -7.374       0.0428       0.39300  ...             0.629631   \n302     -4.399       0.0380       0.04760  ...             0.745000   \n358     -3.947       0.0751       0.24700  ...             0.709716   \n366     -8.124       0.0535       0.18200  ...             0.553000   \n411     -8.127       0.0989       0.02750  ...             0.616706   \n443     -6.728       0.1140       0.31100  ...             0.622364   \n497     -7.565       0.2260       0.27100  ...             0.629631   \n511     -6.518       0.3750       0.00427  ...             0.595714   \n565     -7.420       0.2040       0.33100  ...             0.727125   \n625     -4.271       0.0324       0.29900  ...             0.607800   \n784     -4.688       0.0301       0.43900  ...             0.722143   \n798     -5.078       0.0377       0.18100  ...             0.722143   \n1111    -9.665       0.0379       0.36200  ...             0.631983   \n1152   -16.842       0.0463       0.48000  ...             0.645613   \n1176    -3.764       0.0336       0.20300  ...             0.722143   \n1250    -7.989       0.0279       0.12800  ...             0.551625   \n1374   -10.266       0.0338       0.27800  ...             0.551523   \n1377    -9.353       0.0365       0.14400  ...             0.618721   \n1780    -9.271       0.0349       0.62600  ...             0.553000   \n1783    -6.690       0.0372       0.20800  ...             0.631983   \n1946   -13.353       0.0291       0.71400  ...             0.491875   \n2024    -6.341       0.0497       0.40300  ...             0.551625   \n2107    -7.851       0.0576       0.65800  ...             0.551523   \n2169    -9.724       0.0356       0.77600  ...             0.553000   \n2892    -8.296       0.0286       0.38200  ...             0.551523   \n3455    -8.988       0.0406       0.19900  ...             0.553000   \n3867   -12.452       0.0348       0.74300  ...             0.553000   \n4283   -10.480       0.0248       0.40400  ...             0.551523   \n4568   -13.112       0.0288       0.78000  ...             0.512598   \n\n      energy_artist  instrumentalness_artist  liveness_artist  \\\n4          0.410176             2.558588e-05         0.172071   \n5          0.753162             3.464865e-07         0.297568   \n6          0.640302             7.828409e-05         0.172564   \n7          0.735849             8.239315e-05         0.170552   \n9          0.753162             3.464865e-07         0.297568   \n15         0.586769             1.680888e-02         0.156208   \n17         0.586769             1.680888e-02         0.156208   \n21         0.503588             2.381436e-04         0.176192   \n27         0.548656             3.431875e-06         0.135084   \n34         0.503588             2.381436e-04         0.176192   \n41         0.692739             3.561236e-02         0.149046   \n42         0.640302             7.828409e-05         0.172564   \n46         0.503588             2.381436e-04         0.176192   \n47         0.503588             2.381436e-04         0.176192   \n55         0.630539             4.279835e-07         0.205406   \n58         0.616569             4.608322e-02         0.137303   \n65         0.630539             4.279835e-07         0.205406   \n70         0.693224             4.598462e-02         0.196165   \n100        0.640938             2.124496e-02         0.313290   \n122        0.759500             9.923700e-05         0.139500   \n123        0.697941             3.016118e-04         0.265153   \n125        0.513818             2.121489e-01         0.225209   \n141        0.554000             3.000842e-02         0.268750   \n152        0.634920             1.190485e-04         0.150545   \n167        0.640938             2.124496e-02         0.313290   \n168        0.592333             3.597148e-04         0.204565   \n190        0.437200             9.393657e-05         0.139806   \n270        0.693224             4.598462e-02         0.196165   \n277        0.633600             2.541560e-03         0.239880   \n280        0.437200             9.393657e-05         0.139806   \n283        0.863800             3.660604e-01         0.251600   \n285        0.616569             4.608322e-02         0.137303   \n302        0.779778             2.334211e-04         0.194589   \n358        0.693224             4.598462e-02         0.196165   \n366        0.691000             6.530000e-03         0.495000   \n411        0.419471             1.105373e-02         0.121182   \n443        0.508091             7.109341e-02         0.105482   \n497        0.616569             4.608322e-02         0.137303   \n511        0.844000             3.398200e-01         0.566571   \n565        0.780250             1.771329e-01         0.164825   \n625        0.863800             3.660604e-01         0.251600   \n784        0.755667             1.091429e-06         0.257181   \n798        0.755667             1.091429e-06         0.257181   \n1111       0.532313             4.498584e-03         0.169340   \n1152       0.462839             4.628223e-02         0.142406   \n1176       0.755667             1.091429e-06         0.257181   \n1250       0.558375             2.693875e-05         0.112431   \n1374       0.503300             2.542272e-02         0.229074   \n1377       0.531600             9.150396e-04         0.156218   \n1780       0.691000             6.530000e-03         0.495000   \n1783       0.532313             4.498584e-03         0.169340   \n1946       0.337500             2.327798e-02         0.124088   \n2024       0.558375             2.693875e-05         0.112431   \n2107       0.503300             2.542272e-02         0.229074   \n2169       0.691000             6.530000e-03         0.495000   \n2892       0.503300             2.542272e-02         0.229074   \n3455       0.691000             6.530000e-03         0.495000   \n3867       0.691000             6.530000e-03         0.495000   \n4283       0.503300             2.542272e-02         0.229074   \n4568       0.477932             3.421143e-02         0.308978   \n\n      speechiness_artist  valence_artist               artist_id  \\\n4               0.066106        0.309882  45dkTj5sMRSjrmBSBeiHym   \n5               0.159468        0.482432  0QHgL1lAIqAw0HtD7YldmP   \n6               0.130031        0.486374  7bXgB6jMjp9ATFy66eO08Z   \n7               0.063982        0.447863  5YGY8feqx7naU7z4HrwZM6   \n9               0.159468        0.482432  0QHgL1lAIqAw0HtD7YldmP   \n15              0.035888        0.406896  6KImCVD70vtIoJWnq6nGn3   \n17              0.035888        0.406896  6KImCVD70vtIoJWnq6nGn3   \n21              0.077594        0.508474  6eUKZXaKkcviH0Ku9w2n3V   \n27              0.054506        0.335281  4IWBUUAFIplrNtaOHcJPRM   \n34              0.077594        0.508474  6eUKZXaKkcviH0Ku9w2n3V   \n41              0.061326        0.386626  69GGBxA162lTqCwzJG5jLp   \n42              0.130031        0.486374  7bXgB6jMjp9ATFy66eO08Z   \n46              0.077594        0.508474  6eUKZXaKkcviH0Ku9w2n3V   \n47              0.077594        0.508474  6eUKZXaKkcviH0Ku9w2n3V   \n55              0.219207        0.435478  4O15NlyKLIASxsJ0PrXPfz   \n58              0.062498        0.385968  23fqKkggKUBHNkbKtXEls4   \n65              0.219207        0.435478  4O15NlyKLIASxsJ0PrXPfz   \n70              0.069310        0.625393  3fMbdgg4jU18AjLCKBhRSm   \n100             0.268795        0.465593  4V8LLVI7PbaPR0K2TGSxFF   \n122             0.061130        0.504600  20gsENnposVs2I4rQ5kvrf   \n123             0.149026        0.446824  6vXTefBL93Dj5IqAWq6OTv   \n125             0.109200        0.197809  4dM6NDYSfLcspt8GLoT5aE   \n141             0.171775        0.334250  5SXuuuRpukkTvsLuUknva1   \n152             0.166744        0.476069  5LHRHt1k9lMyONurDHEdrp   \n167             0.268795        0.465593  4V8LLVI7PbaPR0K2TGSxFF   \n168             0.122689        0.479400  7c0XG5cIJTrrAgEC3ULPiq   \n190             0.107746        0.328714  3Y7RZ31TRPVadSFVy1o8os   \n270             0.069310        0.625393  3fMbdgg4jU18AjLCKBhRSm   \n277             0.127760        0.589400  6y5amJcTjeDgLXIjtQLMst   \n280             0.107746        0.328714  3Y7RZ31TRPVadSFVy1o8os   \n283             0.078540        0.337600  0daugAjUgbJSqdlyYNwIbT   \n285             0.062498        0.385968  23fqKkggKUBHNkbKtXEls4   \n302             0.048711        0.470222  6t1gpxYbY8OlLA7D2RiikQ   \n358             0.069310        0.625393  3fMbdgg4jU18AjLCKBhRSm   \n366             0.076400        0.371000  2CvCyf1gEVhI0mX6aFXmVI   \n411             0.036559        0.494706  360IAlyVv4PCEVjgyMZrxK   \n443             0.113064        0.522182  1CoZyIx7UvdxT5c8UkMzHd   \n497             0.062498        0.385968  23fqKkggKUBHNkbKtXEls4   \n511             0.229871        0.513300  5sm0jQ1mq0dusiLtDJ2b4R   \n565             0.087225        0.464375  586uxXMyD5ObPuzjtrzO1Q   \n625             0.078540        0.337600  0daugAjUgbJSqdlyYNwIbT   \n784             0.043371        0.761810  2DnqqkzzDKm3vAoyHtn8So   \n798             0.043371        0.761810  2DnqqkzzDKm3vAoyHtn8So   \n1111            0.030963        0.581227  4mxWe1mtYIYfP040G38yvS   \n1152            0.048571        0.585548  6e7QpHYqEiyJGiM98IysLa   \n1176            0.043371        0.761810  2DnqqkzzDKm3vAoyHtn8So   \n1250            0.032669        0.379688  2d3VHzlOEwXvmBdS4pzOPL   \n1374            0.056894        0.602200  44NX2ffIYHr6D4n7RaZF7A   \n1377            0.043623        0.650446  2dyeCWctcFRt3Pha76ONgb   \n1780            0.076400        0.371000  2CvCyf1gEVhI0mX6aFXmVI   \n1783            0.030963        0.581227  4mxWe1mtYIYfP040G38yvS   \n1946            0.033287        0.479125  0bc7dhY6YXL35m1G0jVwuW   \n2024            0.032669        0.379688  2d3VHzlOEwXvmBdS4pzOPL   \n2107            0.056894        0.602200  44NX2ffIYHr6D4n7RaZF7A   \n2169            0.076400        0.371000  2CvCyf1gEVhI0mX6aFXmVI   \n2892            0.056894        0.602200  44NX2ffIYHr6D4n7RaZF7A   \n3455            0.076400        0.371000  2CvCyf1gEVhI0mX6aFXmVI   \n3867            0.076400        0.371000  2CvCyf1gEVhI0mX6aFXmVI   \n4283            0.056894        0.602200  44NX2ffIYHr6D4n7RaZF7A   \n4568            0.064535        0.551934  74ASZWbe4lXaubB36ztrGX   \n\n                                                 genres   first_genre  \\\n4                                               ['pop']           pop   \n5        ['hip hop', 'miami hip hop', 'pop rap', 'rap']       hip hop   \n6                                        ['r&b', 'rap']           r&b   \n7                                               ['pop']           pop   \n9        ['hip hop', 'miami hip hop', 'pop rap', 'rap']       hip hop   \n15                                              ['pop']           pop   \n17                                              ['pop']           pop   \n21           ['pop', 'singer-songwriter pop', 'uk pop']           pop   \n27                     ['pop', 'talent show', 'uk pop']           pop   \n34           ['pop', 'singer-songwriter pop', 'uk pop']           pop   \n41                                              ['pop']           pop   \n42                                       ['r&b', 'rap']           r&b   \n46           ['pop', 'singer-songwriter pop', 'uk pop']           pop   \n47           ['pop', 'singer-songwriter pop', 'uk pop']           pop   \n55    ['hip hop', 'melodic rap', 'philly rap', 'rage...       hip hop   \n58        ['edm', 'pop', 'pop dance', 'tropical house']           edm   \n65    ['hip hop', 'melodic rap', 'philly rap', 'rage...       hip hop   \n70                                      ['r&b', 'soul']           r&b   \n100                                  ['hip hop', 'rap']       hip hop   \n122              ['edm', 'pop dance', 'tropical house']           edm   \n123   ['hip hop', 'pop rap', 'rap', 'southern hip ho...       hip hop   \n125                          ['edm', 'electronic trap']           edm   \n141                                  ['hip hop', 'rap']       hip hop   \n152   ['hip hop', 'pop rap', 'rap', 'southern hip ho...       hip hop   \n167                                  ['hip hop', 'rap']       hip hop   \n168   ['hip hop', 'pop rap', 'r&b', 'southern hip ho...       hip hop   \n190                                      ['r&b', 'rap']           r&b   \n270                                     ['r&b', 'soul']           r&b   \n277                                             ['r&b']           r&b   \n280                                      ['r&b', 'rap']           r&b   \n283   ['edm', 'electro house', 'pop dance', 'progres...           edm   \n285       ['edm', 'pop', 'pop dance', 'tropical house']           edm   \n302                                ['edm', 'pop dance']           edm   \n358                                     ['r&b', 'soul']           r&b   \n366   ['classic rock', 'folk', 'folk rock', 'mellow ...  classic rock   \n411                       ['r&b', 'urban contemporary']           r&b   \n443                      ['r&b', 'uk contemporary r&b']           r&b   \n497       ['edm', 'pop', 'pop dance', 'tropical house']           edm   \n511   ['edm', 'electro house', 'house', 'pop dance',...           edm   \n565                                             ['edm']           edm   \n625   ['edm', 'electro house', 'pop dance', 'progres...           edm   \n784              ['country', 'pop rock', 'post-grunge']       country   \n798              ['country', 'pop rock', 'post-grunge']       country   \n1111                                        ['country']       country   \n1152      ['country', 'country rock', 'outlaw country']       country   \n1176             ['country', 'pop rock', 'post-grunge']       country   \n1250        ['country', 'country dawn', 'country road']       country   \n1374  ['classic rock', 'folk', 'folk rock', 'mellow ...  classic rock   \n1377      ['country', 'country rock', 'outlaw country']       country   \n1780  ['classic rock', 'folk', 'folk rock', 'mellow ...  classic rock   \n1783                                        ['country']       country   \n1946                        ['country', 'country road']       country   \n2024        ['country', 'country dawn', 'country road']       country   \n2107  ['classic rock', 'folk', 'folk rock', 'mellow ...  classic rock   \n2169  ['classic rock', 'folk', 'folk rock', 'mellow ...  classic rock   \n2892  ['classic rock', 'folk', 'folk rock', 'mellow ...  classic rock   \n3455  ['classic rock', 'folk', 'folk rock', 'mellow ...  classic rock   \n3867  ['classic rock', 'folk', 'folk rock', 'mellow ...  classic rock   \n4283  ['classic rock', 'folk', 'folk rock', 'mellow ...  classic rock   \n4568  ['classic rock', 'country rock', 'folk', 'folk...  classic rock   \n\n                                              file_path  \n4     ../mp3songs/spotify_dataset/you broke me first...  \n5     ../mp3songs/spotify_dataset/POPSTAR (feat. Dra...  \n6              ../mp3songs/spotify_dataset/Go Crazy.mp3  \n7          ../mp3songs/spotify_dataset/Midnight Sky.mp3  \n9     ../mp3songs/spotify_dataset/GREECE (feat. Drak...  \n15            ../mp3songs/spotify_dataset/Adore You.mp3  \n17              ../mp3songs/spotify_dataset/Falling.mp3  \n21              ../mp3songs/spotify_dataset/Perfect.mp3  \n27    ../mp3songs/spotify_dataset/Say You Won't Let ...  \n34         ../mp3songs/spotify_dataset/Shape of You.mp3  \n41               ../mp3songs/spotify_dataset/Closer.mp3  \n42    ../mp3songs/spotify_dataset/No Guidance (feat....  \n46           ../mp3songs/spotify_dataset/Photograph.mp3  \n47    ../mp3songs/spotify_dataset/Thinking out Loud.mp3  \n55        ../mp3songs/spotify_dataset/XO Tour Llif3.mp3  \n58          ../mp3songs/spotify_dataset/Higher Love.mp3  \n65               ../mp3songs/spotify_dataset/20 Min.mp3  \n70          ../mp3songs/spotify_dataset/Billie Jean.mp3  \n100           ../mp3songs/spotify_dataset/EARFQUAKE.mp3  \n122   ../mp3songs/spotify_dataset/Post Malone (feat....  \n123       ../mp3songs/spotify_dataset/Unforgettable.mp3  \n125          ../mp3songs/spotify_dataset/Devil Eyes.mp3  \n141         ../mp3songs/spotify_dataset/ORANGE SODA.mp3  \n152        ../mp3songs/spotify_dataset/Ayy Macarena.mp3  \n167   ../mp3songs/spotify_dataset/See You Again (fea...  \n168   ../mp3songs/spotify_dataset/Or Nah (feat. The ...  \n190   ../mp3songs/spotify_dataset/Best Part (feat. D...  \n270             ../mp3songs/spotify_dataset/Beat It.mp3  \n277     ../mp3songs/spotify_dataset/Boys Ain't Shit.mp3  \n280               ../mp3songs/spotify_dataset/Slide.mp3  \n283          ../mp3songs/spotify_dataset/Astronomia.mp3  \n285           ../mp3songs/spotify_dataset/Firestone.mp3  \n302                ../mp3songs/spotify_dataset/Body.mp3  \n358   ../mp3songs/spotify_dataset/Smooth Criminal - ...  \n366   ../mp3songs/spotify_dataset/You Can Call Me Al...  \n411          ../mp3songs/spotify_dataset/Sure Thing.mp3  \n443   ../mp3songs/spotify_dataset/Be Honest (feat. B...  \n497      ../mp3songs/spotify_dataset/Stole the Show.mp3  \n511   ../mp3songs/spotify_dataset/Call on Me - Radio...  \n565          ../mp3songs/spotify_dataset/Purple Hat.mp3  \n625              ../mp3songs/spotify_dataset/Nevada.mp3  \n784           ../mp3songs/spotify_dataset/Follow Me.mp3  \n798          ../mp3songs/spotify_dataset/Drift Away.mp3  \n1111      ../mp3songs/spotify_dataset/Chattahoochee.mp3  \n1152         ../mp3songs/spotify_dataset/Highwayman.mp3  \n1176              ../mp3songs/spotify_dataset/Smile.mp3  \n1250      ../mp3songs/spotify_dataset/How Do I Live.mp3  \n1374  ../mp3songs/spotify_dataset/Have I Told You La...  \n1377  ../mp3songs/spotify_dataset/A Country Boy Can ...  \n1780          ../mp3songs/spotify_dataset/Graceland.mp3  \n1783  ../mp3songs/spotify_dataset/It's Five O'Clock ...  \n1946  ../mp3songs/spotify_dataset/When You Say Nothi...  \n2024  ../mp3songs/spotify_dataset/Can't Fight The Mo...  \n2107     ../mp3songs/spotify_dataset/Days Like This.mp3  \n2169  ../mp3songs/spotify_dataset/Diamonds on the So...  \n2892   ../mp3songs/spotify_dataset/Someone Like You.mp3  \n3455  ../mp3songs/spotify_dataset/Late in the Evenin...  \n3867  ../mp3songs/spotify_dataset/Slip Slidin' Away.mp3  \n4283  ../mp3songs/spotify_dataset/These Are the Days...  \n4568  ../mp3songs/spotify_dataset/Make You Feel My L...  \n\n[60 rows x 24 columns]",
      "text/html": "<div>\n<style scoped>\n    .dataframe tbody tr th:only-of-type {\n        vertical-align: middle;\n    }\n\n    .dataframe tbody tr th {\n        vertical-align: top;\n    }\n\n    .dataframe thead th {\n        text-align: right;\n    }\n</style>\n<table border=\"1\" class=\"dataframe\">\n  <thead>\n    <tr style=\"text-align: right;\">\n      <th></th>\n      <th>name</th>\n      <th>artist</th>\n      <th>spotify_id</th>\n      <th>preview</th>\n      <th>img</th>\n      <th>danceability</th>\n      <th>energy</th>\n      <th>loudness</th>\n      <th>speechiness</th>\n      <th>acousticness</th>\n      <th>...</th>\n      <th>danceability_artist</th>\n      <th>energy_artist</th>\n      <th>instrumentalness_artist</th>\n      <th>liveness_artist</th>\n      <th>speechiness_artist</th>\n      <th>valence_artist</th>\n      <th>artist_id</th>\n      <th>genres</th>\n      <th>first_genre</th>\n      <th>file_path</th>\n    </tr>\n  </thead>\n  <tbody>\n    <tr>\n      <th>4</th>\n      <td>you broke me first</td>\n      <td>Tate McRae</td>\n      <td>45bE4HXI0AwGZXfZtMp8JR</td>\n      <td>https://p.scdn.co/mp3-preview/47afb10323067e82...</td>\n      <td>https://i.scdn.co/image/ab67616d0000b2730c2c97...</td>\n      <td>0.642</td>\n      <td>0.374</td>\n      <td>-9.386</td>\n      <td>0.0545</td>\n      <td>0.78600</td>\n      <td>...</td>\n      <td>0.617000</td>\n      <td>0.410176</td>\n      <td>2.558588e-05</td>\n      <td>0.172071</td>\n      <td>0.066106</td>\n      <td>0.309882</td>\n      <td>45dkTj5sMRSjrmBSBeiHym</td>\n      <td>['pop']</td>\n      <td>pop</td>\n      <td>../mp3songs/spotify_dataset/you broke me first...</td>\n    </tr>\n    <tr>\n      <th>5</th>\n      <td>POPSTAR (feat. Drake)</td>\n      <td>DJ Khaled</td>\n      <td>6EDO9iiTtwNv6waLwa1UUq</td>\n      <td>https://p.scdn.co/mp3-preview/f06dde2517250354...</td>\n      <td>https://i.scdn.co/image/ab67616d0000b273efaecb...</td>\n      <td>0.800</td>\n      <td>0.560</td>\n      <td>-4.818</td>\n      <td>0.2610</td>\n      <td>0.05700</td>\n      <td>...</td>\n      <td>0.634541</td>\n      <td>0.753162</td>\n      <td>3.464865e-07</td>\n      <td>0.297568</td>\n      <td>0.159468</td>\n      <td>0.482432</td>\n      <td>0QHgL1lAIqAw0HtD7YldmP</td>\n      <td>['hip hop', 'miami hip hop', 'pop rap', 'rap']</td>\n      <td>hip hop</td>\n      <td>../mp3songs/spotify_dataset/POPSTAR (feat. Dra...</td>\n    </tr>\n    <tr>\n      <th>6</th>\n      <td>Go Crazy</td>\n      <td>Chris Brown</td>\n      <td>1IIKrJVP1C9N7iPtG6eOsK</td>\n      <td>https://p.scdn.co/mp3-preview/cd1e4584425d4be8...</td>\n      <td>https://i.scdn.co/image/ab67616d0000b27363e0dd...</td>\n      <td>0.755</td>\n      <td>0.578</td>\n      <td>-8.932</td>\n      <td>0.1450</td>\n      <td>0.31600</td>\n      <td>...</td>\n      <td>0.660851</td>\n      <td>0.640302</td>\n      <td>7.828409e-05</td>\n      <td>0.172564</td>\n      <td>0.130031</td>\n      <td>0.486374</td>\n      <td>7bXgB6jMjp9ATFy66eO08Z</td>\n      <td>['r&amp;b', 'rap']</td>\n      <td>r&amp;b</td>\n      <td>../mp3songs/spotify_dataset/Go Crazy.mp3</td>\n    </tr>\n    <tr>\n      <th>7</th>\n      <td>Midnight Sky</td>\n      <td>Miley Cyrus</td>\n      <td>27ycaQnQAxaPiyeg3nr2aB</td>\n      <td>https://p.scdn.co/mp3-preview/837e5649e915ca76...</td>\n      <td>https://i.scdn.co/image/ab67616d0000b273d59c3c...</td>\n      <td>0.705</td>\n      <td>0.814</td>\n      <td>-5.466</td>\n      <td>0.0346</td>\n      <td>0.00115</td>\n      <td>...</td>\n      <td>0.568616</td>\n      <td>0.735849</td>\n      <td>8.239315e-05</td>\n      <td>0.170552</td>\n      <td>0.063982</td>\n      <td>0.447863</td>\n      <td>5YGY8feqx7naU7z4HrwZM6</td>\n      <td>['pop']</td>\n      <td>pop</td>\n      <td>../mp3songs/spotify_dataset/Midnight Sky.mp3</td>\n    </tr>\n    <tr>\n      <th>9</th>\n      <td>GREECE (feat. Drake)</td>\n      <td>DJ Khaled</td>\n      <td>35RJhm1pEovTBwnNR0zWad</td>\n      <td>https://p.scdn.co/mp3-preview/730e8f890f342ab3...</td>\n      <td>https://i.scdn.co/image/ab67616d0000b2737db0d2...</td>\n      <td>0.695</td>\n      <td>0.343</td>\n      <td>-10.798</td>\n      <td>0.0432</td>\n      <td>0.07430</td>\n      <td>...</td>\n      <td>0.634541</td>\n      <td>0.753162</td>\n      <td>3.464865e-07</td>\n      <td>0.297568</td>\n      <td>0.159468</td>\n      <td>0.482432</td>\n      <td>0QHgL1lAIqAw0HtD7YldmP</td>\n      <td>['hip hop', 'miami hip hop', 'pop rap', 'rap']</td>\n      <td>hip hop</td>\n      <td>../mp3songs/spotify_dataset/GREECE (feat. Drak...</td>\n    </tr>\n    <tr>\n      <th>15</th>\n      <td>Adore You</td>\n      <td>Harry Styles</td>\n      <td>3jjujdWJ72nww5eGnfs2E7</td>\n      <td>https://p.scdn.co/mp3-preview/2dbeaa922270b337...</td>\n      <td>https://i.scdn.co/image/ab67616d0000b27377fdcf...</td>\n      <td>0.676</td>\n      <td>0.771</td>\n      <td>-3.675</td>\n      <td>0.0483</td>\n      <td>0.02370</td>\n      <td>...</td>\n      <td>0.541462</td>\n      <td>0.586769</td>\n      <td>1.680888e-02</td>\n      <td>0.156208</td>\n      <td>0.035888</td>\n      <td>0.406896</td>\n      <td>6KImCVD70vtIoJWnq6nGn3</td>\n      <td>['pop']</td>\n      <td>pop</td>\n      <td>../mp3songs/spotify_dataset/Adore You.mp3</td>\n    </tr>\n    <tr>\n      <th>17</th>\n      <td>Falling</td>\n      <td>Harry Styles</td>\n      <td>1ZMiCix7XSAbfAJlEZWMCp</td>\n      <td>https://p.scdn.co/mp3-preview/755e88e49f038885...</td>\n      <td>https://i.scdn.co/image/ab67616d0000b27377fdcf...</td>\n      <td>0.567</td>\n      <td>0.267</td>\n      <td>-6.502</td>\n      <td>0.0299</td>\n      <td>0.83900</td>\n      <td>...</td>\n      <td>0.541462</td>\n      <td>0.586769</td>\n      <td>1.680888e-02</td>\n      <td>0.156208</td>\n      <td>0.035888</td>\n      <td>0.406896</td>\n      <td>6KImCVD70vtIoJWnq6nGn3</td>\n      <td>['pop']</td>\n      <td>pop</td>\n      <td>../mp3songs/spotify_dataset/Falling.mp3</td>\n    </tr>\n    <tr>\n      <th>21</th>\n      <td>Perfect</td>\n      <td>Ed Sheeran</td>\n      <td>0tgVpDi06FyKpA1z0VMD4v</td>\n      <td>https://p.scdn.co/mp3-preview/9779493d90a47f29...</td>\n      <td>https://i.scdn.co/image/ab67616d0000b273ba5db4...</td>\n      <td>0.599</td>\n      <td>0.448</td>\n      <td>-6.312</td>\n      <td>0.0232</td>\n      <td>0.16300</td>\n      <td>...</td>\n      <td>0.660442</td>\n      <td>0.503588</td>\n      <td>2.381436e-04</td>\n      <td>0.176192</td>\n      <td>0.077594</td>\n      <td>0.508474</td>\n      <td>6eUKZXaKkcviH0Ku9w2n3V</td>\n      <td>['pop', 'singer-songwriter pop', 'uk pop']</td>\n      <td>pop</td>\n      <td>../mp3songs/spotify_dataset/Perfect.mp3</td>\n    </tr>\n    <tr>\n      <th>27</th>\n      <td>Say You Won't Let Go</td>\n      <td>James Arthur</td>\n      <td>5uCax9HTNlzGybIStD3vDh</td>\n      <td>https://p.scdn.co/mp3-preview/00825cb1779b31d6...</td>\n      <td>https://i.scdn.co/image/ab67616d0000b27320beb6...</td>\n      <td>0.358</td>\n      <td>0.557</td>\n      <td>-7.398</td>\n      <td>0.0590</td>\n      <td>0.69500</td>\n      <td>...</td>\n      <td>0.453781</td>\n      <td>0.548656</td>\n      <td>3.431875e-06</td>\n      <td>0.135084</td>\n      <td>0.054506</td>\n      <td>0.335281</td>\n      <td>4IWBUUAFIplrNtaOHcJPRM</td>\n      <td>['pop', 'talent show', 'uk pop']</td>\n      <td>pop</td>\n      <td>../mp3songs/spotify_dataset/Say You Won't Let ...</td>\n    </tr>\n    <tr>\n      <th>34</th>\n      <td>Shape of You</td>\n      <td>Ed Sheeran</td>\n      <td>7qiZfU4dY1lWllzX7mPBI3</td>\n      <td>https://p.scdn.co/mp3-preview/84462d8e1e4d0f9e...</td>\n      <td>https://i.scdn.co/image/ab67616d0000b273ba5db4...</td>\n      <td>0.825</td>\n      <td>0.652</td>\n      <td>-3.183</td>\n      <td>0.0802</td>\n      <td>0.58100</td>\n      <td>...</td>\n      <td>0.660442</td>\n      <td>0.503588</td>\n      <td>2.381436e-04</td>\n      <td>0.176192</td>\n      <td>0.077594</td>\n      <td>0.508474</td>\n      <td>6eUKZXaKkcviH0Ku9w2n3V</td>\n      <td>['pop', 'singer-songwriter pop', 'uk pop']</td>\n      <td>pop</td>\n      <td>../mp3songs/spotify_dataset/Shape of You.mp3</td>\n    </tr>\n    <tr>\n      <th>41</th>\n      <td>Closer</td>\n      <td>The Chainsmokers</td>\n      <td>7BKLCZ1jbUBVqRi2FVlTVw</td>\n      <td>https://p.scdn.co/mp3-preview/8d3df1c64907cb18...</td>\n      <td>https://i.scdn.co/image/ab67616d0000b273495ce6...</td>\n      <td>0.748</td>\n      <td>0.524</td>\n      <td>-5.599</td>\n      <td>0.0338</td>\n      <td>0.41400</td>\n      <td>...</td>\n      <td>0.605326</td>\n      <td>0.692739</td>\n      <td>3.561236e-02</td>\n      <td>0.149046</td>\n      <td>0.061326</td>\n      <td>0.386626</td>\n      <td>69GGBxA162lTqCwzJG5jLp</td>\n      <td>['pop']</td>\n      <td>pop</td>\n      <td>../mp3songs/spotify_dataset/Closer.mp3</td>\n    </tr>\n    <tr>\n      <th>42</th>\n      <td>No Guidance (feat. Drake)</td>\n      <td>Chris Brown</td>\n      <td>6XHVuErjQ4XNm6nDPVCxVX</td>\n      <td>https://p.scdn.co/mp3-preview/7c3bc7b4d1741a00...</td>\n      <td>https://i.scdn.co/image/ab67616d0000b2739e588b...</td>\n      <td>0.698</td>\n      <td>0.454</td>\n      <td>-6.756</td>\n      <td>0.1510</td>\n      <td>0.12300</td>\n      <td>...</td>\n      <td>0.660851</td>\n      <td>0.640302</td>\n      <td>7.828409e-05</td>\n      <td>0.172564</td>\n      <td>0.130031</td>\n      <td>0.486374</td>\n      <td>7bXgB6jMjp9ATFy66eO08Z</td>\n      <td>['r&amp;b', 'rap']</td>\n      <td>r&amp;b</td>\n      <td>../mp3songs/spotify_dataset/No Guidance (feat....</td>\n    </tr>\n    <tr>\n      <th>46</th>\n      <td>Photograph</td>\n      <td>Ed Sheeran</td>\n      <td>1HNkqx9Ahdgi1Ixy2xkKkL</td>\n      <td>https://p.scdn.co/mp3-preview/097c7b735ceb4109...</td>\n      <td>https://i.scdn.co/image/ab67616d0000b27313b3e3...</td>\n      <td>0.614</td>\n      <td>0.379</td>\n      <td>-10.480</td>\n      <td>0.0476</td>\n      <td>0.60700</td>\n      <td>...</td>\n      <td>0.660442</td>\n      <td>0.503588</td>\n      <td>2.381436e-04</td>\n      <td>0.176192</td>\n      <td>0.077594</td>\n      <td>0.508474</td>\n      <td>6eUKZXaKkcviH0Ku9w2n3V</td>\n      <td>['pop', 'singer-songwriter pop', 'uk pop']</td>\n      <td>pop</td>\n      <td>../mp3songs/spotify_dataset/Photograph.mp3</td>\n    </tr>\n    <tr>\n      <th>47</th>\n      <td>Thinking out Loud</td>\n      <td>Ed Sheeran</td>\n      <td>34gCuhDGsG4bRPIf9bb02f</td>\n      <td>https://p.scdn.co/mp3-preview/7fba47d0806142cb...</td>\n      <td>https://i.scdn.co/image/ab67616d0000b27313b3e3...</td>\n      <td>0.781</td>\n      <td>0.445</td>\n      <td>-6.061</td>\n      <td>0.0295</td>\n      <td>0.47400</td>\n      <td>...</td>\n      <td>0.660442</td>\n      <td>0.503588</td>\n      <td>2.381436e-04</td>\n      <td>0.176192</td>\n      <td>0.077594</td>\n      <td>0.508474</td>\n      <td>6eUKZXaKkcviH0Ku9w2n3V</td>\n      <td>['pop', 'singer-songwriter pop', 'uk pop']</td>\n      <td>pop</td>\n      <td>../mp3songs/spotify_dataset/Thinking out Loud.mp3</td>\n    </tr>\n    <tr>\n      <th>55</th>\n      <td>XO Tour Llif3</td>\n      <td>Lil Uzi Vert</td>\n      <td>7GX5flRQZVHRAGd6B4TmDO</td>\n      <td>https://p.scdn.co/mp3-preview/7add10ee576e9017...</td>\n      <td>https://i.scdn.co/image/ab67616d0000b27341b41e...</td>\n      <td>0.732</td>\n      <td>0.750</td>\n      <td>-6.366</td>\n      <td>0.2310</td>\n      <td>0.00264</td>\n      <td>...</td>\n      <td>0.763695</td>\n      <td>0.630539</td>\n      <td>4.279835e-07</td>\n      <td>0.205406</td>\n      <td>0.219207</td>\n      <td>0.435478</td>\n      <td>4O15NlyKLIASxsJ0PrXPfz</td>\n      <td>['hip hop', 'melodic rap', 'philly rap', 'rage...</td>\n      <td>hip hop</td>\n      <td>../mp3songs/spotify_dataset/XO Tour Llif3.mp3</td>\n    </tr>\n    <tr>\n      <th>58</th>\n      <td>Higher Love</td>\n      <td>Kygo</td>\n      <td>6oJ6le65B3SEqPwMRNXWjY</td>\n      <td>https://p.scdn.co/mp3-preview/a74efdaa12f70867...</td>\n      <td>https://i.scdn.co/image/ab67616d0000b2737c8977...</td>\n      <td>0.693</td>\n      <td>0.678</td>\n      <td>-7.159</td>\n      <td>0.0324</td>\n      <td>0.01540</td>\n      <td>...</td>\n      <td>0.629631</td>\n      <td>0.616569</td>\n      <td>4.608322e-02</td>\n      <td>0.137303</td>\n      <td>0.062498</td>\n      <td>0.385968</td>\n      <td>23fqKkggKUBHNkbKtXEls4</td>\n      <td>['edm', 'pop', 'pop dance', 'tropical house']</td>\n      <td>edm</td>\n      <td>../mp3songs/spotify_dataset/Higher Love.mp3</td>\n    </tr>\n    <tr>\n      <th>65</th>\n      <td>20 Min</td>\n      <td>Lil Uzi Vert</td>\n      <td>0uxSUdBrJy9Un0EYoBowng</td>\n      <td>https://p.scdn.co/mp3-preview/839fb8d9ef7958ac...</td>\n      <td>https://i.scdn.co/image/ab67616d0000b2730d5a84...</td>\n      <td>0.773</td>\n      <td>0.750</td>\n      <td>-4.009</td>\n      <td>0.1170</td>\n      <td>0.10900</td>\n      <td>...</td>\n      <td>0.763695</td>\n      <td>0.630539</td>\n      <td>4.279835e-07</td>\n      <td>0.205406</td>\n      <td>0.219207</td>\n      <td>0.435478</td>\n      <td>4O15NlyKLIASxsJ0PrXPfz</td>\n      <td>['hip hop', 'melodic rap', 'philly rap', 'rage...</td>\n      <td>hip hop</td>\n      <td>../mp3songs/spotify_dataset/20 Min.mp3</td>\n    </tr>\n    <tr>\n      <th>70</th>\n      <td>Billie Jean</td>\n      <td>Michael Jackson</td>\n      <td>5ChkMS8OtdzJeqyybCc9R5</td>\n      <td>https://p.scdn.co/mp3-preview/f504e6b8e0377713...</td>\n      <td>https://i.scdn.co/image/ab67616d0000b2734121fa...</td>\n      <td>0.920</td>\n      <td>0.654</td>\n      <td>-3.051</td>\n      <td>0.0401</td>\n      <td>0.02360</td>\n      <td>...</td>\n      <td>0.709716</td>\n      <td>0.693224</td>\n      <td>4.598462e-02</td>\n      <td>0.196165</td>\n      <td>0.069310</td>\n      <td>0.625393</td>\n      <td>3fMbdgg4jU18AjLCKBhRSm</td>\n      <td>['r&amp;b', 'soul']</td>\n      <td>r&amp;b</td>\n      <td>../mp3songs/spotify_dataset/Billie Jean.mp3</td>\n    </tr>\n    <tr>\n      <th>100</th>\n      <td>EARFQUAKE</td>\n      <td>Tyler, The Creator</td>\n      <td>5hVghJ4KaYES3BFUATCYn0</td>\n      <td>https://p.scdn.co/mp3-preview/d6528c193bac76f7...</td>\n      <td>https://i.scdn.co/image/ab67616d0000b273700588...</td>\n      <td>0.554</td>\n      <td>0.498</td>\n      <td>-8.866</td>\n      <td>0.0685</td>\n      <td>0.23000</td>\n      <td>...</td>\n      <td>0.553979</td>\n      <td>0.640938</td>\n      <td>2.124496e-02</td>\n      <td>0.313290</td>\n      <td>0.268795</td>\n      <td>0.465593</td>\n      <td>4V8LLVI7PbaPR0K2TGSxFF</td>\n      <td>['hip hop', 'rap']</td>\n      <td>hip hop</td>\n      <td>../mp3songs/spotify_dataset/EARFQUAKE.mp3</td>\n    </tr>\n    <tr>\n      <th>122</th>\n      <td>Post Malone (feat. RANI)</td>\n      <td>Sam Feldt</td>\n      <td>0qc4QlcCxVTGyShurEv1UU</td>\n      <td>https://p.scdn.co/mp3-preview/b74cd0ca94e2907b...</td>\n      <td>https://i.scdn.co/image/ab67616d0000b27354de16...</td>\n      <td>0.590</td>\n      <td>0.642</td>\n      <td>-3.870</td>\n      <td>0.1220</td>\n      <td>0.07710</td>\n      <td>...</td>\n      <td>0.665300</td>\n      <td>0.759500</td>\n      <td>9.923700e-05</td>\n      <td>0.139500</td>\n      <td>0.061130</td>\n      <td>0.504600</td>\n      <td>20gsENnposVs2I4rQ5kvrf</td>\n      <td>['edm', 'pop dance', 'tropical house']</td>\n      <td>edm</td>\n      <td>../mp3songs/spotify_dataset/Post Malone (feat....</td>\n    </tr>\n    <tr>\n      <th>123</th>\n      <td>Unforgettable</td>\n      <td>French Montana</td>\n      <td>3B54sVLJ402zGa6Xm4YGNe</td>\n      <td>https://p.scdn.co/mp3-preview/3814de3ede744556...</td>\n      <td>https://i.scdn.co/image/ab67616d0000b2738a3119...</td>\n      <td>0.726</td>\n      <td>0.769</td>\n      <td>-5.043</td>\n      <td>0.1230</td>\n      <td>0.02930</td>\n      <td>...</td>\n      <td>0.672588</td>\n      <td>0.697941</td>\n      <td>3.016118e-04</td>\n      <td>0.265153</td>\n      <td>0.149026</td>\n      <td>0.446824</td>\n      <td>6vXTefBL93Dj5IqAWq6OTv</td>\n      <td>['hip hop', 'pop rap', 'rap', 'southern hip ho...</td>\n      <td>hip hop</td>\n      <td>../mp3songs/spotify_dataset/Unforgettable.mp3</td>\n    </tr>\n    <tr>\n      <th>125</th>\n      <td>Devil Eyes</td>\n      <td>Hippie Sabotage</td>\n      <td>7MiZjKawmXTsTNePyTfPyL</td>\n      <td>https://p.scdn.co/mp3-preview/dd5388e277a34183...</td>\n      <td>https://i.scdn.co/image/ab67616d0000b273ecdad1...</td>\n      <td>0.391</td>\n      <td>0.396</td>\n      <td>-8.621</td>\n      <td>0.1890</td>\n      <td>0.70200</td>\n      <td>...</td>\n      <td>0.439455</td>\n      <td>0.513818</td>\n      <td>2.121489e-01</td>\n      <td>0.225209</td>\n      <td>0.109200</td>\n      <td>0.197809</td>\n      <td>4dM6NDYSfLcspt8GLoT5aE</td>\n      <td>['edm', 'electronic trap']</td>\n      <td>edm</td>\n      <td>../mp3songs/spotify_dataset/Devil Eyes.mp3</td>\n    </tr>\n    <tr>\n      <th>141</th>\n      <td>ORANGE SODA</td>\n      <td>Baby Keem</td>\n      <td>5FkoSXiJPKTNyYgALRJFhD</td>\n      <td>https://p.scdn.co/mp3-preview/e73b574011e43a3a...</td>\n      <td>https://i.scdn.co/image/ab67616d0000b273683757...</td>\n      <td>0.830</td>\n      <td>0.564</td>\n      <td>-7.822</td>\n      <td>0.2350</td>\n      <td>0.17700</td>\n      <td>...</td>\n      <td>0.797250</td>\n      <td>0.554000</td>\n      <td>3.000842e-02</td>\n      <td>0.268750</td>\n      <td>0.171775</td>\n      <td>0.334250</td>\n      <td>5SXuuuRpukkTvsLuUknva1</td>\n      <td>['hip hop', 'rap']</td>\n      <td>hip hop</td>\n      <td>../mp3songs/spotify_dataset/ORANGE SODA.mp3</td>\n    </tr>\n    <tr>\n      <th>152</th>\n      <td>Ayy Macarena</td>\n      <td>Tyga</td>\n      <td>6LcauUZjF1eXQrgqMUecHX</td>\n      <td>https://p.scdn.co/mp3-preview/8fc019547a3bcf54...</td>\n      <td>https://i.scdn.co/image/ab67616d0000b27309cd3b...</td>\n      <td>0.816</td>\n      <td>0.630</td>\n      <td>-5.568</td>\n      <td>0.2260</td>\n      <td>0.13300</td>\n      <td>...</td>\n      <td>0.808690</td>\n      <td>0.634920</td>\n      <td>1.190485e-04</td>\n      <td>0.150545</td>\n      <td>0.166744</td>\n      <td>0.476069</td>\n      <td>5LHRHt1k9lMyONurDHEdrp</td>\n      <td>['hip hop', 'pop rap', 'rap', 'southern hip ho...</td>\n      <td>hip hop</td>\n      <td>../mp3songs/spotify_dataset/Ayy Macarena.mp3</td>\n    </tr>\n    <tr>\n      <th>167</th>\n      <td>See You Again (feat. Kali Uchis)</td>\n      <td>Tyler, The Creator</td>\n      <td>7KA4W4McWYRpgf0fWsJZWB</td>\n      <td>https://p.scdn.co/mp3-preview/e9e8d9fce04ab59c...</td>\n      <td>https://i.scdn.co/image/ab67616d0000b2738940ac...</td>\n      <td>0.558</td>\n      <td>0.559</td>\n      <td>-9.222</td>\n      <td>0.0959</td>\n      <td>0.37100</td>\n      <td>...</td>\n      <td>0.553979</td>\n      <td>0.640938</td>\n      <td>2.124496e-02</td>\n      <td>0.313290</td>\n      <td>0.268795</td>\n      <td>0.465593</td>\n      <td>4V8LLVI7PbaPR0K2TGSxFF</td>\n      <td>['hip hop', 'rap']</td>\n      <td>hip hop</td>\n      <td>../mp3songs/spotify_dataset/See You Again (fea...</td>\n    </tr>\n    <tr>\n      <th>168</th>\n      <td>Or Nah (feat. The Weeknd, Wiz Khalifa &amp; DJ Mus...</td>\n      <td>Ty Dolla $ign</td>\n      <td>7t2bFihaDvhIrd2gn2CWJO</td>\n      <td>https://p.scdn.co/mp3-preview/70f126c139847335...</td>\n      <td>https://i.scdn.co/image/ab67616d0000b2731c04ef...</td>\n      <td>0.805</td>\n      <td>0.330</td>\n      <td>-8.712</td>\n      <td>0.1000</td>\n      <td>0.22000</td>\n      <td>...</td>\n      <td>0.689605</td>\n      <td>0.592333</td>\n      <td>3.597148e-04</td>\n      <td>0.204565</td>\n      <td>0.122689</td>\n      <td>0.479400</td>\n      <td>7c0XG5cIJTrrAgEC3ULPiq</td>\n      <td>['hip hop', 'pop rap', 'r&amp;b', 'southern hip ho...</td>\n      <td>hip hop</td>\n      <td>../mp3songs/spotify_dataset/Or Nah (feat. The ...</td>\n    </tr>\n    <tr>\n      <th>190</th>\n      <td>Best Part (feat. Daniel Caesar)</td>\n      <td>H.E.R.</td>\n      <td>4OBZT9EnhYIV17t4pGw7ig</td>\n      <td>https://p.scdn.co/mp3-preview/863e2a899be2340a...</td>\n      <td>https://i.scdn.co/image/ab67616d0000b273b5d9c8...</td>\n      <td>0.473</td>\n      <td>0.371</td>\n      <td>-10.219</td>\n      <td>0.0405</td>\n      <td>0.79500</td>\n      <td>...</td>\n      <td>0.540486</td>\n      <td>0.437200</td>\n      <td>9.393657e-05</td>\n      <td>0.139806</td>\n      <td>0.107746</td>\n      <td>0.328714</td>\n      <td>3Y7RZ31TRPVadSFVy1o8os</td>\n      <td>['r&amp;b', 'rap']</td>\n      <td>r&amp;b</td>\n      <td>../mp3songs/spotify_dataset/Best Part (feat. D...</td>\n    </tr>\n    <tr>\n      <th>270</th>\n      <td>Beat It</td>\n      <td>Michael Jackson</td>\n      <td>1OOtq8tRnDM8kG2gqUPjAj</td>\n      <td>https://p.scdn.co/mp3-preview/4901df6e0f8bf6ce...</td>\n      <td>https://i.scdn.co/image/ab67616d0000b2734121fa...</td>\n      <td>0.779</td>\n      <td>0.867</td>\n      <td>-3.704</td>\n      <td>0.0457</td>\n      <td>0.04910</td>\n      <td>...</td>\n      <td>0.709716</td>\n      <td>0.693224</td>\n      <td>4.598462e-02</td>\n      <td>0.196165</td>\n      <td>0.069310</td>\n      <td>0.625393</td>\n      <td>3fMbdgg4jU18AjLCKBhRSm</td>\n      <td>['r&amp;b', 'soul']</td>\n      <td>r&amp;b</td>\n      <td>../mp3songs/spotify_dataset/Beat It.mp3</td>\n    </tr>\n    <tr>\n      <th>277</th>\n      <td>Boys Ain't Shit</td>\n      <td>SAYGRACE</td>\n      <td>6vzLbfskWigBsCzNdB0kfE</td>\n      <td>https://p.scdn.co/mp3-preview/fd9c6828b7c5196a...</td>\n      <td>https://i.scdn.co/image/ab67616d0000b27353946e...</td>\n      <td>0.826</td>\n      <td>0.615</td>\n      <td>-4.729</td>\n      <td>0.1370</td>\n      <td>0.43500</td>\n      <td>...</td>\n      <td>0.624200</td>\n      <td>0.633600</td>\n      <td>2.541560e-03</td>\n      <td>0.239880</td>\n      <td>0.127760</td>\n      <td>0.589400</td>\n      <td>6y5amJcTjeDgLXIjtQLMst</td>\n      <td>['r&amp;b']</td>\n      <td>r&amp;b</td>\n      <td>../mp3songs/spotify_dataset/Boys Ain't Shit.mp3</td>\n    </tr>\n    <tr>\n      <th>280</th>\n      <td>Slide</td>\n      <td>H.E.R.</td>\n      <td>2rTnVB1bvwxHtaIl4uVu7f</td>\n      <td>https://p.scdn.co/mp3-preview/93882ea1384208a1...</td>\n      <td>https://i.scdn.co/image/ab67616d0000b2735cba0b...</td>\n      <td>0.827</td>\n      <td>0.469</td>\n      <td>-9.141</td>\n      <td>0.3410</td>\n      <td>0.08070</td>\n      <td>...</td>\n      <td>0.540486</td>\n      <td>0.437200</td>\n      <td>9.393657e-05</td>\n      <td>0.139806</td>\n      <td>0.107746</td>\n      <td>0.328714</td>\n      <td>3Y7RZ31TRPVadSFVy1o8os</td>\n      <td>['r&amp;b', 'rap']</td>\n      <td>r&amp;b</td>\n      <td>../mp3songs/spotify_dataset/Slide.mp3</td>\n    </tr>\n    <tr>\n      <th>283</th>\n      <td>Astronomia</td>\n      <td>Vicetone</td>\n      <td>3hWfKBt3n7j1xqIy6LA5ve</td>\n      <td>https://p.scdn.co/mp3-preview/76175ba50f727200...</td>\n      <td>https://i.scdn.co/image/ab67616d0000b27345c900...</td>\n      <td>0.653</td>\n      <td>0.945</td>\n      <td>-2.634</td>\n      <td>0.0960</td>\n      <td>0.00561</td>\n      <td>...</td>\n      <td>0.607800</td>\n      <td>0.863800</td>\n      <td>3.660604e-01</td>\n      <td>0.251600</td>\n      <td>0.078540</td>\n      <td>0.337600</td>\n      <td>0daugAjUgbJSqdlyYNwIbT</td>\n      <td>['edm', 'electro house', 'pop dance', 'progres...</td>\n      <td>edm</td>\n      <td>../mp3songs/spotify_dataset/Astronomia.mp3</td>\n    </tr>\n    <tr>\n      <th>285</th>\n      <td>Firestone</td>\n      <td>Kygo</td>\n      <td>1I8tHoNBFTuoJAlh4hfVVE</td>\n      <td>https://p.scdn.co/mp3-preview/f91af8bcd21a11a1...</td>\n      <td>https://i.scdn.co/image/ab67616d0000b27335590c...</td>\n      <td>0.704</td>\n      <td>0.634</td>\n      <td>-7.374</td>\n      <td>0.0428</td>\n      <td>0.39300</td>\n      <td>...</td>\n      <td>0.629631</td>\n      <td>0.616569</td>\n      <td>4.608322e-02</td>\n      <td>0.137303</td>\n      <td>0.062498</td>\n      <td>0.385968</td>\n      <td>23fqKkggKUBHNkbKtXEls4</td>\n      <td>['edm', 'pop', 'pop dance', 'tropical house']</td>\n      <td>edm</td>\n      <td>../mp3songs/spotify_dataset/Firestone.mp3</td>\n    </tr>\n    <tr>\n      <th>302</th>\n      <td>Body</td>\n      <td>Loud Luxury</td>\n      <td>21RzyxY3EFaxVy6K4RqaU9</td>\n      <td>https://p.scdn.co/mp3-preview/cc8dc2d90a923e02...</td>\n      <td>https://i.scdn.co/image/ab67616d0000b273af5e18...</td>\n      <td>0.752</td>\n      <td>0.764</td>\n      <td>-4.399</td>\n      <td>0.0380</td>\n      <td>0.04760</td>\n      <td>...</td>\n      <td>0.745000</td>\n      <td>0.779778</td>\n      <td>2.334211e-04</td>\n      <td>0.194589</td>\n      <td>0.048711</td>\n      <td>0.470222</td>\n      <td>6t1gpxYbY8OlLA7D2RiikQ</td>\n      <td>['edm', 'pop dance']</td>\n      <td>edm</td>\n      <td>../mp3songs/spotify_dataset/Body.mp3</td>\n    </tr>\n    <tr>\n      <th>358</th>\n      <td>Smooth Criminal - 2012 Remaster</td>\n      <td>Michael Jackson</td>\n      <td>2bCQHF9gdG5BNDVuEIEnNk</td>\n      <td>https://p.scdn.co/mp3-preview/8dcbe2702477ac98...</td>\n      <td>https://i.scdn.co/image/ab67616d0000b2731bb21d...</td>\n      <td>0.853</td>\n      <td>0.981</td>\n      <td>-3.947</td>\n      <td>0.0751</td>\n      <td>0.24700</td>\n      <td>...</td>\n      <td>0.709716</td>\n      <td>0.693224</td>\n      <td>4.598462e-02</td>\n      <td>0.196165</td>\n      <td>0.069310</td>\n      <td>0.625393</td>\n      <td>3fMbdgg4jU18AjLCKBhRSm</td>\n      <td>['r&amp;b', 'soul']</td>\n      <td>r&amp;b</td>\n      <td>../mp3songs/spotify_dataset/Smooth Criminal - ...</td>\n    </tr>\n    <tr>\n      <th>366</th>\n      <td>You Can Call Me Al</td>\n      <td>Paul Simon</td>\n      <td>0qxYx4F3vm1AOnfux6dDxP</td>\n      <td>https://p.scdn.co/mp3-preview/ff8c2381dbea9e5c...</td>\n      <td>https://i.scdn.co/image/ab67616d0000b27309880a...</td>\n      <td>0.776</td>\n      <td>0.763</td>\n      <td>-8.124</td>\n      <td>0.0535</td>\n      <td>0.18200</td>\n      <td>...</td>\n      <td>0.553000</td>\n      <td>0.691000</td>\n      <td>6.530000e-03</td>\n      <td>0.495000</td>\n      <td>0.076400</td>\n      <td>0.371000</td>\n      <td>2CvCyf1gEVhI0mX6aFXmVI</td>\n      <td>['classic rock', 'folk', 'folk rock', 'mellow ...</td>\n      <td>classic rock</td>\n      <td>../mp3songs/spotify_dataset/You Can Call Me Al...</td>\n    </tr>\n    <tr>\n      <th>411</th>\n      <td>Sure Thing</td>\n      <td>Miguel</td>\n      <td>0JXXNGljqupsJaZsgSbMZV</td>\n      <td>https://p.scdn.co/mp3-preview/d2ea23d1d8efbf03...</td>\n      <td>https://i.scdn.co/image/ab67616d0000b273d5a839...</td>\n      <td>0.684</td>\n      <td>0.603</td>\n      <td>-8.127</td>\n      <td>0.0989</td>\n      <td>0.02750</td>\n      <td>...</td>\n      <td>0.616706</td>\n      <td>0.419471</td>\n      <td>1.105373e-02</td>\n      <td>0.121182</td>\n      <td>0.036559</td>\n      <td>0.494706</td>\n      <td>360IAlyVv4PCEVjgyMZrxK</td>\n      <td>['r&amp;b', 'urban contemporary']</td>\n      <td>r&amp;b</td>\n      <td>../mp3songs/spotify_dataset/Sure Thing.mp3</td>\n    </tr>\n    <tr>\n      <th>443</th>\n      <td>Be Honest (feat. Burna Boy)</td>\n      <td>Jorja Smith</td>\n      <td>5pAbCxt9e3f81lOmjIXwzd</td>\n      <td>https://p.scdn.co/mp3-preview/55bfb31d5fbbc268...</td>\n      <td>https://i.scdn.co/image/ab67616d0000b2730d4b41...</td>\n      <td>0.757</td>\n      <td>0.737</td>\n      <td>-6.728</td>\n      <td>0.1140</td>\n      <td>0.31100</td>\n      <td>...</td>\n      <td>0.622364</td>\n      <td>0.508091</td>\n      <td>7.109341e-02</td>\n      <td>0.105482</td>\n      <td>0.113064</td>\n      <td>0.522182</td>\n      <td>1CoZyIx7UvdxT5c8UkMzHd</td>\n      <td>['r&amp;b', 'uk contemporary r&amp;b']</td>\n      <td>r&amp;b</td>\n      <td>../mp3songs/spotify_dataset/Be Honest (feat. B...</td>\n    </tr>\n    <tr>\n      <th>497</th>\n      <td>Stole the Show</td>\n      <td>Kygo</td>\n      <td>5masKPHeAOVNgxdLebIcK7</td>\n      <td>https://p.scdn.co/mp3-preview/b5f2f3e09b0fea53...</td>\n      <td>https://i.scdn.co/image/ab67616d0000b27335590c...</td>\n      <td>0.640</td>\n      <td>0.635</td>\n      <td>-7.565</td>\n      <td>0.2260</td>\n      <td>0.27100</td>\n      <td>...</td>\n      <td>0.629631</td>\n      <td>0.616569</td>\n      <td>4.608322e-02</td>\n      <td>0.137303</td>\n      <td>0.062498</td>\n      <td>0.385968</td>\n      <td>23fqKkggKUBHNkbKtXEls4</td>\n      <td>['edm', 'pop', 'pop dance', 'tropical house']</td>\n      <td>edm</td>\n      <td>../mp3songs/spotify_dataset/Stole the Show.mp3</td>\n    </tr>\n    <tr>\n      <th>511</th>\n      <td>Call on Me - Radio Mix</td>\n      <td>Eric Prydz</td>\n      <td>1xNcBAoUw8Hz6LqK2jt4Ff</td>\n      <td>https://p.scdn.co/mp3-preview/1ebddc935c487dde...</td>\n      <td>https://i.scdn.co/image/ab67616d0000b2731cd65e...</td>\n      <td>0.597</td>\n      <td>0.837</td>\n      <td>-6.518</td>\n      <td>0.3750</td>\n      <td>0.00427</td>\n      <td>...</td>\n      <td>0.595714</td>\n      <td>0.844000</td>\n      <td>3.398200e-01</td>\n      <td>0.566571</td>\n      <td>0.229871</td>\n      <td>0.513300</td>\n      <td>5sm0jQ1mq0dusiLtDJ2b4R</td>\n      <td>['edm', 'electro house', 'house', 'pop dance',...</td>\n      <td>edm</td>\n      <td>../mp3songs/spotify_dataset/Call on Me - Radio...</td>\n    </tr>\n    <tr>\n      <th>565</th>\n      <td>Purple Hat</td>\n      <td>Sofi Tukker</td>\n      <td>0bGH7ezs7WdDwpqnsvGf1z</td>\n      <td>https://p.scdn.co/mp3-preview/02ce7f41c2dee57e...</td>\n      <td>https://i.scdn.co/image/ab67616d0000b273818685...</td>\n      <td>0.777</td>\n      <td>0.744</td>\n      <td>-7.420</td>\n      <td>0.2040</td>\n      <td>0.33100</td>\n      <td>...</td>\n      <td>0.727125</td>\n      <td>0.780250</td>\n      <td>1.771329e-01</td>\n      <td>0.164825</td>\n      <td>0.087225</td>\n      <td>0.464375</td>\n      <td>586uxXMyD5ObPuzjtrzO1Q</td>\n      <td>['edm']</td>\n      <td>edm</td>\n      <td>../mp3songs/spotify_dataset/Purple Hat.mp3</td>\n    </tr>\n    <tr>\n      <th>625</th>\n      <td>Nevada</td>\n      <td>Vicetone</td>\n      <td>02shCNmb6IvgB5jLqKjtkK</td>\n      <td>https://p.scdn.co/mp3-preview/3fdbd9870e39d5da...</td>\n      <td>https://i.scdn.co/image/ab67616d0000b273f48a2a...</td>\n      <td>0.605</td>\n      <td>0.783</td>\n      <td>-4.271</td>\n      <td>0.0324</td>\n      <td>0.29900</td>\n      <td>...</td>\n      <td>0.607800</td>\n      <td>0.863800</td>\n      <td>3.660604e-01</td>\n      <td>0.251600</td>\n      <td>0.078540</td>\n      <td>0.337600</td>\n      <td>0daugAjUgbJSqdlyYNwIbT</td>\n      <td>['edm', 'electro house', 'pop dance', 'progres...</td>\n      <td>edm</td>\n      <td>../mp3songs/spotify_dataset/Nevada.mp3</td>\n    </tr>\n    <tr>\n      <th>784</th>\n      <td>Follow Me</td>\n      <td>Uncle Kracker</td>\n      <td>4KoecuyOpZaNFZ0UqVsllc</td>\n      <td>https://p.scdn.co/mp3-preview/482cf9985443c2e4...</td>\n      <td>https://i.scdn.co/image/ab67616d0000b2739bb9d6...</td>\n      <td>0.817</td>\n      <td>0.585</td>\n      <td>-4.688</td>\n      <td>0.0301</td>\n      <td>0.43900</td>\n      <td>...</td>\n      <td>0.722143</td>\n      <td>0.755667</td>\n      <td>1.091429e-06</td>\n      <td>0.257181</td>\n      <td>0.043371</td>\n      <td>0.761810</td>\n      <td>2DnqqkzzDKm3vAoyHtn8So</td>\n      <td>['country', 'pop rock', 'post-grunge']</td>\n      <td>country</td>\n      <td>../mp3songs/spotify_dataset/Follow Me.mp3</td>\n    </tr>\n    <tr>\n      <th>798</th>\n      <td>Drift Away</td>\n      <td>Uncle Kracker</td>\n      <td>0RFgvrhkf9FiDRLA0BhzpZ</td>\n      <td>https://p.scdn.co/mp3-preview/70de6989fcebb7c1...</td>\n      <td>https://i.scdn.co/image/ab67616d0000b273efbcab...</td>\n      <td>0.583</td>\n      <td>0.660</td>\n      <td>-5.078</td>\n      <td>0.0377</td>\n      <td>0.18100</td>\n      <td>...</td>\n      <td>0.722143</td>\n      <td>0.755667</td>\n      <td>1.091429e-06</td>\n      <td>0.257181</td>\n      <td>0.043371</td>\n      <td>0.761810</td>\n      <td>2DnqqkzzDKm3vAoyHtn8So</td>\n      <td>['country', 'pop rock', 'post-grunge']</td>\n      <td>country</td>\n      <td>../mp3songs/spotify_dataset/Drift Away.mp3</td>\n    </tr>\n    <tr>\n      <th>1111</th>\n      <td>Chattahoochee</td>\n      <td>Alan Jackson</td>\n      <td>59kHPbwyyCApYA8RQQEuXm</td>\n      <td>https://p.scdn.co/mp3-preview/bdecab377b84c0fd...</td>\n      <td>https://i.scdn.co/image/ab67616d0000b273933cf6...</td>\n      <td>0.606</td>\n      <td>0.706</td>\n      <td>-9.665</td>\n      <td>0.0379</td>\n      <td>0.36200</td>\n      <td>...</td>\n      <td>0.631983</td>\n      <td>0.532313</td>\n      <td>4.498584e-03</td>\n      <td>0.169340</td>\n      <td>0.030963</td>\n      <td>0.581227</td>\n      <td>4mxWe1mtYIYfP040G38yvS</td>\n      <td>['country']</td>\n      <td>country</td>\n      <td>../mp3songs/spotify_dataset/Chattahoochee.mp3</td>\n    </tr>\n    <tr>\n      <th>1152</th>\n      <td>Highwayman</td>\n      <td>The Highwaymen</td>\n      <td>7jWbXvrgdbkajU8L28ahn5</td>\n      <td>https://p.scdn.co/mp3-preview/e076d5c991daae54...</td>\n      <td>https://i.scdn.co/image/ab67616d0000b2735b819a...</td>\n      <td>0.670</td>\n      <td>0.351</td>\n      <td>-16.842</td>\n      <td>0.0463</td>\n      <td>0.48000</td>\n      <td>...</td>\n      <td>0.645613</td>\n      <td>0.462839</td>\n      <td>4.628223e-02</td>\n      <td>0.142406</td>\n      <td>0.048571</td>\n      <td>0.585548</td>\n      <td>6e7QpHYqEiyJGiM98IysLa</td>\n      <td>['country', 'country rock', 'outlaw country']</td>\n      <td>country</td>\n      <td>../mp3songs/spotify_dataset/Highwayman.mp3</td>\n    </tr>\n    <tr>\n      <th>1176</th>\n      <td>Smile</td>\n      <td>Uncle Kracker</td>\n      <td>4ZC8hXXqu2hPcDLw9QTdtQ</td>\n      <td>https://p.scdn.co/mp3-preview/be7278bd9f4601b9...</td>\n      <td>https://i.scdn.co/image/ab67616d0000b273b51c32...</td>\n      <td>0.541</td>\n      <td>0.812</td>\n      <td>-3.764</td>\n      <td>0.0336</td>\n      <td>0.20300</td>\n      <td>...</td>\n      <td>0.722143</td>\n      <td>0.755667</td>\n      <td>1.091429e-06</td>\n      <td>0.257181</td>\n      <td>0.043371</td>\n      <td>0.761810</td>\n      <td>2DnqqkzzDKm3vAoyHtn8So</td>\n      <td>['country', 'pop rock', 'post-grunge']</td>\n      <td>country</td>\n      <td>../mp3songs/spotify_dataset/Smile.mp3</td>\n    </tr>\n    <tr>\n      <th>1250</th>\n      <td>How Do I Live</td>\n      <td>LeAnn Rimes</td>\n      <td>7BD50ATrF3Vab5FQy7vtK8</td>\n      <td>https://p.scdn.co/mp3-preview/dfd7958f815b8496...</td>\n      <td>https://i.scdn.co/image/ab67616d0000b273b8a740...</td>\n      <td>0.577</td>\n      <td>0.462</td>\n      <td>-7.989</td>\n      <td>0.0279</td>\n      <td>0.12800</td>\n      <td>...</td>\n      <td>0.551625</td>\n      <td>0.558375</td>\n      <td>2.693875e-05</td>\n      <td>0.112431</td>\n      <td>0.032669</td>\n      <td>0.379688</td>\n      <td>2d3VHzlOEwXvmBdS4pzOPL</td>\n      <td>['country', 'country dawn', 'country road']</td>\n      <td>country</td>\n      <td>../mp3songs/spotify_dataset/How Do I Live.mp3</td>\n    </tr>\n    <tr>\n      <th>1374</th>\n      <td>Have I Told You Lately</td>\n      <td>Van Morrison</td>\n      <td>1VsGYaCBFjCVudtX9IGqDg</td>\n      <td>https://p.scdn.co/mp3-preview/584755baaebc561a...</td>\n      <td>https://i.scdn.co/image/ab67616d0000b273202a4b...</td>\n      <td>0.344</td>\n      <td>0.477</td>\n      <td>-10.266</td>\n      <td>0.0338</td>\n      <td>0.27800</td>\n      <td>...</td>\n      <td>0.551523</td>\n      <td>0.503300</td>\n      <td>2.542272e-02</td>\n      <td>0.229074</td>\n      <td>0.056894</td>\n      <td>0.602200</td>\n      <td>44NX2ffIYHr6D4n7RaZF7A</td>\n      <td>['classic rock', 'folk', 'folk rock', 'mellow ...</td>\n      <td>classic rock</td>\n      <td>../mp3songs/spotify_dataset/Have I Told You La...</td>\n    </tr>\n    <tr>\n      <th>1377</th>\n      <td>A Country Boy Can Survive</td>\n      <td>Hank Williams, Jr.</td>\n      <td>77dcKrzRUI02XjHd2okARp</td>\n      <td>https://p.scdn.co/mp3-preview/6c278f980b5594b4...</td>\n      <td>https://i.scdn.co/image/ab67616d0000b273401829...</td>\n      <td>0.688</td>\n      <td>0.459</td>\n      <td>-9.353</td>\n      <td>0.0365</td>\n      <td>0.14400</td>\n      <td>...</td>\n      <td>0.618721</td>\n      <td>0.531600</td>\n      <td>9.150396e-04</td>\n      <td>0.156218</td>\n      <td>0.043623</td>\n      <td>0.650446</td>\n      <td>2dyeCWctcFRt3Pha76ONgb</td>\n      <td>['country', 'country rock', 'outlaw country']</td>\n      <td>country</td>\n      <td>../mp3songs/spotify_dataset/A Country Boy Can ...</td>\n    </tr>\n    <tr>\n      <th>1780</th>\n      <td>Graceland</td>\n      <td>Paul Simon</td>\n      <td>51KKQAgYFoJHgVIuJWHdHb</td>\n      <td>https://p.scdn.co/mp3-preview/7e2256807c1cccc8...</td>\n      <td>https://i.scdn.co/image/ab67616d0000b27309880a...</td>\n      <td>0.732</td>\n      <td>0.705</td>\n      <td>-9.271</td>\n      <td>0.0349</td>\n      <td>0.62600</td>\n      <td>...</td>\n      <td>0.553000</td>\n      <td>0.691000</td>\n      <td>6.530000e-03</td>\n      <td>0.495000</td>\n      <td>0.076400</td>\n      <td>0.371000</td>\n      <td>2CvCyf1gEVhI0mX6aFXmVI</td>\n      <td>['classic rock', 'folk', 'folk rock', 'mellow ...</td>\n      <td>classic rock</td>\n      <td>../mp3songs/spotify_dataset/Graceland.mp3</td>\n    </tr>\n    <tr>\n      <th>1783</th>\n      <td>It's Five O'Clock Somewhere</td>\n      <td>Alan Jackson</td>\n      <td>5oHHMDcVOmPSFrCgdbHPdb</td>\n      <td>https://p.scdn.co/mp3-preview/235e8af3a26f3d8e...</td>\n      <td>https://i.scdn.co/image/ab67616d0000b273992151...</td>\n      <td>0.713</td>\n      <td>0.772</td>\n      <td>-6.690</td>\n      <td>0.0372</td>\n      <td>0.20800</td>\n      <td>...</td>\n      <td>0.631983</td>\n      <td>0.532313</td>\n      <td>4.498584e-03</td>\n      <td>0.169340</td>\n      <td>0.030963</td>\n      <td>0.581227</td>\n      <td>4mxWe1mtYIYfP040G38yvS</td>\n      <td>['country']</td>\n      <td>country</td>\n      <td>../mp3songs/spotify_dataset/It's Five O'Clock ...</td>\n    </tr>\n    <tr>\n      <th>1946</th>\n      <td>When You Say Nothing At All</td>\n      <td>Alison Krauss &amp; Union Station</td>\n      <td>46LI9mnlQ8fJHH47ioBubg</td>\n      <td>https://p.scdn.co/mp3-preview/b161bace583d8c3c...</td>\n      <td>https://i.scdn.co/image/ab67616d0000b273f1f17f...</td>\n      <td>0.509</td>\n      <td>0.242</td>\n      <td>-13.353</td>\n      <td>0.0291</td>\n      <td>0.71400</td>\n      <td>...</td>\n      <td>0.491875</td>\n      <td>0.337500</td>\n      <td>2.327798e-02</td>\n      <td>0.124088</td>\n      <td>0.033287</td>\n      <td>0.479125</td>\n      <td>0bc7dhY6YXL35m1G0jVwuW</td>\n      <td>['country', 'country road']</td>\n      <td>country</td>\n      <td>../mp3songs/spotify_dataset/When You Say Nothi...</td>\n    </tr>\n    <tr>\n      <th>2024</th>\n      <td>Can't Fight The Moonlight</td>\n      <td>LeAnn Rimes</td>\n      <td>2AogRMqARWyUP7VQ3gmSoY</td>\n      <td>https://p.scdn.co/mp3-preview/84b0ad9f6dddec18...</td>\n      <td>https://i.scdn.co/image/ab67616d0000b2735cf523...</td>\n      <td>0.628</td>\n      <td>0.834</td>\n      <td>-6.341</td>\n      <td>0.0497</td>\n      <td>0.40300</td>\n      <td>...</td>\n      <td>0.551625</td>\n      <td>0.558375</td>\n      <td>2.693875e-05</td>\n      <td>0.112431</td>\n      <td>0.032669</td>\n      <td>0.379688</td>\n      <td>2d3VHzlOEwXvmBdS4pzOPL</td>\n      <td>['country', 'country dawn', 'country road']</td>\n      <td>country</td>\n      <td>../mp3songs/spotify_dataset/Can't Fight The Mo...</td>\n    </tr>\n    <tr>\n      <th>2107</th>\n      <td>Days Like This</td>\n      <td>Van Morrison</td>\n      <td>3xINh6YqkLfucEtjoa4x7D</td>\n      <td>https://p.scdn.co/mp3-preview/80727f36ce4de08c...</td>\n      <td>https://i.scdn.co/image/ab67616d0000b273716d4c...</td>\n      <td>0.660</td>\n      <td>0.541</td>\n      <td>-7.851</td>\n      <td>0.0576</td>\n      <td>0.65800</td>\n      <td>...</td>\n      <td>0.551523</td>\n      <td>0.503300</td>\n      <td>2.542272e-02</td>\n      <td>0.229074</td>\n      <td>0.056894</td>\n      <td>0.602200</td>\n      <td>44NX2ffIYHr6D4n7RaZF7A</td>\n      <td>['classic rock', 'folk', 'folk rock', 'mellow ...</td>\n      <td>classic rock</td>\n      <td>../mp3songs/spotify_dataset/Days Like This.mp3</td>\n    </tr>\n    <tr>\n      <th>2169</th>\n      <td>Diamonds on the Soles of Her Shoes</td>\n      <td>Paul Simon</td>\n      <td>71GvlH0VdeClloLIkHrAVu</td>\n      <td>https://p.scdn.co/mp3-preview/75b35e78582e255a...</td>\n      <td>https://i.scdn.co/image/ab67616d0000b27309880a...</td>\n      <td>0.791</td>\n      <td>0.677</td>\n      <td>-9.724</td>\n      <td>0.0356</td>\n      <td>0.77600</td>\n      <td>...</td>\n      <td>0.553000</td>\n      <td>0.691000</td>\n      <td>6.530000e-03</td>\n      <td>0.495000</td>\n      <td>0.076400</td>\n      <td>0.371000</td>\n      <td>2CvCyf1gEVhI0mX6aFXmVI</td>\n      <td>['classic rock', 'folk', 'folk rock', 'mellow ...</td>\n      <td>classic rock</td>\n      <td>../mp3songs/spotify_dataset/Diamonds on the So...</td>\n    </tr>\n    <tr>\n      <th>2892</th>\n      <td>Someone Like You</td>\n      <td>Van Morrison</td>\n      <td>4beWEVoUbjSziAFPy8voaF</td>\n      <td>https://p.scdn.co/mp3-preview/f410cb5284156bde...</td>\n      <td>https://i.scdn.co/image/ab67616d0000b2738c7816...</td>\n      <td>0.474</td>\n      <td>0.351</td>\n      <td>-8.296</td>\n      <td>0.0286</td>\n      <td>0.38200</td>\n      <td>...</td>\n      <td>0.551523</td>\n      <td>0.503300</td>\n      <td>2.542272e-02</td>\n      <td>0.229074</td>\n      <td>0.056894</td>\n      <td>0.602200</td>\n      <td>44NX2ffIYHr6D4n7RaZF7A</td>\n      <td>['classic rock', 'folk', 'folk rock', 'mellow ...</td>\n      <td>classic rock</td>\n      <td>../mp3songs/spotify_dataset/Someone Like You.mp3</td>\n    </tr>\n    <tr>\n      <th>3455</th>\n      <td>Late in the Evening</td>\n      <td>Paul Simon</td>\n      <td>2h23bjG8B3bcD47HBu6bHG</td>\n      <td>https://p.scdn.co/mp3-preview/282dd09a7ed3a6e4...</td>\n      <td>https://i.scdn.co/image/ab67616d0000b27329fa77...</td>\n      <td>0.720</td>\n      <td>0.880</td>\n      <td>-8.988</td>\n      <td>0.0406</td>\n      <td>0.19900</td>\n      <td>...</td>\n      <td>0.553000</td>\n      <td>0.691000</td>\n      <td>6.530000e-03</td>\n      <td>0.495000</td>\n      <td>0.076400</td>\n      <td>0.371000</td>\n      <td>2CvCyf1gEVhI0mX6aFXmVI</td>\n      <td>['classic rock', 'folk', 'folk rock', 'mellow ...</td>\n      <td>classic rock</td>\n      <td>../mp3songs/spotify_dataset/Late in the Evenin...</td>\n    </tr>\n    <tr>\n      <th>3867</th>\n      <td>Slip Slidin' Away</td>\n      <td>Paul Simon</td>\n      <td>0zb2kpEQMnqJPiLACKMiFM</td>\n      <td>https://p.scdn.co/mp3-preview/fe4b595d8c7892c0...</td>\n      <td>https://i.scdn.co/image/ab67616d0000b2737075e4...</td>\n      <td>0.641</td>\n      <td>0.409</td>\n      <td>-12.452</td>\n      <td>0.0348</td>\n      <td>0.74300</td>\n      <td>...</td>\n      <td>0.553000</td>\n      <td>0.691000</td>\n      <td>6.530000e-03</td>\n      <td>0.495000</td>\n      <td>0.076400</td>\n      <td>0.371000</td>\n      <td>2CvCyf1gEVhI0mX6aFXmVI</td>\n      <td>['classic rock', 'folk', 'folk rock', 'mellow ...</td>\n      <td>classic rock</td>\n      <td>../mp3songs/spotify_dataset/Slip Slidin' Away.mp3</td>\n    </tr>\n    <tr>\n      <th>4283</th>\n      <td>These Are the Days</td>\n      <td>Van Morrison</td>\n      <td>0qyAgwtnMU6AOszUw0DWTe</td>\n      <td>https://p.scdn.co/mp3-preview/27d2a655a4659723...</td>\n      <td>https://i.scdn.co/image/ab67616d0000b273202a4b...</td>\n      <td>0.563</td>\n      <td>0.400</td>\n      <td>-10.480</td>\n      <td>0.0248</td>\n      <td>0.40400</td>\n      <td>...</td>\n      <td>0.551523</td>\n      <td>0.503300</td>\n      <td>2.542272e-02</td>\n      <td>0.229074</td>\n      <td>0.056894</td>\n      <td>0.602200</td>\n      <td>44NX2ffIYHr6D4n7RaZF7A</td>\n      <td>['classic rock', 'folk', 'folk rock', 'mellow ...</td>\n      <td>classic rock</td>\n      <td>../mp3songs/spotify_dataset/These Are the Days...</td>\n    </tr>\n    <tr>\n      <th>4568</th>\n      <td>Make You Feel My Love</td>\n      <td>Bob Dylan</td>\n      <td>6rfGPGghQL7SJmZPXprXIc</td>\n      <td>https://p.scdn.co/mp3-preview/a5b57bd6404b5ecf...</td>\n      <td>https://i.scdn.co/image/ab67616d0000b273fa4240...</td>\n      <td>0.375</td>\n      <td>0.219</td>\n      <td>-13.112</td>\n      <td>0.0288</td>\n      <td>0.78000</td>\n      <td>...</td>\n      <td>0.512598</td>\n      <td>0.477932</td>\n      <td>3.421143e-02</td>\n      <td>0.308978</td>\n      <td>0.064535</td>\n      <td>0.551934</td>\n      <td>74ASZWbe4lXaubB36ztrGX</td>\n      <td>['classic rock', 'country rock', 'folk', 'folk...</td>\n      <td>classic rock</td>\n      <td>../mp3songs/spotify_dataset/Make You Feel My L...</td>\n    </tr>\n  </tbody>\n</table>\n<p>60 rows × 24 columns</p>\n</div>"
     },
     "metadata": {},
     "output_type": "display_data"
    }
   ],
   "source": [
    "import pandas as pd\n",
    "df = pd.read_csv('spotify_songs_20k_snapshot_filtered_limited_with_paths.csv')\n",
    "desired_genres = ['pop', 'hip hop', 'r&b', 'edm', 'classic rock', 'country']\n",
    "\n",
    "# Filter the DataFrame to include only rows with the desired first genres\n",
    "filtered_df = df[df['first_genre'].isin(desired_genres)]\n",
    "\n",
    "# Select only 10 rows of each genre\n",
    "filtered_df = filtered_df.groupby('first_genre').head(10)\n",
    "\n",
    "# Display the filtered DataFrame\n",
    "display(filtered_df)"
   ],
   "metadata": {
    "collapsed": false,
    "ExecuteTime": {
     "start_time": "2025-01-26T18:22:27.385833Z",
     "end_time": "2025-01-26T18:22:27.553357Z"
    }
   }
  },
  {
   "cell_type": "code",
   "execution_count": 6,
   "outputs": [
    {
     "name": "stderr",
     "output_type": "stream",
     "text": [
      "  1%|          | 9/844 [00:06<09:49,  1.42it/s]"
     ]
    },
    {
     "name": "stdout",
     "output_type": "stream",
     "text": [
      "Upserted batch 1 from: test_set_final_13main_59sub_genres.csv\n",
      "operation_id=0 status=<UpdateStatus.COMPLETED: 'completed'>\n"
     ]
    },
    {
     "name": "stderr",
     "output_type": "stream",
     "text": [
      "  1%|          | 10/844 [00:08<16:29,  1.19s/it]"
     ]
    },
    {
     "name": "stdout",
     "output_type": "stream",
     "text": [
      "Saved DataFrame with embeddings to: test_set_final_13main_59sub_genres.csv\n"
     ]
    },
    {
     "name": "stderr",
     "output_type": "stream",
     "text": [
      "  2%|▏         | 19/844 [00:15<10:07,  1.36it/s]"
     ]
    },
    {
     "name": "stdout",
     "output_type": "stream",
     "text": [
      "Upserted batch 2 from: test_set_final_13main_59sub_genres.csv\n",
      "operation_id=1 status=<UpdateStatus.COMPLETED: 'completed'>\n"
     ]
    },
    {
     "name": "stderr",
     "output_type": "stream",
     "text": [
      "  2%|▏         | 20/844 [00:17<16:22,  1.19s/it]"
     ]
    },
    {
     "name": "stdout",
     "output_type": "stream",
     "text": [
      "Saved DataFrame with embeddings to: test_set_final_13main_59sub_genres.csv\n"
     ]
    },
    {
     "name": "stderr",
     "output_type": "stream",
     "text": [
      "  3%|▎         | 29/844 [00:23<10:11,  1.33it/s]"
     ]
    },
    {
     "name": "stdout",
     "output_type": "stream",
     "text": [
      "Upserted batch 3 from: test_set_final_13main_59sub_genres.csv\n",
      "operation_id=2 status=<UpdateStatus.COMPLETED: 'completed'>\n"
     ]
    },
    {
     "name": "stderr",
     "output_type": "stream",
     "text": [
      "  4%|▎         | 30/844 [00:26<16:35,  1.22s/it]"
     ]
    },
    {
     "name": "stdout",
     "output_type": "stream",
     "text": [
      "Saved DataFrame with embeddings to: test_set_final_13main_59sub_genres.csv\n"
     ]
    },
    {
     "name": "stderr",
     "output_type": "stream",
     "text": [
      "  5%|▍         | 39/844 [00:35<14:53,  1.11s/it]"
     ]
    },
    {
     "name": "stdout",
     "output_type": "stream",
     "text": [
      "Upserted batch 4 from: test_set_final_13main_59sub_genres.csv\n",
      "operation_id=3 status=<UpdateStatus.COMPLETED: 'completed'>\n"
     ]
    },
    {
     "name": "stderr",
     "output_type": "stream",
     "text": [
      "  5%|▍         | 40/844 [00:38<22:18,  1.66s/it]"
     ]
    },
    {
     "name": "stdout",
     "output_type": "stream",
     "text": [
      "Saved DataFrame with embeddings to: test_set_final_13main_59sub_genres.csv\n"
     ]
    },
    {
     "name": "stderr",
     "output_type": "stream",
     "text": [
      "  6%|▌         | 49/844 [00:46<11:46,  1.13it/s]"
     ]
    },
    {
     "name": "stdout",
     "output_type": "stream",
     "text": [
      "Upserted batch 5 from: test_set_final_13main_59sub_genres.csv\n",
      "operation_id=4 status=<UpdateStatus.COMPLETED: 'completed'>\n"
     ]
    },
    {
     "name": "stderr",
     "output_type": "stream",
     "text": [
      "  6%|▌         | 50/844 [00:49<19:30,  1.47s/it]"
     ]
    },
    {
     "name": "stdout",
     "output_type": "stream",
     "text": [
      "Saved DataFrame with embeddings to: test_set_final_13main_59sub_genres.csv\n"
     ]
    },
    {
     "name": "stderr",
     "output_type": "stream",
     "text": [
      "  7%|▋         | 59/844 [00:57<11:14,  1.16it/s]"
     ]
    },
    {
     "name": "stdout",
     "output_type": "stream",
     "text": [
      "Upserted batch 6 from: test_set_final_13main_59sub_genres.csv\n",
      "operation_id=5 status=<UpdateStatus.COMPLETED: 'completed'>\n"
     ]
    },
    {
     "name": "stderr",
     "output_type": "stream",
     "text": [
      "  7%|▋         | 60/844 [01:00<18:53,  1.45s/it]"
     ]
    },
    {
     "name": "stdout",
     "output_type": "stream",
     "text": [
      "Saved DataFrame with embeddings to: test_set_final_13main_59sub_genres.csv\n"
     ]
    },
    {
     "name": "stderr",
     "output_type": "stream",
     "text": [
      "  8%|▊         | 69/844 [01:08<11:26,  1.13it/s]"
     ]
    },
    {
     "name": "stdout",
     "output_type": "stream",
     "text": [
      "Upserted batch 7 from: test_set_final_13main_59sub_genres.csv\n",
      "operation_id=6 status=<UpdateStatus.COMPLETED: 'completed'>\n"
     ]
    },
    {
     "name": "stderr",
     "output_type": "stream",
     "text": [
      "  8%|▊         | 70/844 [01:10<18:49,  1.46s/it]"
     ]
    },
    {
     "name": "stdout",
     "output_type": "stream",
     "text": [
      "Saved DataFrame with embeddings to: test_set_final_13main_59sub_genres.csv\n"
     ]
    },
    {
     "name": "stderr",
     "output_type": "stream",
     "text": [
      "  9%|▉         | 79/844 [01:18<10:43,  1.19it/s]"
     ]
    },
    {
     "name": "stdout",
     "output_type": "stream",
     "text": [
      "Upserted batch 8 from: test_set_final_13main_59sub_genres.csv\n",
      "operation_id=7 status=<UpdateStatus.COMPLETED: 'completed'>\n"
     ]
    },
    {
     "name": "stderr",
     "output_type": "stream",
     "text": [
      "  9%|▉         | 80/844 [01:21<17:57,  1.41s/it]"
     ]
    },
    {
     "name": "stdout",
     "output_type": "stream",
     "text": [
      "Saved DataFrame with embeddings to: test_set_final_13main_59sub_genres.csv\n"
     ]
    },
    {
     "name": "stderr",
     "output_type": "stream",
     "text": [
      " 11%|█         | 89/844 [01:28<10:09,  1.24it/s]"
     ]
    },
    {
     "name": "stdout",
     "output_type": "stream",
     "text": [
      "Upserted batch 9 from: test_set_final_13main_59sub_genres.csv\n",
      "operation_id=8 status=<UpdateStatus.COMPLETED: 'completed'>\n"
     ]
    },
    {
     "name": "stderr",
     "output_type": "stream",
     "text": [
      " 11%|█         | 90/844 [01:30<16:59,  1.35s/it]"
     ]
    },
    {
     "name": "stdout",
     "output_type": "stream",
     "text": [
      "Saved DataFrame with embeddings to: test_set_final_13main_59sub_genres.csv\n"
     ]
    },
    {
     "name": "stderr",
     "output_type": "stream",
     "text": [
      " 12%|█▏        | 99/844 [01:37<09:45,  1.27it/s]"
     ]
    },
    {
     "name": "stdout",
     "output_type": "stream",
     "text": [
      "Upserted batch 10 from: test_set_final_13main_59sub_genres.csv\n",
      "operation_id=9 status=<UpdateStatus.COMPLETED: 'completed'>\n"
     ]
    },
    {
     "name": "stderr",
     "output_type": "stream",
     "text": [
      " 12%|█▏        | 100/844 [01:40<16:37,  1.34s/it]"
     ]
    },
    {
     "name": "stdout",
     "output_type": "stream",
     "text": [
      "Saved DataFrame with embeddings to: test_set_final_13main_59sub_genres.csv\n"
     ]
    },
    {
     "name": "stderr",
     "output_type": "stream",
     "text": [
      " 13%|█▎        | 109/844 [01:47<09:34,  1.28it/s]"
     ]
    },
    {
     "name": "stdout",
     "output_type": "stream",
     "text": [
      "Upserted batch 11 from: test_set_final_13main_59sub_genres.csv\n",
      "operation_id=10 status=<UpdateStatus.COMPLETED: 'completed'>\n"
     ]
    },
    {
     "name": "stderr",
     "output_type": "stream",
     "text": [
      " 13%|█▎        | 110/844 [01:49<16:03,  1.31s/it]"
     ]
    },
    {
     "name": "stdout",
     "output_type": "stream",
     "text": [
      "Saved DataFrame with embeddings to: test_set_final_13main_59sub_genres.csv\n"
     ]
    },
    {
     "name": "stderr",
     "output_type": "stream",
     "text": [
      " 14%|█▍        | 119/844 [01:57<12:25,  1.03s/it]"
     ]
    },
    {
     "name": "stdout",
     "output_type": "stream",
     "text": [
      "Upserted batch 12 from: test_set_final_13main_59sub_genres.csv\n",
      "operation_id=11 status=<UpdateStatus.COMPLETED: 'completed'>\n"
     ]
    },
    {
     "name": "stderr",
     "output_type": "stream",
     "text": [
      " 14%|█▍        | 120/844 [02:01<20:27,  1.70s/it]"
     ]
    },
    {
     "name": "stdout",
     "output_type": "stream",
     "text": [
      "Saved DataFrame with embeddings to: test_set_final_13main_59sub_genres.csv\n"
     ]
    },
    {
     "name": "stderr",
     "output_type": "stream",
     "text": [
      " 15%|█▌        | 129/844 [02:08<10:18,  1.16it/s]"
     ]
    },
    {
     "name": "stdout",
     "output_type": "stream",
     "text": [
      "Upserted batch 13 from: test_set_final_13main_59sub_genres.csv\n",
      "operation_id=12 status=<UpdateStatus.COMPLETED: 'completed'>\n"
     ]
    },
    {
     "name": "stderr",
     "output_type": "stream",
     "text": [
      " 15%|█▌        | 130/844 [02:11<16:41,  1.40s/it]"
     ]
    },
    {
     "name": "stdout",
     "output_type": "stream",
     "text": [
      "Saved DataFrame with embeddings to: test_set_final_13main_59sub_genres.csv\n"
     ]
    },
    {
     "name": "stderr",
     "output_type": "stream",
     "text": [
      " 16%|█▋        | 139/844 [02:18<09:38,  1.22it/s]"
     ]
    },
    {
     "name": "stdout",
     "output_type": "stream",
     "text": [
      "Upserted batch 14 from: test_set_final_13main_59sub_genres.csv\n",
      "operation_id=13 status=<UpdateStatus.COMPLETED: 'completed'>\n"
     ]
    },
    {
     "name": "stderr",
     "output_type": "stream",
     "text": [
      " 17%|█▋        | 140/844 [02:21<16:06,  1.37s/it]"
     ]
    },
    {
     "name": "stdout",
     "output_type": "stream",
     "text": [
      "Saved DataFrame with embeddings to: test_set_final_13main_59sub_genres.csv\n"
     ]
    },
    {
     "name": "stderr",
     "output_type": "stream",
     "text": [
      " 18%|█▊        | 149/844 [02:28<09:16,  1.25it/s]"
     ]
    },
    {
     "name": "stdout",
     "output_type": "stream",
     "text": [
      "Upserted batch 15 from: test_set_final_13main_59sub_genres.csv\n",
      "operation_id=14 status=<UpdateStatus.COMPLETED: 'completed'>\n"
     ]
    },
    {
     "name": "stderr",
     "output_type": "stream",
     "text": [
      " 18%|█▊        | 150/844 [02:31<15:47,  1.36s/it]"
     ]
    },
    {
     "name": "stdout",
     "output_type": "stream",
     "text": [
      "Saved DataFrame with embeddings to: test_set_final_13main_59sub_genres.csv\n"
     ]
    },
    {
     "name": "stderr",
     "output_type": "stream",
     "text": [
      " 19%|█▉        | 159/844 [02:38<09:50,  1.16it/s]"
     ]
    },
    {
     "name": "stdout",
     "output_type": "stream",
     "text": [
      "Upserted batch 16 from: test_set_final_13main_59sub_genres.csv\n",
      "operation_id=15 status=<UpdateStatus.COMPLETED: 'completed'>\n"
     ]
    },
    {
     "name": "stderr",
     "output_type": "stream",
     "text": [
      " 19%|█▉        | 160/844 [02:41<16:22,  1.44s/it]"
     ]
    },
    {
     "name": "stdout",
     "output_type": "stream",
     "text": [
      "Saved DataFrame with embeddings to: test_set_final_13main_59sub_genres.csv\n"
     ]
    },
    {
     "name": "stderr",
     "output_type": "stream",
     "text": [
      " 20%|██        | 169/844 [02:48<09:07,  1.23it/s]"
     ]
    },
    {
     "name": "stdout",
     "output_type": "stream",
     "text": [
      "Upserted batch 17 from: test_set_final_13main_59sub_genres.csv\n",
      "operation_id=16 status=<UpdateStatus.COMPLETED: 'completed'>\n"
     ]
    },
    {
     "name": "stderr",
     "output_type": "stream",
     "text": [
      " 20%|██        | 170/844 [02:51<15:16,  1.36s/it]"
     ]
    },
    {
     "name": "stdout",
     "output_type": "stream",
     "text": [
      "Saved DataFrame with embeddings to: test_set_final_13main_59sub_genres.csv\n"
     ]
    },
    {
     "name": "stderr",
     "output_type": "stream",
     "text": [
      " 21%|██        | 179/844 [02:58<08:41,  1.28it/s]"
     ]
    },
    {
     "name": "stdout",
     "output_type": "stream",
     "text": [
      "Upserted batch 18 from: test_set_final_13main_59sub_genres.csv\n",
      "operation_id=17 status=<UpdateStatus.COMPLETED: 'completed'>\n"
     ]
    },
    {
     "name": "stderr",
     "output_type": "stream",
     "text": [
      " 21%|██▏       | 180/844 [03:00<15:07,  1.37s/it]"
     ]
    },
    {
     "name": "stdout",
     "output_type": "stream",
     "text": [
      "Saved DataFrame with embeddings to: test_set_final_13main_59sub_genres.csv\n"
     ]
    },
    {
     "name": "stderr",
     "output_type": "stream",
     "text": [
      " 22%|██▏       | 189/844 [03:07<08:35,  1.27it/s]"
     ]
    },
    {
     "name": "stdout",
     "output_type": "stream",
     "text": [
      "Upserted batch 19 from: test_set_final_13main_59sub_genres.csv\n",
      "operation_id=18 status=<UpdateStatus.COMPLETED: 'completed'>\n"
     ]
    },
    {
     "name": "stderr",
     "output_type": "stream",
     "text": [
      " 23%|██▎       | 190/844 [03:10<14:40,  1.35s/it]"
     ]
    },
    {
     "name": "stdout",
     "output_type": "stream",
     "text": [
      "Saved DataFrame with embeddings to: test_set_final_13main_59sub_genres.csv\n"
     ]
    },
    {
     "name": "stderr",
     "output_type": "stream",
     "text": [
      " 24%|██▎       | 199/844 [03:18<09:30,  1.13it/s]"
     ]
    },
    {
     "name": "stdout",
     "output_type": "stream",
     "text": [
      "Upserted batch 20 from: test_set_final_13main_59sub_genres.csv\n",
      "operation_id=19 status=<UpdateStatus.COMPLETED: 'completed'>\n"
     ]
    },
    {
     "name": "stderr",
     "output_type": "stream",
     "text": [
      " 24%|██▎       | 200/844 [03:21<15:21,  1.43s/it]"
     ]
    },
    {
     "name": "stdout",
     "output_type": "stream",
     "text": [
      "Saved DataFrame with embeddings to: test_set_final_13main_59sub_genres.csv\n"
     ]
    },
    {
     "name": "stderr",
     "output_type": "stream",
     "text": [
      " 25%|██▍       | 209/844 [03:28<08:36,  1.23it/s]"
     ]
    },
    {
     "name": "stdout",
     "output_type": "stream",
     "text": [
      "Upserted batch 21 from: test_set_final_13main_59sub_genres.csv\n",
      "operation_id=20 status=<UpdateStatus.COMPLETED: 'completed'>\n"
     ]
    },
    {
     "name": "stderr",
     "output_type": "stream",
     "text": [
      " 25%|██▍       | 210/844 [03:31<14:32,  1.38s/it]"
     ]
    },
    {
     "name": "stdout",
     "output_type": "stream",
     "text": [
      "Saved DataFrame with embeddings to: test_set_final_13main_59sub_genres.csv\n"
     ]
    },
    {
     "name": "stderr",
     "output_type": "stream",
     "text": [
      " 26%|██▌       | 219/844 [03:38<08:23,  1.24it/s]"
     ]
    },
    {
     "name": "stdout",
     "output_type": "stream",
     "text": [
      "Upserted batch 22 from: test_set_final_13main_59sub_genres.csv\n",
      "operation_id=21 status=<UpdateStatus.COMPLETED: 'completed'>\n"
     ]
    },
    {
     "name": "stderr",
     "output_type": "stream",
     "text": [
      " 26%|██▌       | 220/844 [03:41<14:20,  1.38s/it]"
     ]
    },
    {
     "name": "stdout",
     "output_type": "stream",
     "text": [
      "Saved DataFrame with embeddings to: test_set_final_13main_59sub_genres.csv\n"
     ]
    },
    {
     "name": "stderr",
     "output_type": "stream",
     "text": [
      " 27%|██▋       | 229/844 [03:48<08:15,  1.24it/s]"
     ]
    },
    {
     "name": "stdout",
     "output_type": "stream",
     "text": [
      "Upserted batch 23 from: test_set_final_13main_59sub_genres.csv\n",
      "operation_id=22 status=<UpdateStatus.COMPLETED: 'completed'>\n"
     ]
    },
    {
     "name": "stderr",
     "output_type": "stream",
     "text": [
      " 27%|██▋       | 230/844 [03:51<14:02,  1.37s/it]"
     ]
    },
    {
     "name": "stdout",
     "output_type": "stream",
     "text": [
      "Saved DataFrame with embeddings to: test_set_final_13main_59sub_genres.csv\n"
     ]
    },
    {
     "name": "stderr",
     "output_type": "stream",
     "text": [
      " 28%|██▊       | 239/844 [03:58<08:35,  1.17it/s]"
     ]
    },
    {
     "name": "stdout",
     "output_type": "stream",
     "text": [
      "Upserted batch 24 from: test_set_final_13main_59sub_genres.csv\n",
      "operation_id=23 status=<UpdateStatus.COMPLETED: 'completed'>\n"
     ]
    },
    {
     "name": "stderr",
     "output_type": "stream",
     "text": [
      " 28%|██▊       | 240/844 [04:01<14:40,  1.46s/it]"
     ]
    },
    {
     "name": "stdout",
     "output_type": "stream",
     "text": [
      "Saved DataFrame with embeddings to: test_set_final_13main_59sub_genres.csv\n"
     ]
    },
    {
     "name": "stderr",
     "output_type": "stream",
     "text": [
      " 30%|██▉       | 249/844 [04:09<08:48,  1.13it/s]"
     ]
    },
    {
     "name": "stdout",
     "output_type": "stream",
     "text": [
      "Upserted batch 25 from: test_set_final_13main_59sub_genres.csv\n",
      "operation_id=24 status=<UpdateStatus.COMPLETED: 'completed'>\n"
     ]
    },
    {
     "name": "stderr",
     "output_type": "stream",
     "text": [
      " 30%|██▉       | 250/844 [04:12<14:36,  1.48s/it]"
     ]
    },
    {
     "name": "stdout",
     "output_type": "stream",
     "text": [
      "Saved DataFrame with embeddings to: test_set_final_13main_59sub_genres.csv\n"
     ]
    },
    {
     "name": "stderr",
     "output_type": "stream",
     "text": [
      " 31%|███       | 259/844 [04:19<08:12,  1.19it/s]"
     ]
    },
    {
     "name": "stdout",
     "output_type": "stream",
     "text": [
      "Upserted batch 26 from: test_set_final_13main_59sub_genres.csv\n",
      "operation_id=25 status=<UpdateStatus.COMPLETED: 'completed'>\n"
     ]
    },
    {
     "name": "stderr",
     "output_type": "stream",
     "text": [
      " 31%|███       | 260/844 [04:22<14:10,  1.46s/it]"
     ]
    },
    {
     "name": "stdout",
     "output_type": "stream",
     "text": [
      "Saved DataFrame with embeddings to: test_set_final_13main_59sub_genres.csv\n"
     ]
    },
    {
     "name": "stderr",
     "output_type": "stream",
     "text": [
      " 32%|███▏      | 269/844 [04:30<08:05,  1.18it/s]"
     ]
    },
    {
     "name": "stdout",
     "output_type": "stream",
     "text": [
      "Upserted batch 27 from: test_set_final_13main_59sub_genres.csv\n",
      "operation_id=26 status=<UpdateStatus.COMPLETED: 'completed'>\n"
     ]
    },
    {
     "name": "stderr",
     "output_type": "stream",
     "text": [
      " 32%|███▏      | 270/844 [04:33<13:33,  1.42s/it]"
     ]
    },
    {
     "name": "stdout",
     "output_type": "stream",
     "text": [
      "Saved DataFrame with embeddings to: test_set_final_13main_59sub_genres.csv\n"
     ]
    },
    {
     "name": "stderr",
     "output_type": "stream",
     "text": [
      " 33%|███▎      | 279/844 [04:41<08:29,  1.11it/s]"
     ]
    },
    {
     "name": "stdout",
     "output_type": "stream",
     "text": [
      "Upserted batch 28 from: test_set_final_13main_59sub_genres.csv\n",
      "operation_id=27 status=<UpdateStatus.COMPLETED: 'completed'>\n"
     ]
    },
    {
     "name": "stderr",
     "output_type": "stream",
     "text": [
      " 33%|███▎      | 280/844 [04:44<14:05,  1.50s/it]"
     ]
    },
    {
     "name": "stdout",
     "output_type": "stream",
     "text": [
      "Saved DataFrame with embeddings to: test_set_final_13main_59sub_genres.csv\n"
     ]
    },
    {
     "name": "stderr",
     "output_type": "stream",
     "text": [
      " 34%|███▍      | 289/844 [04:52<08:05,  1.14it/s]"
     ]
    },
    {
     "name": "stdout",
     "output_type": "stream",
     "text": [
      "Upserted batch 29 from: test_set_final_13main_59sub_genres.csv\n",
      "operation_id=28 status=<UpdateStatus.COMPLETED: 'completed'>\n"
     ]
    },
    {
     "name": "stderr",
     "output_type": "stream",
     "text": [
      " 34%|███▍      | 290/844 [04:55<14:09,  1.53s/it]"
     ]
    },
    {
     "name": "stdout",
     "output_type": "stream",
     "text": [
      "Saved DataFrame with embeddings to: test_set_final_13main_59sub_genres.csv\n"
     ]
    },
    {
     "name": "stderr",
     "output_type": "stream",
     "text": [
      " 35%|███▌      | 299/844 [05:03<08:35,  1.06it/s]"
     ]
    },
    {
     "name": "stdout",
     "output_type": "stream",
     "text": [
      "Upserted batch 30 from: test_set_final_13main_59sub_genres.csv\n",
      "operation_id=29 status=<UpdateStatus.COMPLETED: 'completed'>\n"
     ]
    },
    {
     "name": "stderr",
     "output_type": "stream",
     "text": [
      " 36%|███▌      | 300/844 [05:06<14:45,  1.63s/it]"
     ]
    },
    {
     "name": "stdout",
     "output_type": "stream",
     "text": [
      "Saved DataFrame with embeddings to: test_set_final_13main_59sub_genres.csv\n"
     ]
    },
    {
     "name": "stderr",
     "output_type": "stream",
     "text": [
      " 37%|███▋      | 309/844 [05:13<07:44,  1.15it/s]"
     ]
    },
    {
     "name": "stdout",
     "output_type": "stream",
     "text": [
      "Upserted batch 31 from: test_set_final_13main_59sub_genres.csv\n",
      "operation_id=30 status=<UpdateStatus.COMPLETED: 'completed'>\n"
     ]
    },
    {
     "name": "stderr",
     "output_type": "stream",
     "text": [
      " 37%|███▋      | 310/844 [05:16<13:29,  1.52s/it]"
     ]
    },
    {
     "name": "stdout",
     "output_type": "stream",
     "text": [
      "Saved DataFrame with embeddings to: test_set_final_13main_59sub_genres.csv\n"
     ]
    },
    {
     "name": "stderr",
     "output_type": "stream",
     "text": [
      " 38%|███▊      | 319/844 [05:24<07:54,  1.11it/s]"
     ]
    },
    {
     "name": "stdout",
     "output_type": "stream",
     "text": [
      "Upserted batch 32 from: test_set_final_13main_59sub_genres.csv\n",
      "operation_id=31 status=<UpdateStatus.COMPLETED: 'completed'>\n"
     ]
    },
    {
     "name": "stderr",
     "output_type": "stream",
     "text": [
      " 38%|███▊      | 320/844 [05:27<13:07,  1.50s/it]"
     ]
    },
    {
     "name": "stdout",
     "output_type": "stream",
     "text": [
      "Saved DataFrame with embeddings to: test_set_final_13main_59sub_genres.csv\n"
     ]
    },
    {
     "name": "stderr",
     "output_type": "stream",
     "text": [
      " 39%|███▉      | 329/844 [05:35<07:38,  1.12it/s]"
     ]
    },
    {
     "name": "stdout",
     "output_type": "stream",
     "text": [
      "Upserted batch 33 from: test_set_final_13main_59sub_genres.csv\n",
      "operation_id=32 status=<UpdateStatus.COMPLETED: 'completed'>\n"
     ]
    },
    {
     "name": "stderr",
     "output_type": "stream",
     "text": [
      " 39%|███▉      | 330/844 [05:38<12:44,  1.49s/it]"
     ]
    },
    {
     "name": "stdout",
     "output_type": "stream",
     "text": [
      "Saved DataFrame with embeddings to: test_set_final_13main_59sub_genres.csv\n"
     ]
    },
    {
     "name": "stderr",
     "output_type": "stream",
     "text": [
      " 40%|████      | 339/844 [05:45<07:10,  1.17it/s]"
     ]
    },
    {
     "name": "stdout",
     "output_type": "stream",
     "text": [
      "Upserted batch 34 from: test_set_final_13main_59sub_genres.csv\n",
      "operation_id=33 status=<UpdateStatus.COMPLETED: 'completed'>\n"
     ]
    },
    {
     "name": "stderr",
     "output_type": "stream",
     "text": [
      " 40%|████      | 340/844 [05:48<12:01,  1.43s/it]"
     ]
    },
    {
     "name": "stdout",
     "output_type": "stream",
     "text": [
      "Saved DataFrame with embeddings to: test_set_final_13main_59sub_genres.csv\n"
     ]
    },
    {
     "name": "stderr",
     "output_type": "stream",
     "text": [
      " 41%|████▏     | 349/844 [05:56<07:09,  1.15it/s]"
     ]
    },
    {
     "name": "stdout",
     "output_type": "stream",
     "text": [
      "Upserted batch 35 from: test_set_final_13main_59sub_genres.csv\n",
      "operation_id=34 status=<UpdateStatus.COMPLETED: 'completed'>\n"
     ]
    },
    {
     "name": "stderr",
     "output_type": "stream",
     "text": [
      " 41%|████▏     | 350/844 [05:58<11:53,  1.45s/it]"
     ]
    },
    {
     "name": "stdout",
     "output_type": "stream",
     "text": [
      "Saved DataFrame with embeddings to: test_set_final_13main_59sub_genres.csv\n"
     ]
    },
    {
     "name": "stderr",
     "output_type": "stream",
     "text": [
      " 43%|████▎     | 359/844 [06:06<07:29,  1.08it/s]"
     ]
    },
    {
     "name": "stdout",
     "output_type": "stream",
     "text": [
      "Upserted batch 36 from: test_set_final_13main_59sub_genres.csv\n",
      "operation_id=35 status=<UpdateStatus.COMPLETED: 'completed'>\n"
     ]
    },
    {
     "name": "stderr",
     "output_type": "stream",
     "text": [
      " 43%|████▎     | 360/844 [06:09<12:18,  1.53s/it]"
     ]
    },
    {
     "name": "stdout",
     "output_type": "stream",
     "text": [
      "Saved DataFrame with embeddings to: test_set_final_13main_59sub_genres.csv\n"
     ]
    },
    {
     "name": "stderr",
     "output_type": "stream",
     "text": [
      " 44%|████▎     | 369/844 [06:17<06:58,  1.14it/s]"
     ]
    },
    {
     "name": "stdout",
     "output_type": "stream",
     "text": [
      "Upserted batch 37 from: test_set_final_13main_59sub_genres.csv\n",
      "operation_id=36 status=<UpdateStatus.COMPLETED: 'completed'>\n"
     ]
    },
    {
     "name": "stderr",
     "output_type": "stream",
     "text": [
      " 44%|████▍     | 370/844 [06:20<11:31,  1.46s/it]"
     ]
    },
    {
     "name": "stdout",
     "output_type": "stream",
     "text": [
      "Saved DataFrame with embeddings to: test_set_final_13main_59sub_genres.csv\n"
     ]
    },
    {
     "name": "stderr",
     "output_type": "stream",
     "text": [
      " 45%|████▍     | 379/844 [06:28<06:48,  1.14it/s]"
     ]
    },
    {
     "name": "stdout",
     "output_type": "stream",
     "text": [
      "Upserted batch 38 from: test_set_final_13main_59sub_genres.csv\n",
      "operation_id=37 status=<UpdateStatus.COMPLETED: 'completed'>\n"
     ]
    },
    {
     "name": "stderr",
     "output_type": "stream",
     "text": [
      " 45%|████▌     | 380/844 [06:31<11:39,  1.51s/it]"
     ]
    },
    {
     "name": "stdout",
     "output_type": "stream",
     "text": [
      "Saved DataFrame with embeddings to: test_set_final_13main_59sub_genres.csv\n"
     ]
    },
    {
     "name": "stderr",
     "output_type": "stream",
     "text": [
      " 46%|████▌     | 389/844 [06:38<06:25,  1.18it/s]"
     ]
    },
    {
     "name": "stdout",
     "output_type": "stream",
     "text": [
      "Upserted batch 39 from: test_set_final_13main_59sub_genres.csv\n",
      "operation_id=38 status=<UpdateStatus.COMPLETED: 'completed'>\n"
     ]
    },
    {
     "name": "stderr",
     "output_type": "stream",
     "text": [
      " 46%|████▌     | 390/844 [06:41<10:51,  1.44s/it]"
     ]
    },
    {
     "name": "stdout",
     "output_type": "stream",
     "text": [
      "Saved DataFrame with embeddings to: test_set_final_13main_59sub_genres.csv\n"
     ]
    },
    {
     "name": "stderr",
     "output_type": "stream",
     "text": [
      " 47%|████▋     | 399/844 [06:48<06:14,  1.19it/s]"
     ]
    },
    {
     "name": "stdout",
     "output_type": "stream",
     "text": [
      "Upserted batch 40 from: test_set_final_13main_59sub_genres.csv\n",
      "operation_id=39 status=<UpdateStatus.COMPLETED: 'completed'>\n"
     ]
    },
    {
     "name": "stderr",
     "output_type": "stream",
     "text": [
      " 47%|████▋     | 400/844 [06:51<10:37,  1.44s/it]"
     ]
    },
    {
     "name": "stdout",
     "output_type": "stream",
     "text": [
      "Saved DataFrame with embeddings to: test_set_final_13main_59sub_genres.csv\n"
     ]
    },
    {
     "name": "stderr",
     "output_type": "stream",
     "text": [
      " 48%|████▊     | 409/844 [06:58<06:05,  1.19it/s]"
     ]
    },
    {
     "name": "stdout",
     "output_type": "stream",
     "text": [
      "Upserted batch 41 from: test_set_final_13main_59sub_genres.csv\n",
      "operation_id=40 status=<UpdateStatus.COMPLETED: 'completed'>\n"
     ]
    },
    {
     "name": "stderr",
     "output_type": "stream",
     "text": [
      " 49%|████▊     | 410/844 [07:01<10:27,  1.45s/it]"
     ]
    },
    {
     "name": "stdout",
     "output_type": "stream",
     "text": [
      "Saved DataFrame with embeddings to: test_set_final_13main_59sub_genres.csv\n"
     ]
    },
    {
     "name": "stderr",
     "output_type": "stream",
     "text": [
      " 50%|████▉     | 419/844 [07:09<06:25,  1.10it/s]"
     ]
    },
    {
     "name": "stdout",
     "output_type": "stream",
     "text": [
      "Upserted batch 42 from: test_set_final_13main_59sub_genres.csv\n",
      "operation_id=41 status=<UpdateStatus.COMPLETED: 'completed'>\n"
     ]
    },
    {
     "name": "stderr",
     "output_type": "stream",
     "text": [
      " 50%|████▉     | 420/844 [07:12<10:29,  1.48s/it]"
     ]
    },
    {
     "name": "stdout",
     "output_type": "stream",
     "text": [
      "Saved DataFrame with embeddings to: test_set_final_13main_59sub_genres.csv\n"
     ]
    },
    {
     "name": "stderr",
     "output_type": "stream",
     "text": [
      " 51%|█████     | 429/844 [07:20<05:50,  1.18it/s]"
     ]
    },
    {
     "name": "stdout",
     "output_type": "stream",
     "text": [
      "Upserted batch 43 from: test_set_final_13main_59sub_genres.csv\n",
      "operation_id=42 status=<UpdateStatus.COMPLETED: 'completed'>\n"
     ]
    },
    {
     "name": "stderr",
     "output_type": "stream",
     "text": [
      " 51%|█████     | 430/844 [07:23<10:03,  1.46s/it]"
     ]
    },
    {
     "name": "stdout",
     "output_type": "stream",
     "text": [
      "Saved DataFrame with embeddings to: test_set_final_13main_59sub_genres.csv\n"
     ]
    },
    {
     "name": "stderr",
     "output_type": "stream",
     "text": [
      " 52%|█████▏    | 439/844 [07:30<05:51,  1.15it/s]"
     ]
    },
    {
     "name": "stdout",
     "output_type": "stream",
     "text": [
      "Upserted batch 44 from: test_set_final_13main_59sub_genres.csv\n",
      "operation_id=43 status=<UpdateStatus.COMPLETED: 'completed'>\n"
     ]
    },
    {
     "name": "stderr",
     "output_type": "stream",
     "text": [
      " 52%|█████▏    | 440/844 [07:33<09:58,  1.48s/it]"
     ]
    },
    {
     "name": "stdout",
     "output_type": "stream",
     "text": [
      "Saved DataFrame with embeddings to: test_set_final_13main_59sub_genres.csv\n"
     ]
    },
    {
     "name": "stderr",
     "output_type": "stream",
     "text": [
      " 53%|█████▎    | 449/844 [07:42<06:04,  1.08it/s]"
     ]
    },
    {
     "name": "stdout",
     "output_type": "stream",
     "text": [
      "Upserted batch 45 from: test_set_final_13main_59sub_genres.csv\n",
      "operation_id=44 status=<UpdateStatus.COMPLETED: 'completed'>\n"
     ]
    },
    {
     "name": "stderr",
     "output_type": "stream",
     "text": [
      " 53%|█████▎    | 450/844 [07:45<10:12,  1.56s/it]"
     ]
    },
    {
     "name": "stdout",
     "output_type": "stream",
     "text": [
      "Saved DataFrame with embeddings to: test_set_final_13main_59sub_genres.csv\n"
     ]
    },
    {
     "name": "stderr",
     "output_type": "stream",
     "text": [
      " 54%|█████▍    | 459/844 [07:52<05:51,  1.10it/s]"
     ]
    },
    {
     "name": "stdout",
     "output_type": "stream",
     "text": [
      "Upserted batch 46 from: test_set_final_13main_59sub_genres.csv\n",
      "operation_id=45 status=<UpdateStatus.COMPLETED: 'completed'>\n"
     ]
    },
    {
     "name": "stderr",
     "output_type": "stream",
     "text": [
      " 55%|█████▍    | 460/844 [07:55<09:50,  1.54s/it]"
     ]
    },
    {
     "name": "stdout",
     "output_type": "stream",
     "text": [
      "Saved DataFrame with embeddings to: test_set_final_13main_59sub_genres.csv\n"
     ]
    },
    {
     "name": "stderr",
     "output_type": "stream",
     "text": [
      " 56%|█████▌    | 469/844 [08:03<05:32,  1.13it/s]"
     ]
    },
    {
     "name": "stdout",
     "output_type": "stream",
     "text": [
      "Upserted batch 47 from: test_set_final_13main_59sub_genres.csv\n",
      "operation_id=46 status=<UpdateStatus.COMPLETED: 'completed'>\n"
     ]
    },
    {
     "name": "stderr",
     "output_type": "stream",
     "text": [
      " 56%|█████▌    | 470/844 [08:06<09:37,  1.55s/it]"
     ]
    },
    {
     "name": "stdout",
     "output_type": "stream",
     "text": [
      "Saved DataFrame with embeddings to: test_set_final_13main_59sub_genres.csv\n"
     ]
    },
    {
     "name": "stderr",
     "output_type": "stream",
     "text": [
      " 57%|█████▋    | 479/844 [08:14<05:11,  1.17it/s]"
     ]
    },
    {
     "name": "stdout",
     "output_type": "stream",
     "text": [
      "Upserted batch 48 from: test_set_final_13main_59sub_genres.csv\n",
      "operation_id=47 status=<UpdateStatus.COMPLETED: 'completed'>\n"
     ]
    },
    {
     "name": "stderr",
     "output_type": "stream",
     "text": [
      " 57%|█████▋    | 480/844 [08:16<08:50,  1.46s/it]"
     ]
    },
    {
     "name": "stdout",
     "output_type": "stream",
     "text": [
      "Saved DataFrame with embeddings to: test_set_final_13main_59sub_genres.csv\n"
     ]
    },
    {
     "name": "stderr",
     "output_type": "stream",
     "text": [
      " 58%|█████▊    | 489/844 [08:24<05:01,  1.18it/s]"
     ]
    },
    {
     "name": "stdout",
     "output_type": "stream",
     "text": [
      "Upserted batch 49 from: test_set_final_13main_59sub_genres.csv\n",
      "operation_id=48 status=<UpdateStatus.COMPLETED: 'completed'>\n"
     ]
    },
    {
     "name": "stderr",
     "output_type": "stream",
     "text": [
      " 58%|█████▊    | 490/844 [08:27<08:35,  1.46s/it]"
     ]
    },
    {
     "name": "stdout",
     "output_type": "stream",
     "text": [
      "Saved DataFrame with embeddings to: test_set_final_13main_59sub_genres.csv\n"
     ]
    },
    {
     "name": "stderr",
     "output_type": "stream",
     "text": [
      " 59%|█████▉    | 499/844 [08:34<05:03,  1.14it/s]"
     ]
    },
    {
     "name": "stdout",
     "output_type": "stream",
     "text": [
      "Upserted batch 50 from: test_set_final_13main_59sub_genres.csv\n",
      "operation_id=49 status=<UpdateStatus.COMPLETED: 'completed'>\n"
     ]
    },
    {
     "name": "stderr",
     "output_type": "stream",
     "text": [
      " 59%|█████▉    | 500/844 [08:37<08:26,  1.47s/it]"
     ]
    },
    {
     "name": "stdout",
     "output_type": "stream",
     "text": [
      "Saved DataFrame with embeddings to: test_set_final_13main_59sub_genres.csv\n"
     ]
    },
    {
     "name": "stderr",
     "output_type": "stream",
     "text": [
      " 60%|██████    | 509/844 [08:45<04:59,  1.12it/s]"
     ]
    },
    {
     "name": "stdout",
     "output_type": "stream",
     "text": [
      "Upserted batch 51 from: test_set_final_13main_59sub_genres.csv\n",
      "operation_id=50 status=<UpdateStatus.COMPLETED: 'completed'>\n"
     ]
    },
    {
     "name": "stderr",
     "output_type": "stream",
     "text": [
      " 60%|██████    | 510/844 [08:48<08:14,  1.48s/it]"
     ]
    },
    {
     "name": "stdout",
     "output_type": "stream",
     "text": [
      "Saved DataFrame with embeddings to: test_set_final_13main_59sub_genres.csv\n"
     ]
    },
    {
     "name": "stderr",
     "output_type": "stream",
     "text": [
      " 61%|██████▏   | 519/844 [08:56<04:40,  1.16it/s]"
     ]
    },
    {
     "name": "stdout",
     "output_type": "stream",
     "text": [
      "Upserted batch 52 from: test_set_final_13main_59sub_genres.csv\n",
      "operation_id=51 status=<UpdateStatus.COMPLETED: 'completed'>\n"
     ]
    },
    {
     "name": "stderr",
     "output_type": "stream",
     "text": [
      " 62%|██████▏   | 520/844 [08:59<07:59,  1.48s/it]"
     ]
    },
    {
     "name": "stdout",
     "output_type": "stream",
     "text": [
      "Saved DataFrame with embeddings to: test_set_final_13main_59sub_genres.csv\n"
     ]
    },
    {
     "name": "stderr",
     "output_type": "stream",
     "text": [
      " 63%|██████▎   | 529/844 [09:08<05:49,  1.11s/it]"
     ]
    },
    {
     "name": "stdout",
     "output_type": "stream",
     "text": [
      "Upserted batch 53 from: test_set_final_13main_59sub_genres.csv\n",
      "operation_id=52 status=<UpdateStatus.COMPLETED: 'completed'>\n"
     ]
    },
    {
     "name": "stderr",
     "output_type": "stream",
     "text": [
      " 63%|██████▎   | 530/844 [09:11<09:14,  1.77s/it]"
     ]
    },
    {
     "name": "stdout",
     "output_type": "stream",
     "text": [
      "Saved DataFrame with embeddings to: test_set_final_13main_59sub_genres.csv\n"
     ]
    },
    {
     "name": "stderr",
     "output_type": "stream",
     "text": [
      " 64%|██████▍   | 539/844 [09:19<04:37,  1.10it/s]"
     ]
    },
    {
     "name": "stdout",
     "output_type": "stream",
     "text": [
      "Upserted batch 54 from: test_set_final_13main_59sub_genres.csv\n",
      "operation_id=53 status=<UpdateStatus.COMPLETED: 'completed'>\n"
     ]
    },
    {
     "name": "stderr",
     "output_type": "stream",
     "text": [
      " 64%|██████▍   | 540/844 [09:22<07:53,  1.56s/it]"
     ]
    },
    {
     "name": "stdout",
     "output_type": "stream",
     "text": [
      "Saved DataFrame with embeddings to: test_set_final_13main_59sub_genres.csv\n"
     ]
    },
    {
     "name": "stderr",
     "output_type": "stream",
     "text": [
      " 65%|██████▌   | 549/844 [09:30<04:27,  1.10it/s]"
     ]
    },
    {
     "name": "stdout",
     "output_type": "stream",
     "text": [
      "Upserted batch 55 from: test_set_final_13main_59sub_genres.csv\n",
      "operation_id=54 status=<UpdateStatus.COMPLETED: 'completed'>\n"
     ]
    },
    {
     "name": "stderr",
     "output_type": "stream",
     "text": [
      " 65%|██████▌   | 550/844 [09:33<07:38,  1.56s/it]"
     ]
    },
    {
     "name": "stdout",
     "output_type": "stream",
     "text": [
      "Saved DataFrame with embeddings to: test_set_final_13main_59sub_genres.csv\n"
     ]
    },
    {
     "name": "stderr",
     "output_type": "stream",
     "text": [
      " 66%|██████▌   | 559/844 [09:41<04:09,  1.14it/s]"
     ]
    },
    {
     "name": "stdout",
     "output_type": "stream",
     "text": [
      "Upserted batch 56 from: test_set_final_13main_59sub_genres.csv\n",
      "operation_id=55 status=<UpdateStatus.COMPLETED: 'completed'>\n"
     ]
    },
    {
     "name": "stderr",
     "output_type": "stream",
     "text": [
      " 66%|██████▋   | 560/844 [09:44<07:03,  1.49s/it]"
     ]
    },
    {
     "name": "stdout",
     "output_type": "stream",
     "text": [
      "Saved DataFrame with embeddings to: test_set_final_13main_59sub_genres.csv\n"
     ]
    },
    {
     "name": "stderr",
     "output_type": "stream",
     "text": [
      " 67%|██████▋   | 569/844 [09:51<03:59,  1.15it/s]"
     ]
    },
    {
     "name": "stdout",
     "output_type": "stream",
     "text": [
      "Upserted batch 57 from: test_set_final_13main_59sub_genres.csv\n",
      "operation_id=56 status=<UpdateStatus.COMPLETED: 'completed'>\n"
     ]
    },
    {
     "name": "stderr",
     "output_type": "stream",
     "text": [
      " 68%|██████▊   | 570/844 [09:54<06:58,  1.53s/it]"
     ]
    },
    {
     "name": "stdout",
     "output_type": "stream",
     "text": [
      "Saved DataFrame with embeddings to: test_set_final_13main_59sub_genres.csv\n"
     ]
    },
    {
     "name": "stderr",
     "output_type": "stream",
     "text": [
      " 69%|██████▊   | 579/844 [10:11<06:26,  1.46s/it]"
     ]
    },
    {
     "name": "stdout",
     "output_type": "stream",
     "text": [
      "Upserted batch 58 from: test_set_final_13main_59sub_genres.csv\n",
      "operation_id=57 status=<UpdateStatus.COMPLETED: 'completed'>\n"
     ]
    },
    {
     "name": "stderr",
     "output_type": "stream",
     "text": [
      " 69%|██████▊   | 580/844 [10:15<10:25,  2.37s/it]"
     ]
    },
    {
     "name": "stdout",
     "output_type": "stream",
     "text": [
      "Saved DataFrame with embeddings to: test_set_final_13main_59sub_genres.csv\n"
     ]
    },
    {
     "name": "stderr",
     "output_type": "stream",
     "text": [
      " 70%|██████▉   | 589/844 [10:27<05:43,  1.35s/it]"
     ]
    },
    {
     "name": "stdout",
     "output_type": "stream",
     "text": [
      "Upserted batch 59 from: test_set_final_13main_59sub_genres.csv\n",
      "operation_id=58 status=<UpdateStatus.COMPLETED: 'completed'>\n"
     ]
    },
    {
     "name": "stderr",
     "output_type": "stream",
     "text": [
      " 70%|██████▉   | 590/844 [10:32<09:53,  2.34s/it]"
     ]
    },
    {
     "name": "stdout",
     "output_type": "stream",
     "text": [
      "Saved DataFrame with embeddings to: test_set_final_13main_59sub_genres.csv\n"
     ]
    },
    {
     "name": "stderr",
     "output_type": "stream",
     "text": [
      " 71%|███████   | 599/844 [10:45<06:08,  1.50s/it]"
     ]
    },
    {
     "name": "stdout",
     "output_type": "stream",
     "text": [
      "Upserted batch 60 from: test_set_final_13main_59sub_genres.csv\n",
      "operation_id=59 status=<UpdateStatus.COMPLETED: 'completed'>\n"
     ]
    },
    {
     "name": "stderr",
     "output_type": "stream",
     "text": [
      " 71%|███████   | 600/844 [10:50<10:38,  2.62s/it]"
     ]
    },
    {
     "name": "stdout",
     "output_type": "stream",
     "text": [
      "Saved DataFrame with embeddings to: test_set_final_13main_59sub_genres.csv\n"
     ]
    },
    {
     "name": "stderr",
     "output_type": "stream",
     "text": [
      " 72%|███████▏  | 609/844 [11:05<06:53,  1.76s/it]"
     ]
    },
    {
     "name": "stdout",
     "output_type": "stream",
     "text": [
      "Upserted batch 61 from: test_set_final_13main_59sub_genres.csv\n",
      "operation_id=60 status=<UpdateStatus.COMPLETED: 'completed'>\n"
     ]
    },
    {
     "name": "stderr",
     "output_type": "stream",
     "text": [
      " 72%|███████▏  | 610/844 [11:11<11:26,  2.93s/it]"
     ]
    },
    {
     "name": "stdout",
     "output_type": "stream",
     "text": [
      "Saved DataFrame with embeddings to: test_set_final_13main_59sub_genres.csv\n"
     ]
    },
    {
     "name": "stderr",
     "output_type": "stream",
     "text": [
      " 73%|███████▎  | 619/844 [11:27<07:07,  1.90s/it]"
     ]
    },
    {
     "name": "stdout",
     "output_type": "stream",
     "text": [
      "Upserted batch 62 from: test_set_final_13main_59sub_genres.csv\n",
      "operation_id=61 status=<UpdateStatus.COMPLETED: 'completed'>\n"
     ]
    },
    {
     "name": "stderr",
     "output_type": "stream",
     "text": [
      " 73%|███████▎  | 620/844 [11:34<12:39,  3.39s/it]"
     ]
    },
    {
     "name": "stdout",
     "output_type": "stream",
     "text": [
      "Saved DataFrame with embeddings to: test_set_final_13main_59sub_genres.csv\n"
     ]
    },
    {
     "name": "stderr",
     "output_type": "stream",
     "text": [
      " 75%|███████▍  | 629/844 [11:50<06:29,  1.81s/it]"
     ]
    },
    {
     "name": "stdout",
     "output_type": "stream",
     "text": [
      "Upserted batch 63 from: test_set_final_13main_59sub_genres.csv\n",
      "operation_id=62 status=<UpdateStatus.COMPLETED: 'completed'>\n"
     ]
    },
    {
     "name": "stderr",
     "output_type": "stream",
     "text": [
      " 75%|███████▍  | 630/844 [11:56<11:17,  3.17s/it]"
     ]
    },
    {
     "name": "stdout",
     "output_type": "stream",
     "text": [
      "Saved DataFrame with embeddings to: test_set_final_13main_59sub_genres.csv\n"
     ]
    },
    {
     "name": "stderr",
     "output_type": "stream",
     "text": [
      " 76%|███████▌  | 639/844 [12:13<06:25,  1.88s/it]"
     ]
    },
    {
     "name": "stdout",
     "output_type": "stream",
     "text": [
      "Upserted batch 64 from: test_set_final_13main_59sub_genres.csv\n",
      "operation_id=63 status=<UpdateStatus.COMPLETED: 'completed'>\n"
     ]
    },
    {
     "name": "stderr",
     "output_type": "stream",
     "text": [
      " 76%|███████▌  | 640/844 [12:19<10:55,  3.21s/it]"
     ]
    },
    {
     "name": "stdout",
     "output_type": "stream",
     "text": [
      "Saved DataFrame with embeddings to: test_set_final_13main_59sub_genres.csv\n"
     ]
    },
    {
     "name": "stderr",
     "output_type": "stream",
     "text": [
      " 77%|███████▋  | 649/844 [12:36<06:13,  1.92s/it]"
     ]
    },
    {
     "name": "stdout",
     "output_type": "stream",
     "text": [
      "Upserted batch 65 from: test_set_final_13main_59sub_genres.csv\n",
      "operation_id=64 status=<UpdateStatus.COMPLETED: 'completed'>\n"
     ]
    },
    {
     "name": "stderr",
     "output_type": "stream",
     "text": [
      " 77%|███████▋  | 650/844 [12:42<10:13,  3.16s/it]"
     ]
    },
    {
     "name": "stdout",
     "output_type": "stream",
     "text": [
      "Saved DataFrame with embeddings to: test_set_final_13main_59sub_genres.csv\n"
     ]
    },
    {
     "name": "stderr",
     "output_type": "stream",
     "text": [
      " 78%|███████▊  | 659/844 [13:00<06:08,  1.99s/it]"
     ]
    },
    {
     "name": "stdout",
     "output_type": "stream",
     "text": [
      "Upserted batch 66 from: test_set_final_13main_59sub_genres.csv\n",
      "operation_id=65 status=<UpdateStatus.COMPLETED: 'completed'>\n"
     ]
    },
    {
     "name": "stderr",
     "output_type": "stream",
     "text": [
      " 78%|███████▊  | 660/844 [13:06<10:07,  3.30s/it]"
     ]
    },
    {
     "name": "stdout",
     "output_type": "stream",
     "text": [
      "Saved DataFrame with embeddings to: test_set_final_13main_59sub_genres.csv\n"
     ]
    },
    {
     "name": "stderr",
     "output_type": "stream",
     "text": [
      " 79%|███████▉  | 669/844 [13:24<05:50,  2.00s/it]"
     ]
    },
    {
     "name": "stdout",
     "output_type": "stream",
     "text": [
      "Upserted batch 67 from: test_set_final_13main_59sub_genres.csv\n",
      "operation_id=66 status=<UpdateStatus.COMPLETED: 'completed'>\n"
     ]
    },
    {
     "name": "stderr",
     "output_type": "stream",
     "text": [
      " 79%|███████▉  | 670/844 [13:30<09:38,  3.32s/it]"
     ]
    },
    {
     "name": "stdout",
     "output_type": "stream",
     "text": [
      "Saved DataFrame with embeddings to: test_set_final_13main_59sub_genres.csv\n"
     ]
    },
    {
     "name": "stderr",
     "output_type": "stream",
     "text": [
      " 80%|████████  | 679/844 [13:47<05:12,  1.89s/it]"
     ]
    },
    {
     "name": "stdout",
     "output_type": "stream",
     "text": [
      "Upserted batch 68 from: test_set_final_13main_59sub_genres.csv\n",
      "operation_id=67 status=<UpdateStatus.COMPLETED: 'completed'>\n"
     ]
    },
    {
     "name": "stderr",
     "output_type": "stream",
     "text": [
      " 81%|████████  | 680/844 [13:53<08:41,  3.18s/it]"
     ]
    },
    {
     "name": "stdout",
     "output_type": "stream",
     "text": [
      "Saved DataFrame with embeddings to: test_set_final_13main_59sub_genres.csv\n"
     ]
    },
    {
     "name": "stderr",
     "output_type": "stream",
     "text": [
      " 82%|████████▏ | 689/844 [14:19<07:54,  3.06s/it]"
     ]
    },
    {
     "name": "stdout",
     "output_type": "stream",
     "text": [
      "Upserted batch 69 from: test_set_final_13main_59sub_genres.csv\n",
      "operation_id=68 status=<UpdateStatus.COMPLETED: 'completed'>\n"
     ]
    },
    {
     "name": "stderr",
     "output_type": "stream",
     "text": [
      " 82%|████████▏ | 690/844 [14:26<11:00,  4.29s/it]"
     ]
    },
    {
     "name": "stdout",
     "output_type": "stream",
     "text": [
      "Saved DataFrame with embeddings to: test_set_final_13main_59sub_genres.csv\n"
     ]
    },
    {
     "name": "stderr",
     "output_type": "stream",
     "text": [
      " 83%|████████▎ | 699/844 [14:38<03:08,  1.30s/it]"
     ]
    },
    {
     "name": "stdout",
     "output_type": "stream",
     "text": [
      "Upserted batch 70 from: test_set_final_13main_59sub_genres.csv\n",
      "operation_id=69 status=<UpdateStatus.COMPLETED: 'completed'>\n"
     ]
    },
    {
     "name": "stderr",
     "output_type": "stream",
     "text": [
      " 83%|████████▎ | 700/844 [14:42<05:01,  2.10s/it]"
     ]
    },
    {
     "name": "stdout",
     "output_type": "stream",
     "text": [
      "Saved DataFrame with embeddings to: test_set_final_13main_59sub_genres.csv\n"
     ]
    },
    {
     "name": "stderr",
     "output_type": "stream",
     "text": [
      " 84%|████████▍ | 709/844 [14:51<02:25,  1.08s/it]"
     ]
    },
    {
     "name": "stdout",
     "output_type": "stream",
     "text": [
      "Upserted batch 71 from: test_set_final_13main_59sub_genres.csv\n",
      "operation_id=70 status=<UpdateStatus.COMPLETED: 'completed'>\n"
     ]
    },
    {
     "name": "stderr",
     "output_type": "stream",
     "text": [
      " 84%|████████▍ | 710/844 [14:55<04:10,  1.87s/it]"
     ]
    },
    {
     "name": "stdout",
     "output_type": "stream",
     "text": [
      "Saved DataFrame with embeddings to: test_set_final_13main_59sub_genres.csv\n"
     ]
    },
    {
     "name": "stderr",
     "output_type": "stream",
     "text": [
      " 85%|████████▌ | 719/844 [15:03<02:00,  1.04it/s]"
     ]
    },
    {
     "name": "stdout",
     "output_type": "stream",
     "text": [
      "Upserted batch 72 from: test_set_final_13main_59sub_genres.csv\n",
      "operation_id=71 status=<UpdateStatus.COMPLETED: 'completed'>\n"
     ]
    },
    {
     "name": "stderr",
     "output_type": "stream",
     "text": [
      " 85%|████████▌ | 720/844 [15:07<03:33,  1.72s/it]"
     ]
    },
    {
     "name": "stdout",
     "output_type": "stream",
     "text": [
      "Saved DataFrame with embeddings to: test_set_final_13main_59sub_genres.csv\n"
     ]
    },
    {
     "name": "stderr",
     "output_type": "stream",
     "text": [
      " 86%|████████▋ | 729/844 [15:15<01:51,  1.03it/s]"
     ]
    },
    {
     "name": "stdout",
     "output_type": "stream",
     "text": [
      "Upserted batch 73 from: test_set_final_13main_59sub_genres.csv\n",
      "operation_id=72 status=<UpdateStatus.COMPLETED: 'completed'>\n"
     ]
    },
    {
     "name": "stderr",
     "output_type": "stream",
     "text": [
      " 86%|████████▋ | 730/844 [15:18<03:09,  1.67s/it]"
     ]
    },
    {
     "name": "stdout",
     "output_type": "stream",
     "text": [
      "Saved DataFrame with embeddings to: test_set_final_13main_59sub_genres.csv\n"
     ]
    },
    {
     "name": "stderr",
     "output_type": "stream",
     "text": [
      " 88%|████████▊ | 739/844 [15:26<01:38,  1.07it/s]"
     ]
    },
    {
     "name": "stdout",
     "output_type": "stream",
     "text": [
      "Upserted batch 74 from: test_set_final_13main_59sub_genres.csv\n",
      "operation_id=73 status=<UpdateStatus.COMPLETED: 'completed'>\n"
     ]
    },
    {
     "name": "stderr",
     "output_type": "stream",
     "text": [
      " 88%|████████▊ | 740/844 [15:30<02:46,  1.60s/it]"
     ]
    },
    {
     "name": "stdout",
     "output_type": "stream",
     "text": [
      "Saved DataFrame with embeddings to: test_set_final_13main_59sub_genres.csv\n"
     ]
    },
    {
     "name": "stderr",
     "output_type": "stream",
     "text": [
      " 89%|████████▊ | 749/844 [15:37<01:25,  1.11it/s]"
     ]
    },
    {
     "name": "stdout",
     "output_type": "stream",
     "text": [
      "Upserted batch 75 from: test_set_final_13main_59sub_genres.csv\n",
      "operation_id=74 status=<UpdateStatus.COMPLETED: 'completed'>\n"
     ]
    },
    {
     "name": "stderr",
     "output_type": "stream",
     "text": [
      " 89%|████████▉ | 750/844 [15:40<02:25,  1.55s/it]"
     ]
    },
    {
     "name": "stdout",
     "output_type": "stream",
     "text": [
      "Saved DataFrame with embeddings to: test_set_final_13main_59sub_genres.csv\n"
     ]
    },
    {
     "name": "stderr",
     "output_type": "stream",
     "text": [
      " 90%|████████▉ | 759/844 [15:49<01:19,  1.06it/s]"
     ]
    },
    {
     "name": "stdout",
     "output_type": "stream",
     "text": [
      "Upserted batch 76 from: test_set_final_13main_59sub_genres.csv\n",
      "operation_id=75 status=<UpdateStatus.COMPLETED: 'completed'>\n"
     ]
    },
    {
     "name": "stderr",
     "output_type": "stream",
     "text": [
      " 90%|█████████ | 760/844 [15:52<02:16,  1.62s/it]"
     ]
    },
    {
     "name": "stdout",
     "output_type": "stream",
     "text": [
      "Saved DataFrame with embeddings to: test_set_final_13main_59sub_genres.csv\n"
     ]
    },
    {
     "name": "stderr",
     "output_type": "stream",
     "text": [
      " 91%|█████████ | 769/844 [16:00<01:09,  1.08it/s]"
     ]
    },
    {
     "name": "stdout",
     "output_type": "stream",
     "text": [
      "Upserted batch 77 from: test_set_final_13main_59sub_genres.csv\n",
      "operation_id=76 status=<UpdateStatus.COMPLETED: 'completed'>\n"
     ]
    },
    {
     "name": "stderr",
     "output_type": "stream",
     "text": [
      " 91%|█████████ | 770/844 [16:03<01:56,  1.57s/it]"
     ]
    },
    {
     "name": "stdout",
     "output_type": "stream",
     "text": [
      "Saved DataFrame with embeddings to: test_set_final_13main_59sub_genres.csv\n"
     ]
    },
    {
     "name": "stderr",
     "output_type": "stream",
     "text": [
      " 92%|█████████▏| 779/844 [16:11<00:59,  1.10it/s]"
     ]
    },
    {
     "name": "stdout",
     "output_type": "stream",
     "text": [
      "Upserted batch 78 from: test_set_final_13main_59sub_genres.csv\n",
      "operation_id=77 status=<UpdateStatus.COMPLETED: 'completed'>\n"
     ]
    },
    {
     "name": "stderr",
     "output_type": "stream",
     "text": [
      " 92%|█████████▏| 780/844 [16:14<01:40,  1.57s/it]"
     ]
    },
    {
     "name": "stdout",
     "output_type": "stream",
     "text": [
      "Saved DataFrame with embeddings to: test_set_final_13main_59sub_genres.csv\n"
     ]
    },
    {
     "name": "stderr",
     "output_type": "stream",
     "text": [
      " 93%|█████████▎| 789/844 [16:23<00:53,  1.03it/s]"
     ]
    },
    {
     "name": "stdout",
     "output_type": "stream",
     "text": [
      "Upserted batch 79 from: test_set_final_13main_59sub_genres.csv\n",
      "operation_id=78 status=<UpdateStatus.COMPLETED: 'completed'>\n"
     ]
    },
    {
     "name": "stderr",
     "output_type": "stream",
     "text": [
      " 94%|█████████▎| 790/844 [16:26<01:30,  1.67s/it]"
     ]
    },
    {
     "name": "stdout",
     "output_type": "stream",
     "text": [
      "Saved DataFrame with embeddings to: test_set_final_13main_59sub_genres.csv\n"
     ]
    },
    {
     "name": "stderr",
     "output_type": "stream",
     "text": [
      " 95%|█████████▍| 799/844 [16:34<00:43,  1.03it/s]"
     ]
    },
    {
     "name": "stdout",
     "output_type": "stream",
     "text": [
      "Upserted batch 80 from: test_set_final_13main_59sub_genres.csv\n",
      "operation_id=79 status=<UpdateStatus.COMPLETED: 'completed'>\n"
     ]
    },
    {
     "name": "stderr",
     "output_type": "stream",
     "text": [
      " 95%|█████████▍| 800/844 [16:38<01:11,  1.63s/it]"
     ]
    },
    {
     "name": "stdout",
     "output_type": "stream",
     "text": [
      "Saved DataFrame with embeddings to: test_set_final_13main_59sub_genres.csv\n"
     ]
    },
    {
     "name": "stderr",
     "output_type": "stream",
     "text": [
      " 96%|█████████▌| 809/844 [16:46<00:33,  1.03it/s]"
     ]
    },
    {
     "name": "stdout",
     "output_type": "stream",
     "text": [
      "Upserted batch 81 from: test_set_final_13main_59sub_genres.csv\n",
      "operation_id=80 status=<UpdateStatus.COMPLETED: 'completed'>\n"
     ]
    },
    {
     "name": "stderr",
     "output_type": "stream",
     "text": [
      " 96%|█████████▌| 810/844 [16:49<00:55,  1.64s/it]"
     ]
    },
    {
     "name": "stdout",
     "output_type": "stream",
     "text": [
      "Saved DataFrame with embeddings to: test_set_final_13main_59sub_genres.csv\n"
     ]
    },
    {
     "name": "stderr",
     "output_type": "stream",
     "text": [
      " 97%|█████████▋| 819/844 [16:58<00:23,  1.06it/s]"
     ]
    },
    {
     "name": "stdout",
     "output_type": "stream",
     "text": [
      "Upserted batch 82 from: test_set_final_13main_59sub_genres.csv\n",
      "operation_id=81 status=<UpdateStatus.COMPLETED: 'completed'>\n"
     ]
    },
    {
     "name": "stderr",
     "output_type": "stream",
     "text": [
      " 97%|█████████▋| 820/844 [17:01<00:38,  1.62s/it]"
     ]
    },
    {
     "name": "stdout",
     "output_type": "stream",
     "text": [
      "Saved DataFrame with embeddings to: test_set_final_13main_59sub_genres.csv\n"
     ]
    },
    {
     "name": "stderr",
     "output_type": "stream",
     "text": [
      " 98%|█████████▊| 829/844 [17:09<00:14,  1.07it/s]"
     ]
    },
    {
     "name": "stdout",
     "output_type": "stream",
     "text": [
      "Upserted batch 83 from: test_set_final_13main_59sub_genres.csv\n",
      "operation_id=82 status=<UpdateStatus.COMPLETED: 'completed'>\n"
     ]
    },
    {
     "name": "stderr",
     "output_type": "stream",
     "text": [
      " 98%|█████████▊| 830/844 [17:12<00:22,  1.62s/it]"
     ]
    },
    {
     "name": "stdout",
     "output_type": "stream",
     "text": [
      "Saved DataFrame with embeddings to: test_set_final_13main_59sub_genres.csv\n"
     ]
    },
    {
     "name": "stderr",
     "output_type": "stream",
     "text": [
      " 99%|█████████▉| 839/844 [17:21<00:05,  1.02s/it]"
     ]
    },
    {
     "name": "stdout",
     "output_type": "stream",
     "text": [
      "Upserted batch 84 from: test_set_final_13main_59sub_genres.csv\n",
      "operation_id=83 status=<UpdateStatus.COMPLETED: 'completed'>\n"
     ]
    },
    {
     "name": "stderr",
     "output_type": "stream",
     "text": [
      "100%|█████████▉| 840/844 [17:24<00:06,  1.73s/it]"
     ]
    },
    {
     "name": "stdout",
     "output_type": "stream",
     "text": [
      "Saved DataFrame with embeddings to: test_set_final_13main_59sub_genres.csv\n"
     ]
    },
    {
     "name": "stderr",
     "output_type": "stream",
     "text": [
      "100%|█████████▉| 843/844 [17:27<00:01,  1.17s/it]"
     ]
    },
    {
     "name": "stdout",
     "output_type": "stream",
     "text": [
      "Upserted batch 84 from: test_set_final_13main_59sub_genres.csv\n",
      "operation_id=84 status=<UpdateStatus.COMPLETED: 'completed'>\n"
     ]
    },
    {
     "name": "stderr",
     "output_type": "stream",
     "text": [
      "100%|██████████| 844/844 [17:30<00:00,  1.24s/it]"
     ]
    },
    {
     "name": "stdout",
     "output_type": "stream",
     "text": [
      "Saved DataFrame with embeddings to: test_set_final_13main_59sub_genres.csv\n"
     ]
    },
    {
     "name": "stderr",
     "output_type": "stream",
     "text": [
      "\n"
     ]
    },
    {
     "name": "stdout",
     "output_type": "stream",
     "text": [
      "Saved DataFrame with embeddings to: test_set_final_13main_59sub_genres.csv\n"
     ]
    }
   ],
   "source": [
    "from qdrant_client import QdrantClient\n",
    "from qdrant_client.http.models import PointStruct\n",
    "import pandas as pd\n",
    "from tqdm import tqdm\n",
    "\n",
    "# Initialize Qdrant client\n",
    "client = QdrantClient(\"http://localhost:6333\")\n",
    "csv_file = 'test_set_final_13main_59sub_genres.csv'\n",
    "\n",
    "# Initialize the DataFrame\n",
    "df = pd.read_csv(csv_file)\n",
    "\n",
    "# Initialize the new column to None\n",
    "df['base_PANNs_transformer_model_test_data'] = None\n",
    "\n",
    "batch_size = 10\n",
    "embeddings = []\n",
    "\n",
    "# Global ID counter\n",
    "global_id = 0\n",
    "\n",
    "# Iterate over each row in the DataFrame with progress tracking\n",
    "for i, file_path in enumerate(tqdm(df['file_path'])):\n",
    "    embedding = get_embedding(file_path)\n",
    "    embeddings.append(embedding)\n",
    "\n",
    "    # Assign the embedding to the DataFrame\n",
    "    df.at[i, 'base_PANNs_transformer_model_test_data'] = embedding\n",
    "\n",
    "    # If batch size is reached, upsert the batch and reset embeddings list\n",
    "    if (i + 1) % batch_size == 0 or (i + 1) == len(df):\n",
    "        points = [\n",
    "            PointStruct(id=global_id + index, vector=embedding.flatten(), payload=row[1].drop(['base_PANNs_transformer_model_test_data','base_open3l_model_test_data', 'VGG_embeddings_8_seconds_base_13_genres_test','fine_tuned_13_genres_with_val_softmax_vggish_model_batch_size_5_test','fine_tuned_59_genres_with_val_sigmoid_vggish_model_multilabel_batch_size_5']).to_dict())\n",
    "            for index, (embedding, row) in enumerate(zip(embeddings, df.iloc[i + 1 - batch_size:i + 1].iterrows()))\n",
    "        ]\n",
    "\n",
    "        operation_info = client.upsert(\n",
    "            collection_name=\"base_PANNs_transformer_model_test_data\",\n",
    "            wait=True,\n",
    "            points=points,\n",
    "        )\n",
    "        print(f\"Upserted batch {(i + 1) // batch_size} from: {csv_file}\")\n",
    "        print(operation_info)\n",
    "\n",
    "        # Update global ID counter\n",
    "        global_id += len(points)\n",
    "\n",
    "        # Reset embeddings list\n",
    "        embeddings = []\n",
    "        df.to_csv(csv_file, index=False)\n",
    "        print(f\"Saved DataFrame with embeddings to: {csv_file}\")\n",
    "\n",
    "# Save the DataFrame with embeddings\n",
    "df.to_csv(csv_file, index=False)\n",
    "print(f\"Saved DataFrame with embeddings to: {csv_file}\")"
   ],
   "metadata": {
    "collapsed": false,
    "ExecuteTime": {
     "start_time": "2025-03-19T13:42:27.901500Z",
     "end_time": "2025-03-19T14:00:06.320875Z"
    }
   }
  },
  {
   "cell_type": "code",
   "execution_count": 2,
   "outputs": [
    {
     "name": "stdout",
     "output_type": "stream",
     "text": [
      "Required files downloaded and saved.\n"
     ]
    }
   ],
   "source": [
    "import os\n",
    "import requests\n",
    "\n",
    "# Create a directory for PANNS data\n",
    "panns_data_dir = '/Users/A117792292/panns_data'\n",
    "os.makedirs(panns_data_dir, exist_ok=True)\n",
    "\n",
    "# URLs of the required files\n",
    "files_to_download = {\n",
    "    'class_labels_indices.csv': 'https://raw.githubusercontent.com/qiuqiangkong/audioset_tagging_cnn/master/panns_data/class_labels_indices.csv'\n",
    "}\n",
    "\n",
    "# Download the files\n",
    "for filename, url in files_to_download.items():\n",
    "    response = requests.get(url)\n",
    "    with open(os.path.join(panns_data_dir, filename), 'wb') as f:\n",
    "        f.write(response.content)\n",
    "\n",
    "print(\"Required files downloaded and saved.\")"
   ],
   "metadata": {
    "collapsed": false,
    "ExecuteTime": {
     "start_time": "2025-01-14T22:00:47.192126Z",
     "end_time": "2025-01-14T22:00:48.228173Z"
    }
   }
  },
  {
   "cell_type": "code",
   "execution_count": 4,
   "outputs": [
    {
     "name": "stdout",
     "output_type": "stream",
     "text": [
      "Required model file downloaded and saved.\n"
     ]
    }
   ],
   "source": [
    "import os\n",
    "import requests\n",
    "\n",
    "# Create a directory for PANNS data\n",
    "panns_data_dir = '/Users/A117792292/panns_data'\n",
    "os.makedirs(panns_data_dir, exist_ok=True)\n",
    "\n",
    "# URL of the required model file\n",
    "model_url = 'https://zenodo.org/record/3987831/files/Cnn14_mAP%3D0.431.pth?download=1'\n",
    "model_filename = 'Cnn14_mAP=0.431.pth'\n",
    "\n",
    "# Download the model file\n",
    "response = requests.get(model_url)\n",
    "with open(os.path.join(panns_data_dir, model_filename), 'wb') as f:\n",
    "    f.write(response.content)\n",
    "\n",
    "print(\"Required model file downloaded and saved.\")"
   ],
   "metadata": {
    "collapsed": false,
    "ExecuteTime": {
     "start_time": "2025-01-14T22:01:37.237392Z",
     "end_time": "2025-01-14T22:04:41.674003Z"
    }
   }
  },
  {
   "cell_type": "code",
   "execution_count": null,
   "outputs": [],
   "source": [
    "import torch\n",
    "from panns_inference import AudioTagging, Cnn14\n",
    "\n",
    "# Define the model and load the checkpoint\n",
    "checkpoint_path = '/Users/A117792292/panns_data/Cnn14_mAP=0.431.pth'\n",
    "model = Cnn14()\n",
    "checkpoint = torch.load(checkpoint_path, map_location='cpu')\n",
    "\n",
    "# Remove the fc_audioset layer from the checkpoint if it causes a size mismatch\n",
    "if 'fc_audioset.weight' in checkpoint:\n",
    "    del checkpoint['fc_audioset.weight']\n",
    "if 'fc_audioset.bias' in checkpoint:\n",
    "    del checkpoint['fc_audioset.bias']\n",
    "\n",
    "# Load the state dictionary into the model\n",
    "model.load_state_dict(checkpoint, strict=False)\n",
    "\n",
    "# Initialize the AudioTagging class with the loaded model\n",
    "audio_tagging = AudioTagging(model=model, device='cpu')\n",
    "\n",
    "# Example usage\n",
    "audio_file = '../mp3songs/tekkno/165Er Zahnfleischbluten.mp3'\n",
    "embedding = get_embedding(audio_file)\n",
    "print(embedding)"
   ],
   "metadata": {
    "collapsed": false
   }
  }
 ],
 "metadata": {
  "kernelspec": {
   "display_name": "Python 3",
   "language": "python",
   "name": "python3"
  },
  "language_info": {
   "codemirror_mode": {
    "name": "ipython",
    "version": 2
   },
   "file_extension": ".py",
   "mimetype": "text/x-python",
   "name": "python",
   "nbconvert_exporter": "python",
   "pygments_lexer": "ipython2",
   "version": "2.7.6"
  }
 },
 "nbformat": 4,
 "nbformat_minor": 0
}
