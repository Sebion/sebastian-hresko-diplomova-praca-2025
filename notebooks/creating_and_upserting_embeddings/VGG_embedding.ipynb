{
 "cells": [
  {
   "cell_type": "code",
   "execution_count": 10,
   "outputs": [],
   "source": [
    "import numpy as np\n",
    "import resampy\n",
    "import tensorflow.compat.v1 as tf\n",
    "import vggish_input\n",
    "import vggish_params\n",
    "import vggish_postprocess\n",
    "import vggish_slim\n",
    "\n",
    "# Paths to downloaded VGGish files.\n",
    "checkpoint_path = 'fine_tuned_11_genres_EDM_with_val_softmax_vggish_model_batch_size_1.ckpt'\n",
    "pca_params_path = 'vggish_pca_params.npz'"
   ],
   "metadata": {
    "collapsed": false,
    "ExecuteTime": {
     "start_time": "2025-03-13T20:28:14.173556Z",
     "end_time": "2025-03-13T20:28:14.282879Z"
    }
   }
  },
  {
   "cell_type": "code",
   "execution_count": 11,
   "outputs": [
    {
     "data": {
      "text/plain": "            genres              spotify_id  \\\n0      acid_techno  4J5YDSS5tzUzrYKM9mONgv   \n1        hardstyle  4mALGoOhRMFVfphsMppSb2   \n2        hardstyle  1qt9COCAqTZbWhESNHOqer   \n3        90s_house  5mOn7oJdEBmG43elhWGfXo   \n4        90s_house  2F5W5f8COoQKpoGqPcZ1EN   \n..             ...                     ...   \n105         tekkno  1GQ7bQs2li51f8h7ltunpH   \n106    jump_up_dnb  5mT3qi3qyzAwSC1Drgp8lb   \n107  groove_techno  5si5OPtVvV69chXMtaZkvk   \n108     liquid_dnb  0cMx1KW8B0r9UOKLxCj5aR   \n109    hard_techno  19I6p2HpdJmHg5bbDWxnLX   \n\n                                        name  \\\n0                                 Multiverse   \n1                        Muzika - Sefa Remix   \n2      Oh My - DJ Paul Elstak's Hardcore Mix   \n3            Let's Get Brutal - Brutal House   \n4    Nitelife - Armand Van Helden Retail Mix   \n..                                       ...   \n105                                      MFB   \n106                  I Want Your Love V.I.P.   \n107                              Am I Drunk?   \n108                       No Sunset For Soul   \n109                                   Switch   \n\n                                          artist_id  \\\n0    2jvTYwyzxK1FVYGEoKfZLQ, 0bIOCVFnNDbixFxTdPjE7R   \n1    4RbUYWWjEBb4umwqakOEd3, 0caJEGgVuXuSHhhrMCmlkI   \n2    2dQgOfBP52UwjegY8FwJAY, 123hDJRbi4KtCdBaaKNHW6   \n3                            6KcNmchIyvo5TqzjfJtwYR   \n4                            1Tvhj4mF2pvvAT1InLbRKs   \n..                                              ...   \n105  5yYwA7jmFlU01EKoLfeNpV, 2dntPqbt5DYNfJHx7Dm8wV   \n106                          2yJbiseBZFvrCK5GueLnk7   \n107                          0iS9Zzud5hNvjx0wVfIVvd   \n108  2w5c2l70mYNDdSLifFyZjJ, 022EiWsch2zvty0qBUksDO   \n109  4gF60Mys5KoWdQrf0bhRWq, 6wBqeigBUFAIAnPuBQl071   \n\n                          artist  danceability  energy  speechiness  valence  \\\n0       Cosmic Boys, Demon Noise         0.630   0.995       0.0420   0.3350   \n1              Dr. Peacock, Sefa         0.447   0.993       0.0431   0.0389   \n2    The Partysquad, Paul Elstak         0.618   0.772       0.0556   0.1980   \n3                   Nitro Deluxe         0.805   0.507       0.1090   0.5370   \n4                    Kim English         0.793   0.556       0.0502   0.4120   \n..                           ...           ...     ...          ...      ...   \n105          KomaCasper, HRDSFCK         0.809   0.711       0.3020   0.4300   \n106                        Tsuki         0.533   0.943       0.0584   0.1460   \n107                  Alfa Cornae         0.698   0.870       0.1490   0.4270   \n108           Monty, Liam Bailey         0.702   0.850       0.2660   0.1320   \n109   Luca Agnelli, PISAPIA (IT)         0.600   0.998       0.1460   0.0369   \n\n                                             file_path main_genre  \\\n0    ../mp3songs/ACID!_Best_Acid_Techno_Mix/Multive...     techno   \n1    ../mp3songs/Hardcore_Techno_Hardstyle/Muzika -...     techno   \n2    ../mp3songs/Hardcore_Techno_Hardstyle/Oh My - ...     techno   \n3    ../mp3songs/90s_House_Classics/Let's Get Bruta...      dance   \n4    ../mp3songs/90s_House_Classics/Nitelife - Arma...      dance   \n..                                                 ...        ...   \n105                         ../mp3songs/tekkno/MFB.mp3     techno   \n106  ../mp3songs/Jump-Up_Drum_and_Bass/I Want Your ...        dnb   \n107          ../mp3songs/Groove_Techno/Am I Drunk?.mp3     techno   \n108  ../mp3songs/Liquid_Drum_and_Bass/No Sunset For...        dnb   \n109                 ../mp3songs/HARD_TECHNO/Switch.mp3     techno   \n\n                    main_genre_encoded  \\\n0    [0, 1, 0, 0, 0, 0, 0, 0, 0, 0, 0]   \n1    [0, 0, 0, 1, 0, 0, 0, 0, 0, 0, 0]   \n2    [0, 0, 0, 1, 0, 0, 0, 0, 0, 0, 0]   \n3    [1, 0, 0, 0, 0, 0, 0, 0, 0, 0, 0]   \n4    [1, 0, 0, 0, 0, 0, 0, 0, 0, 0, 0]   \n..                                 ...   \n105  [0, 0, 0, 0, 0, 0, 0, 0, 0, 1, 0]   \n106  [0, 0, 0, 0, 1, 0, 0, 0, 0, 0, 0]   \n107  [0, 0, 0, 0, 0, 0, 0, 0, 0, 0, 1]   \n108  [0, 0, 0, 0, 0, 1, 0, 0, 0, 0, 0]   \n109  [0, 0, 1, 0, 0, 0, 0, 0, 0, 0, 0]   \n\n                  base_11_genres_EDM_with_vggish_model  \n0    [-1.1412535905838013, 0.08442866802215576, 0.1...  \n1    [-1.065509557723999, -0.4460943639278412, 1.51...  \n2    [-0.9446086883544922, -0.03999096155166626, 0....  \n3    [-0.4920635521411896, -0.021116137504577637, 0...  \n4    [-0.8604552745819092, 0.0033154338598251343, 0...  \n..                                                 ...  \n105  [-1.155425786972046, -0.057559579610824585, 0....  \n106  [-0.4580102860927582, -0.0642130970954895, 0.5...  \n107  [-0.9225215911865234, 0.028807833790779114, 0....  \n108  [-0.7950646877288818, -0.10124924778938293, 0....  \n109  [-0.6094541549682617, -0.19779184460639954, 0....  \n\n[110 rows x 13 columns]",
      "text/html": "<div>\n<style scoped>\n    .dataframe tbody tr th:only-of-type {\n        vertical-align: middle;\n    }\n\n    .dataframe tbody tr th {\n        vertical-align: top;\n    }\n\n    .dataframe thead th {\n        text-align: right;\n    }\n</style>\n<table border=\"1\" class=\"dataframe\">\n  <thead>\n    <tr style=\"text-align: right;\">\n      <th></th>\n      <th>genres</th>\n      <th>spotify_id</th>\n      <th>name</th>\n      <th>artist_id</th>\n      <th>artist</th>\n      <th>danceability</th>\n      <th>energy</th>\n      <th>speechiness</th>\n      <th>valence</th>\n      <th>file_path</th>\n      <th>main_genre</th>\n      <th>main_genre_encoded</th>\n      <th>base_11_genres_EDM_with_vggish_model</th>\n    </tr>\n  </thead>\n  <tbody>\n    <tr>\n      <th>0</th>\n      <td>acid_techno</td>\n      <td>4J5YDSS5tzUzrYKM9mONgv</td>\n      <td>Multiverse</td>\n      <td>2jvTYwyzxK1FVYGEoKfZLQ, 0bIOCVFnNDbixFxTdPjE7R</td>\n      <td>Cosmic Boys, Demon Noise</td>\n      <td>0.630</td>\n      <td>0.995</td>\n      <td>0.0420</td>\n      <td>0.3350</td>\n      <td>../mp3songs/ACID!_Best_Acid_Techno_Mix/Multive...</td>\n      <td>techno</td>\n      <td>[0, 1, 0, 0, 0, 0, 0, 0, 0, 0, 0]</td>\n      <td>[-1.1412535905838013, 0.08442866802215576, 0.1...</td>\n    </tr>\n    <tr>\n      <th>1</th>\n      <td>hardstyle</td>\n      <td>4mALGoOhRMFVfphsMppSb2</td>\n      <td>Muzika - Sefa Remix</td>\n      <td>4RbUYWWjEBb4umwqakOEd3, 0caJEGgVuXuSHhhrMCmlkI</td>\n      <td>Dr. Peacock, Sefa</td>\n      <td>0.447</td>\n      <td>0.993</td>\n      <td>0.0431</td>\n      <td>0.0389</td>\n      <td>../mp3songs/Hardcore_Techno_Hardstyle/Muzika -...</td>\n      <td>techno</td>\n      <td>[0, 0, 0, 1, 0, 0, 0, 0, 0, 0, 0]</td>\n      <td>[-1.065509557723999, -0.4460943639278412, 1.51...</td>\n    </tr>\n    <tr>\n      <th>2</th>\n      <td>hardstyle</td>\n      <td>1qt9COCAqTZbWhESNHOqer</td>\n      <td>Oh My - DJ Paul Elstak's Hardcore Mix</td>\n      <td>2dQgOfBP52UwjegY8FwJAY, 123hDJRbi4KtCdBaaKNHW6</td>\n      <td>The Partysquad, Paul Elstak</td>\n      <td>0.618</td>\n      <td>0.772</td>\n      <td>0.0556</td>\n      <td>0.1980</td>\n      <td>../mp3songs/Hardcore_Techno_Hardstyle/Oh My - ...</td>\n      <td>techno</td>\n      <td>[0, 0, 0, 1, 0, 0, 0, 0, 0, 0, 0]</td>\n      <td>[-0.9446086883544922, -0.03999096155166626, 0....</td>\n    </tr>\n    <tr>\n      <th>3</th>\n      <td>90s_house</td>\n      <td>5mOn7oJdEBmG43elhWGfXo</td>\n      <td>Let's Get Brutal - Brutal House</td>\n      <td>6KcNmchIyvo5TqzjfJtwYR</td>\n      <td>Nitro Deluxe</td>\n      <td>0.805</td>\n      <td>0.507</td>\n      <td>0.1090</td>\n      <td>0.5370</td>\n      <td>../mp3songs/90s_House_Classics/Let's Get Bruta...</td>\n      <td>dance</td>\n      <td>[1, 0, 0, 0, 0, 0, 0, 0, 0, 0, 0]</td>\n      <td>[-0.4920635521411896, -0.021116137504577637, 0...</td>\n    </tr>\n    <tr>\n      <th>4</th>\n      <td>90s_house</td>\n      <td>2F5W5f8COoQKpoGqPcZ1EN</td>\n      <td>Nitelife - Armand Van Helden Retail Mix</td>\n      <td>1Tvhj4mF2pvvAT1InLbRKs</td>\n      <td>Kim English</td>\n      <td>0.793</td>\n      <td>0.556</td>\n      <td>0.0502</td>\n      <td>0.4120</td>\n      <td>../mp3songs/90s_House_Classics/Nitelife - Arma...</td>\n      <td>dance</td>\n      <td>[1, 0, 0, 0, 0, 0, 0, 0, 0, 0, 0]</td>\n      <td>[-0.8604552745819092, 0.0033154338598251343, 0...</td>\n    </tr>\n    <tr>\n      <th>...</th>\n      <td>...</td>\n      <td>...</td>\n      <td>...</td>\n      <td>...</td>\n      <td>...</td>\n      <td>...</td>\n      <td>...</td>\n      <td>...</td>\n      <td>...</td>\n      <td>...</td>\n      <td>...</td>\n      <td>...</td>\n      <td>...</td>\n    </tr>\n    <tr>\n      <th>105</th>\n      <td>tekkno</td>\n      <td>1GQ7bQs2li51f8h7ltunpH</td>\n      <td>MFB</td>\n      <td>5yYwA7jmFlU01EKoLfeNpV, 2dntPqbt5DYNfJHx7Dm8wV</td>\n      <td>KomaCasper, HRDSFCK</td>\n      <td>0.809</td>\n      <td>0.711</td>\n      <td>0.3020</td>\n      <td>0.4300</td>\n      <td>../mp3songs/tekkno/MFB.mp3</td>\n      <td>techno</td>\n      <td>[0, 0, 0, 0, 0, 0, 0, 0, 0, 1, 0]</td>\n      <td>[-1.155425786972046, -0.057559579610824585, 0....</td>\n    </tr>\n    <tr>\n      <th>106</th>\n      <td>jump_up_dnb</td>\n      <td>5mT3qi3qyzAwSC1Drgp8lb</td>\n      <td>I Want Your Love V.I.P.</td>\n      <td>2yJbiseBZFvrCK5GueLnk7</td>\n      <td>Tsuki</td>\n      <td>0.533</td>\n      <td>0.943</td>\n      <td>0.0584</td>\n      <td>0.1460</td>\n      <td>../mp3songs/Jump-Up_Drum_and_Bass/I Want Your ...</td>\n      <td>dnb</td>\n      <td>[0, 0, 0, 0, 1, 0, 0, 0, 0, 0, 0]</td>\n      <td>[-0.4580102860927582, -0.0642130970954895, 0.5...</td>\n    </tr>\n    <tr>\n      <th>107</th>\n      <td>groove_techno</td>\n      <td>5si5OPtVvV69chXMtaZkvk</td>\n      <td>Am I Drunk?</td>\n      <td>0iS9Zzud5hNvjx0wVfIVvd</td>\n      <td>Alfa Cornae</td>\n      <td>0.698</td>\n      <td>0.870</td>\n      <td>0.1490</td>\n      <td>0.4270</td>\n      <td>../mp3songs/Groove_Techno/Am I Drunk?.mp3</td>\n      <td>techno</td>\n      <td>[0, 0, 0, 0, 0, 0, 0, 0, 0, 0, 1]</td>\n      <td>[-0.9225215911865234, 0.028807833790779114, 0....</td>\n    </tr>\n    <tr>\n      <th>108</th>\n      <td>liquid_dnb</td>\n      <td>0cMx1KW8B0r9UOKLxCj5aR</td>\n      <td>No Sunset For Soul</td>\n      <td>2w5c2l70mYNDdSLifFyZjJ, 022EiWsch2zvty0qBUksDO</td>\n      <td>Monty, Liam Bailey</td>\n      <td>0.702</td>\n      <td>0.850</td>\n      <td>0.2660</td>\n      <td>0.1320</td>\n      <td>../mp3songs/Liquid_Drum_and_Bass/No Sunset For...</td>\n      <td>dnb</td>\n      <td>[0, 0, 0, 0, 0, 1, 0, 0, 0, 0, 0]</td>\n      <td>[-0.7950646877288818, -0.10124924778938293, 0....</td>\n    </tr>\n    <tr>\n      <th>109</th>\n      <td>hard_techno</td>\n      <td>19I6p2HpdJmHg5bbDWxnLX</td>\n      <td>Switch</td>\n      <td>4gF60Mys5KoWdQrf0bhRWq, 6wBqeigBUFAIAnPuBQl071</td>\n      <td>Luca Agnelli, PISAPIA (IT)</td>\n      <td>0.600</td>\n      <td>0.998</td>\n      <td>0.1460</td>\n      <td>0.0369</td>\n      <td>../mp3songs/HARD_TECHNO/Switch.mp3</td>\n      <td>techno</td>\n      <td>[0, 0, 1, 0, 0, 0, 0, 0, 0, 0, 0]</td>\n      <td>[-0.6094541549682617, -0.19779184460639954, 0....</td>\n    </tr>\n  </tbody>\n</table>\n<p>110 rows × 13 columns</p>\n</div>"
     },
     "metadata": {},
     "output_type": "display_data"
    }
   ],
   "source": [
    "import pandas as pd\n",
    "df = pd.read_csv('test_df_EDM.csv')\n",
    "display(df)"
   ],
   "metadata": {
    "collapsed": false,
    "ExecuteTime": {
     "start_time": "2025-03-13T20:28:14.675660Z",
     "end_time": "2025-03-13T20:28:14.897044Z"
    }
   }
  },
  {
   "cell_type": "code",
   "execution_count": 29,
   "outputs": [
    {
     "data": {
      "text/plain": "                            name                    artist  \\\n0                       Revolver  Rage Against The Machine   \n1                Last First Kiss             One Direction   \n2                       D U Down               Kevin Gates   \n3    How I Move (feat. Lil Baby)              Flipp Dinero   \n4                     Workin' on                 Colt Ford   \n..                           ...                       ...   \n919                She Ain't You               Chris Brown   \n920      Sexy Chick (feat. Akon)              David Guetta   \n921                Mouth for War                   Pantera   \n922             She Doesn't Mind                 Sean Paul   \n923           Mi Reina Del Dolor                      Maná   \n\n                 spotify_id  \\\n0    655gNlXQ7zb9jPrTuqJ4mf   \n1    0KqlLyIGuBZWqzNwP9rypc   \n2    0fivzT98mFK9EZAtJtV2iW   \n3    0jBJIQuToUUOEx7JJkiPzm   \n4    5kSPD3rOo2hGYVwheIxpv8   \n..                      ...   \n919  3dhvQUA0NyrAea4vQ7X6Gn   \n920  4MKzCHlZvkwJOQRNkdw4zq   \n921  6rkeaQRCWZxwkjhyqgxjXi   \n922  1zZIGnXIcDKU8QIUkR20nK   \n923  57yEbqu0L6Dq614Vv5hHHL   \n\n                                               preview  \\\n0    https://p.scdn.co/mp3-preview/d0ed6e220218ce8e...   \n1    https://p.scdn.co/mp3-preview/6aaeaaab31f77494...   \n2    https://p.scdn.co/mp3-preview/471515955e2e5a3c...   \n3    https://p.scdn.co/mp3-preview/777e33a158d29f89...   \n4    https://p.scdn.co/mp3-preview/0805a9f57265f0ab...   \n..                                                 ...   \n919  https://p.scdn.co/mp3-preview/dc674b441cd870ba...   \n920  https://p.scdn.co/mp3-preview/7a3b6610900563c5...   \n921  https://p.scdn.co/mp3-preview/cb8116effd9beb66...   \n922  https://p.scdn.co/mp3-preview/f7b3f3f19f93b59c...   \n923  https://p.scdn.co/mp3-preview/5390a7d0e9b81c66...   \n\n                                                   img  danceability  energy  \\\n0    https://i.scdn.co/image/ab67616d0000b273053f00...         0.350   0.792   \n1    https://i.scdn.co/image/ab67616d0000b2734e31e0...         0.538   0.819   \n2    https://i.scdn.co/image/ab67616d0000b2739d34eb...         0.795   0.597   \n3    https://i.scdn.co/image/ab67616d0000b2731dbffc...         0.826   0.635   \n4    https://i.scdn.co/image/ab67616d0000b273e7d22b...         0.521   0.804   \n..                                                 ...           ...     ...   \n919  https://i.scdn.co/image/ab67616d0000b2730a1d20...         0.634   0.716   \n920  https://i.scdn.co/image/ab67616d0000b273804954...         0.809   0.562   \n921  https://i.scdn.co/image/ab67616d0000b273347c0a...         0.329   0.954   \n922  https://i.scdn.co/image/ab67616d0000b273d2138c...         0.718   0.776   \n923  https://i.scdn.co/image/ab67616d0000b273507bca...         0.611   0.858   \n\n     loudness  speechiness  acousticness  ...  speechiness_artist  \\\n0      -8.214       0.0951      0.008760  ...            0.146351   \n1      -2.662       0.0435      0.044500  ...            0.048473   \n2      -6.592       0.2630      0.014200  ...            0.249900   \n3      -5.181       0.2120      0.102000  ...            0.127400   \n4      -4.395       0.0569      0.065800  ...            0.084006   \n..        ...          ...           ...  ...                 ...   \n919    -6.502       0.1280      0.034100  ...            0.130031   \n920    -7.694       0.0534      0.081600  ...            0.072195   \n921    -7.006       0.0722      0.000004  ...            0.088555   \n922    -5.208       0.0693      0.000624  ...            0.179372   \n923    -5.187       0.0312      0.003120  ...            0.034933   \n\n     valence_artist               artist_id  \\\n0          0.486658  2d0hyoQ5ynDBnkvAbJKORj   \n1          0.547464  4AK6F7OLvEQ5QYCBNiQWHq   \n2          0.507829  1gPhS1zisyXr5dHTYZyiMe   \n3          0.764000  2HUwZ0kumzCSlhFcjFZfpp   \n4          0.630242  0OpWIlokQeE7BNQMhuu2Nx   \n..              ...                     ...   \n919        0.486374  7bXgB6jMjp9ATFy66eO08Z   \n920        0.504891  1Cs0zKBU1kc0i8ypK3B9ai   \n921        0.365315  14pVkFUHDL207LzLHtSA18   \n922        0.715639  3Isy6kedDrgPYoTS1dazA9   \n923        0.689947  7okwEbXzyT2VffBmyQBWLz   \n\n                                                genres  \\\n0    ['alternative metal', 'alternative rock', 'har...   \n1                                              ['pop']   \n2                           ['pop rap', 'rap', 'trap']   \n3                                             ['trap']   \n4                  ['contemporary country', 'country']   \n..                                                 ...   \n919                                     ['r&b', 'rap']   \n920                        ['dance pop', 'edm', 'pop']   \n921  ['alternative metal', 'hard rock', 'metal', 'n...   \n922                    ['dance pop', 'pop', 'pop rap']   \n923                       ['latin pop', 'mexican pop']   \n\n                                             file_path  \\\n0       ../mp3songs/43_genres_multi_label/Revolver.mp3   \n1    ../mp3songs/43_genres_multi_label/Last First K...   \n2       ../mp3songs/43_genres_multi_label/D U Down.mp3   \n3    ../mp3songs/43_genres_multi_label/How I Move (...   \n4     ../mp3songs/43_genres_multi_label/Workin' on.mp3   \n..                                                 ...   \n919  ../mp3songs/43_genres_multi_label/She Ain't Yo...   \n920  ../mp3songs/43_genres_multi_label/Sexy Chick (...   \n921  ../mp3songs/43_genres_multi_label/Mouth for Wa...   \n922  ../mp3songs/43_genres_multi_label/She Doesn't ...   \n923  ../mp3songs/43_genres_multi_label/Mi Reina Del...   \n\n                                            genres_str  \\\n0    ['alternative metal', 'alternative rock', 'har...   \n1                                              ['pop']   \n2                           ['pop rap', 'rap', 'trap']   \n3                                             ['trap']   \n4                  ['contemporary country', 'country']   \n..                                                 ...   \n919                                     ['r&b', 'rap']   \n920                        ['dance pop', 'edm', 'pop']   \n921  ['alternative metal', 'hard rock', 'metal', 'n...   \n922                    ['dance pop', 'pop', 'pop rap']   \n923                       ['latin pop', 'mexican pop']   \n\n                                          genre_array2  \\\n0    [0 0 0 0 0 0 0 0 0 0 0 0 0 0 0 0 0 0 0 0 0 0 0...   \n1    [0 0 0 0 0 0 0 0 0 0 0 0 1 0 0 0 0 0 0 0 0 0 0...   \n2    [0 0 0 0 1 0 0 0 0 0 1 0 0 1 0 0 0 0 0 0 0 0 0...   \n3    [0 0 0 0 1 0 0 0 0 0 0 0 0 0 0 0 0 0 0 0 0 0 0...   \n4    [1 0 0 0 0 0 0 0 0 0 0 0 0 0 0 0 0 0 0 0 0 0 0...   \n..                                                 ...   \n919  [0 0 0 0 0 0 0 0 0 0 1 0 0 0 0 0 0 0 0 0 0 0 0...   \n920  [0 0 0 0 0 0 1 0 0 0 0 0 1 0 0 0 0 0 0 0 0 0 0...   \n921  [0 1 0 0 0 0 0 0 0 0 0 0 0 0 0 0 0 0 0 0 0 0 0...   \n922  [0 0 0 0 0 0 0 0 0 0 0 0 1 1 0 0 0 0 0 0 0 0 0...   \n923  [0 0 0 0 0 0 0 0 0 0 0 1 0 0 0 0 0 0 0 0 0 0 0...   \n\n      VGG_embeddings_8_seconds_base_43_multilabel_test  main_genre  \\\n0    [-0.8018218278884888, -0.22799083590507507, 0....       metal   \n1    [-0.7555744647979736, -0.009560048580169678, 0...         pop   \n2    [-0.9172438383102417, -0.06023094058036804, 0....         rap   \n3    [-0.8096623420715332, 0.05372752249240875, 0.8...         rap   \n4    [-0.7705914974212646, 0.24718138575553894, 0.1...     country   \n..                                                 ...         ...   \n919  [-0.5154333114624023, 0.04339984059333801, 0.2...         rnb   \n920  [-0.5577372312545776, 0.12402720004320145, 0.2...         pop   \n921  [-0.7344160079956055, -0.05429854989051819, -0...       metal   \n922  [-0.9404375553131104, 0.2554495632648468, 0.55...         pop   \n923  [-0.8619656562805176, -0.20747187733650208, -0...         pop   \n\n     VGG_embeddings_8_seconds_finetuned_43_multilabel_test  \n0    [-12.901688575744629, -4.653236389160156, 1.36...      \n1    [-10.984193801879883, -3.339414358139038, 0.89...      \n2    [-10.520010948181152, -2.7087795734405518, -2....      \n3    [-11.814701080322266, -3.053117513656616, -1.2...      \n4    [-10.391701698303223, -4.478461742401123, -0.0...      \n..                                                 ...      \n919  [-12.702393531799316, -4.214264869689941, -0.6...      \n920  [-10.285187721252441, -3.5387980937957764, 0.0...      \n921  [-11.882862091064453, -4.0973052978515625, 1.4...      \n922  [-10.58294677734375, -3.0631892681121826, 1.03...      \n923  [-10.77370834350586, -3.9432551860809326, 1.48...      \n\n[924 rows x 28 columns]",
      "text/html": "<div>\n<style scoped>\n    .dataframe tbody tr th:only-of-type {\n        vertical-align: middle;\n    }\n\n    .dataframe tbody tr th {\n        vertical-align: top;\n    }\n\n    .dataframe thead th {\n        text-align: right;\n    }\n</style>\n<table border=\"1\" class=\"dataframe\">\n  <thead>\n    <tr style=\"text-align: right;\">\n      <th></th>\n      <th>name</th>\n      <th>artist</th>\n      <th>spotify_id</th>\n      <th>preview</th>\n      <th>img</th>\n      <th>danceability</th>\n      <th>energy</th>\n      <th>loudness</th>\n      <th>speechiness</th>\n      <th>acousticness</th>\n      <th>...</th>\n      <th>speechiness_artist</th>\n      <th>valence_artist</th>\n      <th>artist_id</th>\n      <th>genres</th>\n      <th>file_path</th>\n      <th>genres_str</th>\n      <th>genre_array2</th>\n      <th>VGG_embeddings_8_seconds_base_43_multilabel_test</th>\n      <th>main_genre</th>\n      <th>VGG_embeddings_8_seconds_finetuned_43_multilabel_test</th>\n    </tr>\n  </thead>\n  <tbody>\n    <tr>\n      <th>0</th>\n      <td>Revolver</td>\n      <td>Rage Against The Machine</td>\n      <td>655gNlXQ7zb9jPrTuqJ4mf</td>\n      <td>https://p.scdn.co/mp3-preview/d0ed6e220218ce8e...</td>\n      <td>https://i.scdn.co/image/ab67616d0000b273053f00...</td>\n      <td>0.350</td>\n      <td>0.792</td>\n      <td>-8.214</td>\n      <td>0.0951</td>\n      <td>0.008760</td>\n      <td>...</td>\n      <td>0.146351</td>\n      <td>0.486658</td>\n      <td>2d0hyoQ5ynDBnkvAbJKORj</td>\n      <td>['alternative metal', 'alternative rock', 'har...</td>\n      <td>../mp3songs/43_genres_multi_label/Revolver.mp3</td>\n      <td>['alternative metal', 'alternative rock', 'har...</td>\n      <td>[0 0 0 0 0 0 0 0 0 0 0 0 0 0 0 0 0 0 0 0 0 0 0...</td>\n      <td>[-0.8018218278884888, -0.22799083590507507, 0....</td>\n      <td>metal</td>\n      <td>[-12.901688575744629, -4.653236389160156, 1.36...</td>\n    </tr>\n    <tr>\n      <th>1</th>\n      <td>Last First Kiss</td>\n      <td>One Direction</td>\n      <td>0KqlLyIGuBZWqzNwP9rypc</td>\n      <td>https://p.scdn.co/mp3-preview/6aaeaaab31f77494...</td>\n      <td>https://i.scdn.co/image/ab67616d0000b2734e31e0...</td>\n      <td>0.538</td>\n      <td>0.819</td>\n      <td>-2.662</td>\n      <td>0.0435</td>\n      <td>0.044500</td>\n      <td>...</td>\n      <td>0.048473</td>\n      <td>0.547464</td>\n      <td>4AK6F7OLvEQ5QYCBNiQWHq</td>\n      <td>['pop']</td>\n      <td>../mp3songs/43_genres_multi_label/Last First K...</td>\n      <td>['pop']</td>\n      <td>[0 0 0 0 0 0 0 0 0 0 0 0 1 0 0 0 0 0 0 0 0 0 0...</td>\n      <td>[-0.7555744647979736, -0.009560048580169678, 0...</td>\n      <td>pop</td>\n      <td>[-10.984193801879883, -3.339414358139038, 0.89...</td>\n    </tr>\n    <tr>\n      <th>2</th>\n      <td>D U Down</td>\n      <td>Kevin Gates</td>\n      <td>0fivzT98mFK9EZAtJtV2iW</td>\n      <td>https://p.scdn.co/mp3-preview/471515955e2e5a3c...</td>\n      <td>https://i.scdn.co/image/ab67616d0000b2739d34eb...</td>\n      <td>0.795</td>\n      <td>0.597</td>\n      <td>-6.592</td>\n      <td>0.2630</td>\n      <td>0.014200</td>\n      <td>...</td>\n      <td>0.249900</td>\n      <td>0.507829</td>\n      <td>1gPhS1zisyXr5dHTYZyiMe</td>\n      <td>['pop rap', 'rap', 'trap']</td>\n      <td>../mp3songs/43_genres_multi_label/D U Down.mp3</td>\n      <td>['pop rap', 'rap', 'trap']</td>\n      <td>[0 0 0 0 1 0 0 0 0 0 1 0 0 1 0 0 0 0 0 0 0 0 0...</td>\n      <td>[-0.9172438383102417, -0.06023094058036804, 0....</td>\n      <td>rap</td>\n      <td>[-10.520010948181152, -2.7087795734405518, -2....</td>\n    </tr>\n    <tr>\n      <th>3</th>\n      <td>How I Move (feat. Lil Baby)</td>\n      <td>Flipp Dinero</td>\n      <td>0jBJIQuToUUOEx7JJkiPzm</td>\n      <td>https://p.scdn.co/mp3-preview/777e33a158d29f89...</td>\n      <td>https://i.scdn.co/image/ab67616d0000b2731dbffc...</td>\n      <td>0.826</td>\n      <td>0.635</td>\n      <td>-5.181</td>\n      <td>0.2120</td>\n      <td>0.102000</td>\n      <td>...</td>\n      <td>0.127400</td>\n      <td>0.764000</td>\n      <td>2HUwZ0kumzCSlhFcjFZfpp</td>\n      <td>['trap']</td>\n      <td>../mp3songs/43_genres_multi_label/How I Move (...</td>\n      <td>['trap']</td>\n      <td>[0 0 0 0 1 0 0 0 0 0 0 0 0 0 0 0 0 0 0 0 0 0 0...</td>\n      <td>[-0.8096623420715332, 0.05372752249240875, 0.8...</td>\n      <td>rap</td>\n      <td>[-11.814701080322266, -3.053117513656616, -1.2...</td>\n    </tr>\n    <tr>\n      <th>4</th>\n      <td>Workin' on</td>\n      <td>Colt Ford</td>\n      <td>5kSPD3rOo2hGYVwheIxpv8</td>\n      <td>https://p.scdn.co/mp3-preview/0805a9f57265f0ab...</td>\n      <td>https://i.scdn.co/image/ab67616d0000b273e7d22b...</td>\n      <td>0.521</td>\n      <td>0.804</td>\n      <td>-4.395</td>\n      <td>0.0569</td>\n      <td>0.065800</td>\n      <td>...</td>\n      <td>0.084006</td>\n      <td>0.630242</td>\n      <td>0OpWIlokQeE7BNQMhuu2Nx</td>\n      <td>['contemporary country', 'country']</td>\n      <td>../mp3songs/43_genres_multi_label/Workin' on.mp3</td>\n      <td>['contemporary country', 'country']</td>\n      <td>[1 0 0 0 0 0 0 0 0 0 0 0 0 0 0 0 0 0 0 0 0 0 0...</td>\n      <td>[-0.7705914974212646, 0.24718138575553894, 0.1...</td>\n      <td>country</td>\n      <td>[-10.391701698303223, -4.478461742401123, -0.0...</td>\n    </tr>\n    <tr>\n      <th>...</th>\n      <td>...</td>\n      <td>...</td>\n      <td>...</td>\n      <td>...</td>\n      <td>...</td>\n      <td>...</td>\n      <td>...</td>\n      <td>...</td>\n      <td>...</td>\n      <td>...</td>\n      <td>...</td>\n      <td>...</td>\n      <td>...</td>\n      <td>...</td>\n      <td>...</td>\n      <td>...</td>\n      <td>...</td>\n      <td>...</td>\n      <td>...</td>\n      <td>...</td>\n      <td>...</td>\n    </tr>\n    <tr>\n      <th>919</th>\n      <td>She Ain't You</td>\n      <td>Chris Brown</td>\n      <td>3dhvQUA0NyrAea4vQ7X6Gn</td>\n      <td>https://p.scdn.co/mp3-preview/dc674b441cd870ba...</td>\n      <td>https://i.scdn.co/image/ab67616d0000b2730a1d20...</td>\n      <td>0.634</td>\n      <td>0.716</td>\n      <td>-6.502</td>\n      <td>0.1280</td>\n      <td>0.034100</td>\n      <td>...</td>\n      <td>0.130031</td>\n      <td>0.486374</td>\n      <td>7bXgB6jMjp9ATFy66eO08Z</td>\n      <td>['r&amp;b', 'rap']</td>\n      <td>../mp3songs/43_genres_multi_label/She Ain't Yo...</td>\n      <td>['r&amp;b', 'rap']</td>\n      <td>[0 0 0 0 0 0 0 0 0 0 1 0 0 0 0 0 0 0 0 0 0 0 0...</td>\n      <td>[-0.5154333114624023, 0.04339984059333801, 0.2...</td>\n      <td>rnb</td>\n      <td>[-12.702393531799316, -4.214264869689941, -0.6...</td>\n    </tr>\n    <tr>\n      <th>920</th>\n      <td>Sexy Chick (feat. Akon)</td>\n      <td>David Guetta</td>\n      <td>4MKzCHlZvkwJOQRNkdw4zq</td>\n      <td>https://p.scdn.co/mp3-preview/7a3b6610900563c5...</td>\n      <td>https://i.scdn.co/image/ab67616d0000b273804954...</td>\n      <td>0.809</td>\n      <td>0.562</td>\n      <td>-7.694</td>\n      <td>0.0534</td>\n      <td>0.081600</td>\n      <td>...</td>\n      <td>0.072195</td>\n      <td>0.504891</td>\n      <td>1Cs0zKBU1kc0i8ypK3B9ai</td>\n      <td>['dance pop', 'edm', 'pop']</td>\n      <td>../mp3songs/43_genres_multi_label/Sexy Chick (...</td>\n      <td>['dance pop', 'edm', 'pop']</td>\n      <td>[0 0 0 0 0 0 1 0 0 0 0 0 1 0 0 0 0 0 0 0 0 0 0...</td>\n      <td>[-0.5577372312545776, 0.12402720004320145, 0.2...</td>\n      <td>pop</td>\n      <td>[-10.285187721252441, -3.5387980937957764, 0.0...</td>\n    </tr>\n    <tr>\n      <th>921</th>\n      <td>Mouth for War</td>\n      <td>Pantera</td>\n      <td>6rkeaQRCWZxwkjhyqgxjXi</td>\n      <td>https://p.scdn.co/mp3-preview/cb8116effd9beb66...</td>\n      <td>https://i.scdn.co/image/ab67616d0000b273347c0a...</td>\n      <td>0.329</td>\n      <td>0.954</td>\n      <td>-7.006</td>\n      <td>0.0722</td>\n      <td>0.000004</td>\n      <td>...</td>\n      <td>0.088555</td>\n      <td>0.365315</td>\n      <td>14pVkFUHDL207LzLHtSA18</td>\n      <td>['alternative metal', 'hard rock', 'metal', 'n...</td>\n      <td>../mp3songs/43_genres_multi_label/Mouth for Wa...</td>\n      <td>['alternative metal', 'hard rock', 'metal', 'n...</td>\n      <td>[0 1 0 0 0 0 0 0 0 0 0 0 0 0 0 0 0 0 0 0 0 0 0...</td>\n      <td>[-0.7344160079956055, -0.05429854989051819, -0...</td>\n      <td>metal</td>\n      <td>[-11.882862091064453, -4.0973052978515625, 1.4...</td>\n    </tr>\n    <tr>\n      <th>922</th>\n      <td>She Doesn't Mind</td>\n      <td>Sean Paul</td>\n      <td>1zZIGnXIcDKU8QIUkR20nK</td>\n      <td>https://p.scdn.co/mp3-preview/f7b3f3f19f93b59c...</td>\n      <td>https://i.scdn.co/image/ab67616d0000b273d2138c...</td>\n      <td>0.718</td>\n      <td>0.776</td>\n      <td>-5.208</td>\n      <td>0.0693</td>\n      <td>0.000624</td>\n      <td>...</td>\n      <td>0.179372</td>\n      <td>0.715639</td>\n      <td>3Isy6kedDrgPYoTS1dazA9</td>\n      <td>['dance pop', 'pop', 'pop rap']</td>\n      <td>../mp3songs/43_genres_multi_label/She Doesn't ...</td>\n      <td>['dance pop', 'pop', 'pop rap']</td>\n      <td>[0 0 0 0 0 0 0 0 0 0 0 0 1 1 0 0 0 0 0 0 0 0 0...</td>\n      <td>[-0.9404375553131104, 0.2554495632648468, 0.55...</td>\n      <td>pop</td>\n      <td>[-10.58294677734375, -3.0631892681121826, 1.03...</td>\n    </tr>\n    <tr>\n      <th>923</th>\n      <td>Mi Reina Del Dolor</td>\n      <td>Maná</td>\n      <td>57yEbqu0L6Dq614Vv5hHHL</td>\n      <td>https://p.scdn.co/mp3-preview/5390a7d0e9b81c66...</td>\n      <td>https://i.scdn.co/image/ab67616d0000b273507bca...</td>\n      <td>0.611</td>\n      <td>0.858</td>\n      <td>-5.187</td>\n      <td>0.0312</td>\n      <td>0.003120</td>\n      <td>...</td>\n      <td>0.034933</td>\n      <td>0.689947</td>\n      <td>7okwEbXzyT2VffBmyQBWLz</td>\n      <td>['latin pop', 'mexican pop']</td>\n      <td>../mp3songs/43_genres_multi_label/Mi Reina Del...</td>\n      <td>['latin pop', 'mexican pop']</td>\n      <td>[0 0 0 0 0 0 0 0 0 0 0 1 0 0 0 0 0 0 0 0 0 0 0...</td>\n      <td>[-0.8619656562805176, -0.20747187733650208, -0...</td>\n      <td>pop</td>\n      <td>[-10.77370834350586, -3.9432551860809326, 1.48...</td>\n    </tr>\n  </tbody>\n</table>\n<p>924 rows × 28 columns</p>\n</div>"
     },
     "execution_count": 29,
     "metadata": {},
     "output_type": "execute_result"
    }
   ],
   "source": [
    "# import ast  # To safely convert string representation of lists back to lists\n",
    "#\n",
    "# # 🔹 Genre Mapping Structure\n",
    "# GENRE_PRIORITY = {\n",
    "#     \"metal\": [\"alternative metal\", \"nu metal\", \"metal\"],\n",
    "#     \"rock\": [\"rock\", \"modern rock\", \"permanent wave\", \"alternative rock\", \"post-grunge\", \"hard rock\", \"classic rock\", \"punk\", \"grunge\", \"soft rock\", \"new wave\"],\n",
    "#     \"ambient\": [\"sleep\", \"environmental\"],\n",
    "#     \"pop\": [\"pop\", \"dance pop\", \"latin pop\", \"singer-songwriter\", \"mexican pop\", \"k-pop\"],\n",
    "#     \"latino\": [\"musica mexicana\", \"reggaeton\", \"latin hip hop\", \"tropical\", \"salsa\", \"bachata\"],\n",
    "#     \"classical\": [\"classical\"],\n",
    "#     \"country\": [\"country\", \"contemporary country\"],\n",
    "#     \"rnb\": [\"r&b\", \"contemporary r&b\", \"soul\", \"neo soul\"],\n",
    "#     \"rap\": [\"rap\", \"hip hop\", \"trap\", \"pop rap\", \"gangster rap\"],\n",
    "#     \"edm\": [\"edm\", \"electro house\"],\n",
    "#     \"eurodance\": [\"eurodance\"]\n",
    "# }\n",
    "#\n",
    "# # 🔹 Create Reverse Mapping (Genre → Main Genre)\n",
    "# # 🔹 Create Reverse Mapping (Genre → Main Genre)\n",
    "# GENRE_LOOKUP = {genre: main_genre for main_genre, subgenres in GENRE_PRIORITY.items() for genre in subgenres}\n",
    "#\n",
    "# # 🔹 Function to Assign One Main Genre\n",
    "# def get_main_genre(genre_str):\n",
    "#     try:\n",
    "#         genre_list = ast.literal_eval(genre_str)  # Convert string to actual list\n",
    "#         if not isinstance(genre_list, list) or not genre_list:\n",
    "#             return None  # Handle invalid cases\n",
    "#\n",
    "#         for genre in genre_list:\n",
    "#             if genre in GENRE_LOOKUP:\n",
    "#                 return GENRE_LOOKUP[genre]  # Return first matching main genre\n",
    "#\n",
    "#         return genre_list[0]  # If no match, return the first genre in the list\n",
    "#     except (ValueError, SyntaxError):\n",
    "#         return None  # Handle malformed inputs\n",
    "#\n",
    "# # 🔹 Apply Function to DataFrame\n",
    "# df['main_genre'] = df['genres'].apply(get_main_genre)\n",
    "# df"
   ],
   "metadata": {
    "collapsed": false,
    "ExecuteTime": {
     "start_time": "2025-03-11T15:31:20.316000Z",
     "end_time": "2025-03-11T15:31:20.452541Z"
    }
   }
  },
  {
   "cell_type": "code",
   "execution_count": 4,
   "outputs": [
    {
     "data": {
      "text/plain": "                            name                    artist  \\\n0                       Revolver  Rage Against The Machine   \n1                Last First Kiss             One Direction   \n2                       D U Down               Kevin Gates   \n3    How I Move (feat. Lil Baby)              Flipp Dinero   \n4                     Workin' on                 Colt Ford   \n..                           ...                       ...   \n919                She Ain't You               Chris Brown   \n920      Sexy Chick (feat. Akon)              David Guetta   \n921                Mouth for War                   Pantera   \n922             She Doesn't Mind                 Sean Paul   \n923           Mi Reina Del Dolor                      Maná   \n\n                 spotify_id  \\\n0    655gNlXQ7zb9jPrTuqJ4mf   \n1    0KqlLyIGuBZWqzNwP9rypc   \n2    0fivzT98mFK9EZAtJtV2iW   \n3    0jBJIQuToUUOEx7JJkiPzm   \n4    5kSPD3rOo2hGYVwheIxpv8   \n..                      ...   \n919  3dhvQUA0NyrAea4vQ7X6Gn   \n920  4MKzCHlZvkwJOQRNkdw4zq   \n921  6rkeaQRCWZxwkjhyqgxjXi   \n922  1zZIGnXIcDKU8QIUkR20nK   \n923  57yEbqu0L6Dq614Vv5hHHL   \n\n                                               preview  \\\n0    https://p.scdn.co/mp3-preview/d0ed6e220218ce8e...   \n1    https://p.scdn.co/mp3-preview/6aaeaaab31f77494...   \n2    https://p.scdn.co/mp3-preview/471515955e2e5a3c...   \n3    https://p.scdn.co/mp3-preview/777e33a158d29f89...   \n4    https://p.scdn.co/mp3-preview/0805a9f57265f0ab...   \n..                                                 ...   \n919  https://p.scdn.co/mp3-preview/dc674b441cd870ba...   \n920  https://p.scdn.co/mp3-preview/7a3b6610900563c5...   \n921  https://p.scdn.co/mp3-preview/cb8116effd9beb66...   \n922  https://p.scdn.co/mp3-preview/f7b3f3f19f93b59c...   \n923  https://p.scdn.co/mp3-preview/5390a7d0e9b81c66...   \n\n                                                   img  danceability  energy  \\\n0    https://i.scdn.co/image/ab67616d0000b273053f00...         0.350   0.792   \n1    https://i.scdn.co/image/ab67616d0000b2734e31e0...         0.538   0.819   \n2    https://i.scdn.co/image/ab67616d0000b2739d34eb...         0.795   0.597   \n3    https://i.scdn.co/image/ab67616d0000b2731dbffc...         0.826   0.635   \n4    https://i.scdn.co/image/ab67616d0000b273e7d22b...         0.521   0.804   \n..                                                 ...           ...     ...   \n919  https://i.scdn.co/image/ab67616d0000b2730a1d20...         0.634   0.716   \n920  https://i.scdn.co/image/ab67616d0000b273804954...         0.809   0.562   \n921  https://i.scdn.co/image/ab67616d0000b273347c0a...         0.329   0.954   \n922  https://i.scdn.co/image/ab67616d0000b273d2138c...         0.718   0.776   \n923  https://i.scdn.co/image/ab67616d0000b273507bca...         0.611   0.858   \n\n     loudness  speechiness  acousticness  ...  liveness_artist  \\\n0      -8.214       0.0951      0.008760  ...         0.277857   \n1      -2.662       0.0435      0.044500  ...         0.178461   \n2      -6.592       0.2630      0.014200  ...         0.184913   \n3      -5.181       0.2120      0.102000  ...         0.203667   \n4      -4.395       0.0569      0.065800  ...         0.157861   \n..        ...          ...           ...  ...              ...   \n919    -6.502       0.1280      0.034100  ...         0.172564   \n920    -7.694       0.0534      0.081600  ...         0.215116   \n921    -7.006       0.0722      0.000004  ...         0.208891   \n922    -5.208       0.0693      0.000624  ...         0.177862   \n923    -5.187       0.0312      0.003120  ...         0.157453   \n\n     speechiness_artist  valence_artist               artist_id  \\\n0              0.146351        0.486658  2d0hyoQ5ynDBnkvAbJKORj   \n1              0.048473        0.547464  4AK6F7OLvEQ5QYCBNiQWHq   \n2              0.249900        0.507829  1gPhS1zisyXr5dHTYZyiMe   \n3              0.127400        0.764000  2HUwZ0kumzCSlhFcjFZfpp   \n4              0.084006        0.630242  0OpWIlokQeE7BNQMhuu2Nx   \n..                  ...             ...                     ...   \n919            0.130031        0.486374  7bXgB6jMjp9ATFy66eO08Z   \n920            0.072195        0.504891  1Cs0zKBU1kc0i8ypK3B9ai   \n921            0.088555        0.365315  14pVkFUHDL207LzLHtSA18   \n922            0.179372        0.715639  3Isy6kedDrgPYoTS1dazA9   \n923            0.034933        0.689947  7okwEbXzyT2VffBmyQBWLz   \n\n                                                genres  \\\n0    ['alternative metal', 'alternative rock', 'har...   \n1                                              ['pop']   \n2                           ['pop rap', 'rap', 'trap']   \n3                                             ['trap']   \n4                  ['contemporary country', 'country']   \n..                                                 ...   \n919                                     ['r&b', 'rap']   \n920                        ['dance pop', 'edm', 'pop']   \n921  ['alternative metal', 'hard rock', 'metal', 'n...   \n922                    ['dance pop', 'pop', 'pop rap']   \n923                       ['latin pop', 'mexican pop']   \n\n                                             file_path  \\\n0       ../mp3songs/43_genres_multi_label/Revolver.mp3   \n1    ../mp3songs/43_genres_multi_label/Last First K...   \n2       ../mp3songs/43_genres_multi_label/D U Down.mp3   \n3    ../mp3songs/43_genres_multi_label/How I Move (...   \n4     ../mp3songs/43_genres_multi_label/Workin' on.mp3   \n..                                                 ...   \n919  ../mp3songs/43_genres_multi_label/She Ain't Yo...   \n920  ../mp3songs/43_genres_multi_label/Sexy Chick (...   \n921  ../mp3songs/43_genres_multi_label/Mouth for Wa...   \n922  ../mp3songs/43_genres_multi_label/She Doesn't ...   \n923  ../mp3songs/43_genres_multi_label/Mi Reina Del...   \n\n                                            genres_str  \\\n0    ['alternative metal', 'alternative rock', 'har...   \n1                                              ['pop']   \n2                           ['pop rap', 'rap', 'trap']   \n3                                             ['trap']   \n4                  ['contemporary country', 'country']   \n..                                                 ...   \n919                                     ['r&b', 'rap']   \n920                        ['dance pop', 'edm', 'pop']   \n921  ['alternative metal', 'hard rock', 'metal', 'n...   \n922                    ['dance pop', 'pop', 'pop rap']   \n923                       ['latin pop', 'mexican pop']   \n\n                                          genre_array2  \\\n0    [0, 0, 0, 0, 0, 0, 0, 0, 0, 0, 0, 0, 0, 0, 0, ...   \n1    [0, 0, 0, 0, 0, 0, 0, 0, 0, 0, 0, 0, 1, 0, 0, ...   \n2    [0, 0, 0, 0, 1, 0, 0, 0, 0, 0, 1, 0, 0, 1, 0, ...   \n3    [0, 0, 0, 0, 1, 0, 0, 0, 0, 0, 0, 0, 0, 0, 0, ...   \n4    [1, 0, 0, 0, 0, 0, 0, 0, 0, 0, 0, 0, 0, 0, 0, ...   \n..                                                 ...   \n919  [0, 0, 0, 0, 0, 0, 0, 0, 0, 0, 1, 0, 0, 0, 0, ...   \n920  [0, 0, 0, 0, 0, 0, 1, 0, 0, 0, 0, 0, 1, 0, 0, ...   \n921  [0, 1, 0, 0, 0, 0, 0, 0, 0, 0, 0, 0, 0, 0, 0, ...   \n922  [0, 0, 0, 0, 0, 0, 0, 0, 0, 0, 0, 0, 1, 1, 0, ...   \n923  [0, 0, 0, 0, 0, 0, 0, 0, 0, 0, 0, 1, 0, 0, 0, ...   \n\n      VGG_embeddings_8_seconds_base_43_multilabel_test  main_genre  \n0    [-0.8018218278884888, -0.22799083590507507, 0....       metal  \n1    [-0.7555744647979736, -0.009560048580169678, 0...         pop  \n2    [-0.9172438383102417, -0.06023094058036804, 0....         rap  \n3    [-0.8096623420715332, 0.05372752249240875, 0.8...         rap  \n4    [-0.7705914974212646, 0.24718138575553894, 0.1...     country  \n..                                                 ...         ...  \n919  [-0.5154333114624023, 0.04339984059333801, 0.2...         rnb  \n920  [-0.5577372312545776, 0.12402720004320145, 0.2...         pop  \n921  [-0.7344160079956055, -0.05429854989051819, -0...       metal  \n922  [-0.9404375553131104, 0.2554495632648468, 0.55...         pop  \n923  [-0.8619656562805176, -0.20747187733650208, -0...         pop  \n\n[924 rows x 27 columns]",
      "text/html": "<div>\n<style scoped>\n    .dataframe tbody tr th:only-of-type {\n        vertical-align: middle;\n    }\n\n    .dataframe tbody tr th {\n        vertical-align: top;\n    }\n\n    .dataframe thead th {\n        text-align: right;\n    }\n</style>\n<table border=\"1\" class=\"dataframe\">\n  <thead>\n    <tr style=\"text-align: right;\">\n      <th></th>\n      <th>name</th>\n      <th>artist</th>\n      <th>spotify_id</th>\n      <th>preview</th>\n      <th>img</th>\n      <th>danceability</th>\n      <th>energy</th>\n      <th>loudness</th>\n      <th>speechiness</th>\n      <th>acousticness</th>\n      <th>...</th>\n      <th>liveness_artist</th>\n      <th>speechiness_artist</th>\n      <th>valence_artist</th>\n      <th>artist_id</th>\n      <th>genres</th>\n      <th>file_path</th>\n      <th>genres_str</th>\n      <th>genre_array2</th>\n      <th>VGG_embeddings_8_seconds_base_43_multilabel_test</th>\n      <th>main_genre</th>\n    </tr>\n  </thead>\n  <tbody>\n    <tr>\n      <th>0</th>\n      <td>Revolver</td>\n      <td>Rage Against The Machine</td>\n      <td>655gNlXQ7zb9jPrTuqJ4mf</td>\n      <td>https://p.scdn.co/mp3-preview/d0ed6e220218ce8e...</td>\n      <td>https://i.scdn.co/image/ab67616d0000b273053f00...</td>\n      <td>0.350</td>\n      <td>0.792</td>\n      <td>-8.214</td>\n      <td>0.0951</td>\n      <td>0.008760</td>\n      <td>...</td>\n      <td>0.277857</td>\n      <td>0.146351</td>\n      <td>0.486658</td>\n      <td>2d0hyoQ5ynDBnkvAbJKORj</td>\n      <td>['alternative metal', 'alternative rock', 'har...</td>\n      <td>../mp3songs/43_genres_multi_label/Revolver.mp3</td>\n      <td>['alternative metal', 'alternative rock', 'har...</td>\n      <td>[0, 0, 0, 0, 0, 0, 0, 0, 0, 0, 0, 0, 0, 0, 0, ...</td>\n      <td>[-0.8018218278884888, -0.22799083590507507, 0....</td>\n      <td>metal</td>\n    </tr>\n    <tr>\n      <th>1</th>\n      <td>Last First Kiss</td>\n      <td>One Direction</td>\n      <td>0KqlLyIGuBZWqzNwP9rypc</td>\n      <td>https://p.scdn.co/mp3-preview/6aaeaaab31f77494...</td>\n      <td>https://i.scdn.co/image/ab67616d0000b2734e31e0...</td>\n      <td>0.538</td>\n      <td>0.819</td>\n      <td>-2.662</td>\n      <td>0.0435</td>\n      <td>0.044500</td>\n      <td>...</td>\n      <td>0.178461</td>\n      <td>0.048473</td>\n      <td>0.547464</td>\n      <td>4AK6F7OLvEQ5QYCBNiQWHq</td>\n      <td>['pop']</td>\n      <td>../mp3songs/43_genres_multi_label/Last First K...</td>\n      <td>['pop']</td>\n      <td>[0, 0, 0, 0, 0, 0, 0, 0, 0, 0, 0, 0, 1, 0, 0, ...</td>\n      <td>[-0.7555744647979736, -0.009560048580169678, 0...</td>\n      <td>pop</td>\n    </tr>\n    <tr>\n      <th>2</th>\n      <td>D U Down</td>\n      <td>Kevin Gates</td>\n      <td>0fivzT98mFK9EZAtJtV2iW</td>\n      <td>https://p.scdn.co/mp3-preview/471515955e2e5a3c...</td>\n      <td>https://i.scdn.co/image/ab67616d0000b2739d34eb...</td>\n      <td>0.795</td>\n      <td>0.597</td>\n      <td>-6.592</td>\n      <td>0.2630</td>\n      <td>0.014200</td>\n      <td>...</td>\n      <td>0.184913</td>\n      <td>0.249900</td>\n      <td>0.507829</td>\n      <td>1gPhS1zisyXr5dHTYZyiMe</td>\n      <td>['pop rap', 'rap', 'trap']</td>\n      <td>../mp3songs/43_genres_multi_label/D U Down.mp3</td>\n      <td>['pop rap', 'rap', 'trap']</td>\n      <td>[0, 0, 0, 0, 1, 0, 0, 0, 0, 0, 1, 0, 0, 1, 0, ...</td>\n      <td>[-0.9172438383102417, -0.06023094058036804, 0....</td>\n      <td>rap</td>\n    </tr>\n    <tr>\n      <th>3</th>\n      <td>How I Move (feat. Lil Baby)</td>\n      <td>Flipp Dinero</td>\n      <td>0jBJIQuToUUOEx7JJkiPzm</td>\n      <td>https://p.scdn.co/mp3-preview/777e33a158d29f89...</td>\n      <td>https://i.scdn.co/image/ab67616d0000b2731dbffc...</td>\n      <td>0.826</td>\n      <td>0.635</td>\n      <td>-5.181</td>\n      <td>0.2120</td>\n      <td>0.102000</td>\n      <td>...</td>\n      <td>0.203667</td>\n      <td>0.127400</td>\n      <td>0.764000</td>\n      <td>2HUwZ0kumzCSlhFcjFZfpp</td>\n      <td>['trap']</td>\n      <td>../mp3songs/43_genres_multi_label/How I Move (...</td>\n      <td>['trap']</td>\n      <td>[0, 0, 0, 0, 1, 0, 0, 0, 0, 0, 0, 0, 0, 0, 0, ...</td>\n      <td>[-0.8096623420715332, 0.05372752249240875, 0.8...</td>\n      <td>rap</td>\n    </tr>\n    <tr>\n      <th>4</th>\n      <td>Workin' on</td>\n      <td>Colt Ford</td>\n      <td>5kSPD3rOo2hGYVwheIxpv8</td>\n      <td>https://p.scdn.co/mp3-preview/0805a9f57265f0ab...</td>\n      <td>https://i.scdn.co/image/ab67616d0000b273e7d22b...</td>\n      <td>0.521</td>\n      <td>0.804</td>\n      <td>-4.395</td>\n      <td>0.0569</td>\n      <td>0.065800</td>\n      <td>...</td>\n      <td>0.157861</td>\n      <td>0.084006</td>\n      <td>0.630242</td>\n      <td>0OpWIlokQeE7BNQMhuu2Nx</td>\n      <td>['contemporary country', 'country']</td>\n      <td>../mp3songs/43_genres_multi_label/Workin' on.mp3</td>\n      <td>['contemporary country', 'country']</td>\n      <td>[1, 0, 0, 0, 0, 0, 0, 0, 0, 0, 0, 0, 0, 0, 0, ...</td>\n      <td>[-0.7705914974212646, 0.24718138575553894, 0.1...</td>\n      <td>country</td>\n    </tr>\n    <tr>\n      <th>...</th>\n      <td>...</td>\n      <td>...</td>\n      <td>...</td>\n      <td>...</td>\n      <td>...</td>\n      <td>...</td>\n      <td>...</td>\n      <td>...</td>\n      <td>...</td>\n      <td>...</td>\n      <td>...</td>\n      <td>...</td>\n      <td>...</td>\n      <td>...</td>\n      <td>...</td>\n      <td>...</td>\n      <td>...</td>\n      <td>...</td>\n      <td>...</td>\n      <td>...</td>\n      <td>...</td>\n    </tr>\n    <tr>\n      <th>919</th>\n      <td>She Ain't You</td>\n      <td>Chris Brown</td>\n      <td>3dhvQUA0NyrAea4vQ7X6Gn</td>\n      <td>https://p.scdn.co/mp3-preview/dc674b441cd870ba...</td>\n      <td>https://i.scdn.co/image/ab67616d0000b2730a1d20...</td>\n      <td>0.634</td>\n      <td>0.716</td>\n      <td>-6.502</td>\n      <td>0.1280</td>\n      <td>0.034100</td>\n      <td>...</td>\n      <td>0.172564</td>\n      <td>0.130031</td>\n      <td>0.486374</td>\n      <td>7bXgB6jMjp9ATFy66eO08Z</td>\n      <td>['r&amp;b', 'rap']</td>\n      <td>../mp3songs/43_genres_multi_label/She Ain't Yo...</td>\n      <td>['r&amp;b', 'rap']</td>\n      <td>[0, 0, 0, 0, 0, 0, 0, 0, 0, 0, 1, 0, 0, 0, 0, ...</td>\n      <td>[-0.5154333114624023, 0.04339984059333801, 0.2...</td>\n      <td>rnb</td>\n    </tr>\n    <tr>\n      <th>920</th>\n      <td>Sexy Chick (feat. Akon)</td>\n      <td>David Guetta</td>\n      <td>4MKzCHlZvkwJOQRNkdw4zq</td>\n      <td>https://p.scdn.co/mp3-preview/7a3b6610900563c5...</td>\n      <td>https://i.scdn.co/image/ab67616d0000b273804954...</td>\n      <td>0.809</td>\n      <td>0.562</td>\n      <td>-7.694</td>\n      <td>0.0534</td>\n      <td>0.081600</td>\n      <td>...</td>\n      <td>0.215116</td>\n      <td>0.072195</td>\n      <td>0.504891</td>\n      <td>1Cs0zKBU1kc0i8ypK3B9ai</td>\n      <td>['dance pop', 'edm', 'pop']</td>\n      <td>../mp3songs/43_genres_multi_label/Sexy Chick (...</td>\n      <td>['dance pop', 'edm', 'pop']</td>\n      <td>[0, 0, 0, 0, 0, 0, 1, 0, 0, 0, 0, 0, 1, 0, 0, ...</td>\n      <td>[-0.5577372312545776, 0.12402720004320145, 0.2...</td>\n      <td>pop</td>\n    </tr>\n    <tr>\n      <th>921</th>\n      <td>Mouth for War</td>\n      <td>Pantera</td>\n      <td>6rkeaQRCWZxwkjhyqgxjXi</td>\n      <td>https://p.scdn.co/mp3-preview/cb8116effd9beb66...</td>\n      <td>https://i.scdn.co/image/ab67616d0000b273347c0a...</td>\n      <td>0.329</td>\n      <td>0.954</td>\n      <td>-7.006</td>\n      <td>0.0722</td>\n      <td>0.000004</td>\n      <td>...</td>\n      <td>0.208891</td>\n      <td>0.088555</td>\n      <td>0.365315</td>\n      <td>14pVkFUHDL207LzLHtSA18</td>\n      <td>['alternative metal', 'hard rock', 'metal', 'n...</td>\n      <td>../mp3songs/43_genres_multi_label/Mouth for Wa...</td>\n      <td>['alternative metal', 'hard rock', 'metal', 'n...</td>\n      <td>[0, 1, 0, 0, 0, 0, 0, 0, 0, 0, 0, 0, 0, 0, 0, ...</td>\n      <td>[-0.7344160079956055, -0.05429854989051819, -0...</td>\n      <td>metal</td>\n    </tr>\n    <tr>\n      <th>922</th>\n      <td>She Doesn't Mind</td>\n      <td>Sean Paul</td>\n      <td>1zZIGnXIcDKU8QIUkR20nK</td>\n      <td>https://p.scdn.co/mp3-preview/f7b3f3f19f93b59c...</td>\n      <td>https://i.scdn.co/image/ab67616d0000b273d2138c...</td>\n      <td>0.718</td>\n      <td>0.776</td>\n      <td>-5.208</td>\n      <td>0.0693</td>\n      <td>0.000624</td>\n      <td>...</td>\n      <td>0.177862</td>\n      <td>0.179372</td>\n      <td>0.715639</td>\n      <td>3Isy6kedDrgPYoTS1dazA9</td>\n      <td>['dance pop', 'pop', 'pop rap']</td>\n      <td>../mp3songs/43_genres_multi_label/She Doesn't ...</td>\n      <td>['dance pop', 'pop', 'pop rap']</td>\n      <td>[0, 0, 0, 0, 0, 0, 0, 0, 0, 0, 0, 0, 1, 1, 0, ...</td>\n      <td>[-0.9404375553131104, 0.2554495632648468, 0.55...</td>\n      <td>pop</td>\n    </tr>\n    <tr>\n      <th>923</th>\n      <td>Mi Reina Del Dolor</td>\n      <td>Maná</td>\n      <td>57yEbqu0L6Dq614Vv5hHHL</td>\n      <td>https://p.scdn.co/mp3-preview/5390a7d0e9b81c66...</td>\n      <td>https://i.scdn.co/image/ab67616d0000b273507bca...</td>\n      <td>0.611</td>\n      <td>0.858</td>\n      <td>-5.187</td>\n      <td>0.0312</td>\n      <td>0.003120</td>\n      <td>...</td>\n      <td>0.157453</td>\n      <td>0.034933</td>\n      <td>0.689947</td>\n      <td>7okwEbXzyT2VffBmyQBWLz</td>\n      <td>['latin pop', 'mexican pop']</td>\n      <td>../mp3songs/43_genres_multi_label/Mi Reina Del...</td>\n      <td>['latin pop', 'mexican pop']</td>\n      <td>[0, 0, 0, 0, 0, 0, 0, 0, 0, 0, 0, 1, 0, 0, 0, ...</td>\n      <td>[-0.8619656562805176, -0.20747187733650208, -0...</td>\n      <td>pop</td>\n    </tr>\n  </tbody>\n</table>\n<p>924 rows × 27 columns</p>\n</div>"
     },
     "execution_count": 4,
     "metadata": {},
     "output_type": "execute_result"
    }
   ],
   "source": [
    "def convert_genre_array(saved_str):\n",
    "    cleaned_str = saved_str.replace(\"[\", \"\").replace(\"]\", \"\").replace(\"\\n\", \" \")\n",
    "    array_list = list(map(int, cleaned_str.split()))\n",
    "    return np.array(array_list)\n",
    "df[\"genre_array2\"] = df[\"genre_array2\"].apply(convert_genre_array)\n",
    "df"
   ],
   "metadata": {
    "collapsed": false,
    "ExecuteTime": {
     "start_time": "2025-03-11T12:04:46.312116Z",
     "end_time": "2025-03-11T12:04:46.480226Z"
    }
   }
  },
  {
   "cell_type": "code",
   "execution_count": 12,
   "outputs": [
    {
     "data": {
      "text/plain": "<Figure size 1000x600 with 1 Axes>",
      "image/png": "[encoded data removed]"
     },
     "metadata": {},
     "output_type": "display_data"
    }
   ],
   "source": [
    "import matplotlib.pyplot as plt\n",
    "\n",
    "# Count occurrences of each main genre\n",
    "genre_counts = df['main_genre'].value_counts()\n",
    "\n",
    "# Plot Histogram\n",
    "plt.figure(figsize=(10, 6))\n",
    "genre_counts.plot(kind='bar', color='skyblue')\n",
    "plt.title('Main Genre Distribution')\n",
    "plt.xlabel('Main Genre')\n",
    "plt.ylabel('Count')\n",
    "plt.xticks(rotation=45, ha='right')\n",
    "plt.tight_layout()\n",
    "plt.show()"
   ],
   "metadata": {
    "collapsed": false,
    "ExecuteTime": {
     "start_time": "2025-03-13T20:28:22.034312Z",
     "end_time": "2025-03-13T20:28:22.333808Z"
    }
   }
  },
  {
   "cell_type": "code",
   "execution_count": 13,
   "outputs": [],
   "source": [
    "import numpy as np\n",
    "import pandas as pd\n",
    "import librosa\n",
    "# Load the VGGish model\n",
    "def select_strongest_8_seconds(y, sr):\n",
    "    onset_env = librosa.onset.onset_strength(y=y, sr=sr, aggregate=np.median)\n",
    "    tempo, beats = librosa.beat.beat_track(onset_envelope=onset_env, sr=sr, trim=True)\n",
    "    # Calculate the cumulative onset strength for each 8-second segment\n",
    "    hop_length = 512\n",
    "    frame_length = int(8 * sr / hop_length)\n",
    "    onset_env_cumsum = np.cumsum(onset_env)\n",
    "    max_strength = 0\n",
    "    start_frame = 0\n",
    "\n",
    "    for i in range(len(onset_env) - frame_length):\n",
    "        strength = onset_env_cumsum[i + frame_length] - onset_env_cumsum[i]\n",
    "        if strength > max_strength:\n",
    "            max_strength = strength\n",
    "            start_frame = i\n",
    "\n",
    "    # Align the start of the 8-second segment with the nearest beat\n",
    "    start_time = librosa.frames_to_time(start_frame, sr=sr, hop_length=hop_length)\n",
    "    beat_times = librosa.frames_to_time(beats, sr=sr, hop_length=hop_length)\n",
    "\n",
    "    if len(beat_times) > 0:\n",
    "        nearest_beat_time = min(beat_times, key=lambda x: abs(x - start_time))\n",
    "        start_time = nearest_beat_time\n",
    "\n",
    "    end_time = start_time + 8\n",
    "    start_sample = int(start_time * sr)\n",
    "    end_sample = int(end_time * sr)\n",
    "    y_selected_seconds = y[start_sample:end_sample]\n",
    "    return y_selected_seconds, start_time, end_time"
   ],
   "metadata": {
    "collapsed": false,
    "ExecuteTime": {
     "start_time": "2025-03-13T20:28:24.446373Z",
     "end_time": "2025-03-13T20:28:24.490383Z"
    }
   }
  },
  {
   "cell_type": "code",
   "execution_count": 14,
   "outputs": [],
   "source": [
    "import librosa\n",
    "\n",
    "def preprocess_audio(file_path):\n",
    "    # Load the audio file\n",
    "    x, sr = librosa.load(file_path, sr=None)\n",
    "    y_selected_seconds, start_time, end_time = select_strongest_8_seconds(x, sr)\n",
    "\n",
    "    # Resample to 16 kHz\n",
    "    x_16k = librosa.resample(y=y_selected_seconds, orig_sr=sr, target_sr=16000)\n",
    "\n",
    "    return x_16k, 16000"
   ],
   "metadata": {
    "collapsed": false,
    "ExecuteTime": {
     "start_time": "2025-03-13T20:28:25.196501Z",
     "end_time": "2025-03-13T20:28:25.210249Z"
    }
   }
  },
  {
   "cell_type": "code",
   "execution_count": 15,
   "outputs": [
    {
     "name": "stderr",
     "output_type": "stream",
     "text": [
      "/Users/A117792292/anaconda3/envs/VGGish/lib/python3.10/site-packages/tensorflow/python/keras/engine/base_layer_v1.py:1694: UserWarning: `layer.apply` is deprecated and will be removed in a future version. Please use `layer.__call__` method instead.\n",
      "  warnings.warn('`layer.apply` is deprecated and '\n",
      "/Users/A117792292/anaconda3/envs/VGGish/lib/python3.10/site-packages/tensorflow/python/keras/legacy_tf_layers/core.py:318: UserWarning: `tf.layers.flatten` is deprecated and will be removed in a future version. Please use `tf.keras.layers.Flatten` instead.\n",
      "  warnings.warn('`tf.layers.flatten` is deprecated and '\n"
     ]
    },
    {
     "name": "stdout",
     "output_type": "stream",
     "text": [
      "INFO:tensorflow:Restoring parameters from fine_tuned_11_genres_EDM_with_val_softmax_vggish_model_batch_size_1.ckpt\n",
      "[-2.7325857  -0.0921064   4.6344347  ... -0.85889184 -1.0982826\n",
      " -0.9285034 ]\n"
     ]
    }
   ],
   "source": [
    "def get_vggish_embedding(file_path):\n",
    "    # Preprocess the audio file\n",
    "    samples, sr = preprocess_audio(file_path)\n",
    "\n",
    "    # Produce a batch of log mel spectrogram examples\n",
    "    input_batch = vggish_input.waveform_to_examples(samples, sr)\n",
    "\n",
    "    # Define VGGish, load the checkpoint, and run the batch through the model to produce embeddings\n",
    "    with tf.Graph().as_default(), tf.Session() as sess:\n",
    "        vggish_slim.define_vggish_slim()\n",
    "        vggish_slim.load_vggish_slim_checkpoint(sess, checkpoint_path)\n",
    "\n",
    "        features_tensor = sess.graph.get_tensor_by_name(vggish_params.INPUT_TENSOR_NAME)\n",
    "        embedding_tensor = sess.graph.get_tensor_by_name(vggish_params.OUTPUT_TENSOR_NAME)\n",
    "\n",
    "        [embedding_batch] = sess.run([embedding_tensor], feed_dict={features_tensor: input_batch})\n",
    "\n",
    "        # Postprocess the results to produce whitened quantized embeddings\n",
    "        # pproc = vggish_postprocess.Postprocessor(pca_params_path)\n",
    "        # postprocessed_batch = pproc.postprocess(embedding_batch)\n",
    "\n",
    "        return embedding_batch\n",
    "\n",
    "# Example usage\n",
    "embedding = get_vggish_embedding('(One of Those) Crazy Girls.mp3')\n",
    "print(embedding.flatten())"
   ],
   "metadata": {
    "collapsed": false,
    "ExecuteTime": {
     "start_time": "2025-03-13T20:28:25.414580Z",
     "end_time": "2025-03-13T20:28:27.322259Z"
    }
   }
  },
  {
   "cell_type": "code",
   "execution_count": 16,
   "outputs": [
    {
     "data": {
      "text/plain": "1"
     },
     "execution_count": 16,
     "metadata": {},
     "output_type": "execute_result"
    }
   ],
   "source": [
    "len(embedding.flatten().shape)"
   ],
   "metadata": {
    "collapsed": false,
    "ExecuteTime": {
     "start_time": "2025-03-13T20:28:27.328759Z",
     "end_time": "2025-03-13T20:28:27.336055Z"
    }
   }
  },
  {
   "cell_type": "code",
   "execution_count": 17,
   "outputs": [
    {
     "data": {
      "text/plain": "numpy.ndarray"
     },
     "execution_count": 17,
     "metadata": {},
     "output_type": "execute_result"
    }
   ],
   "source": [
    "type(embedding.flatten())"
   ],
   "metadata": {
    "collapsed": false,
    "ExecuteTime": {
     "start_time": "2025-03-13T20:28:27.337728Z",
     "end_time": "2025-03-13T20:28:27.345664Z"
    }
   }
  },
  {
   "cell_type": "code",
   "execution_count": 19,
   "outputs": [
    {
     "name": "stdout",
     "output_type": "stream",
     "text": [
      "<class 'list'>\n"
     ]
    }
   ],
   "source": [
    "# Convert the numpy array to a list of floats\n",
    "embedding_list = embedding.flatten().tolist()\n",
    "\n",
    "# Verify the type\n",
    "print(type(embedding_list))  # This should print <class 'list'>"
   ],
   "metadata": {
    "collapsed": false,
    "ExecuteTime": {
     "start_time": "2025-03-13T18:34:58.344490Z",
     "end_time": "2025-03-13T18:34:58.412012Z"
    }
   }
  },
  {
   "cell_type": "code",
   "execution_count": 24,
   "outputs": [
    {
     "data": {
      "text/plain": "                            name                    artist  \\\n0                       Revolver  Rage Against The Machine   \n1                Last First Kiss             One Direction   \n2                       D U Down               Kevin Gates   \n3    How I Move (feat. Lil Baby)              Flipp Dinero   \n4                     Workin' on                 Colt Ford   \n..                           ...                       ...   \n919                She Ain't You               Chris Brown   \n920      Sexy Chick (feat. Akon)              David Guetta   \n921                Mouth for War                   Pantera   \n922             She Doesn't Mind                 Sean Paul   \n923           Mi Reina Del Dolor                      Maná   \n\n                 spotify_id  \\\n0    655gNlXQ7zb9jPrTuqJ4mf   \n1    0KqlLyIGuBZWqzNwP9rypc   \n2    0fivzT98mFK9EZAtJtV2iW   \n3    0jBJIQuToUUOEx7JJkiPzm   \n4    5kSPD3rOo2hGYVwheIxpv8   \n..                      ...   \n919  3dhvQUA0NyrAea4vQ7X6Gn   \n920  4MKzCHlZvkwJOQRNkdw4zq   \n921  6rkeaQRCWZxwkjhyqgxjXi   \n922  1zZIGnXIcDKU8QIUkR20nK   \n923  57yEbqu0L6Dq614Vv5hHHL   \n\n                                               preview  \\\n0    https://p.scdn.co/mp3-preview/d0ed6e220218ce8e...   \n1    https://p.scdn.co/mp3-preview/6aaeaaab31f77494...   \n2    https://p.scdn.co/mp3-preview/471515955e2e5a3c...   \n3    https://p.scdn.co/mp3-preview/777e33a158d29f89...   \n4    https://p.scdn.co/mp3-preview/0805a9f57265f0ab...   \n..                                                 ...   \n919  https://p.scdn.co/mp3-preview/dc674b441cd870ba...   \n920  https://p.scdn.co/mp3-preview/7a3b6610900563c5...   \n921  https://p.scdn.co/mp3-preview/cb8116effd9beb66...   \n922  https://p.scdn.co/mp3-preview/f7b3f3f19f93b59c...   \n923  https://p.scdn.co/mp3-preview/5390a7d0e9b81c66...   \n\n                                                   img  danceability  energy  \\\n0    https://i.scdn.co/image/ab67616d0000b273053f00...         0.350   0.792   \n1    https://i.scdn.co/image/ab67616d0000b2734e31e0...         0.538   0.819   \n2    https://i.scdn.co/image/ab67616d0000b2739d34eb...         0.795   0.597   \n3    https://i.scdn.co/image/ab67616d0000b2731dbffc...         0.826   0.635   \n4    https://i.scdn.co/image/ab67616d0000b273e7d22b...         0.521   0.804   \n..                                                 ...           ...     ...   \n919  https://i.scdn.co/image/ab67616d0000b2730a1d20...         0.634   0.716   \n920  https://i.scdn.co/image/ab67616d0000b273804954...         0.809   0.562   \n921  https://i.scdn.co/image/ab67616d0000b273347c0a...         0.329   0.954   \n922  https://i.scdn.co/image/ab67616d0000b273d2138c...         0.718   0.776   \n923  https://i.scdn.co/image/ab67616d0000b273507bca...         0.611   0.858   \n\n     loudness  speechiness  acousticness  ...  liveness_artist  \\\n0      -8.214       0.0951      0.008760  ...         0.277857   \n1      -2.662       0.0435      0.044500  ...         0.178461   \n2      -6.592       0.2630      0.014200  ...         0.184913   \n3      -5.181       0.2120      0.102000  ...         0.203667   \n4      -4.395       0.0569      0.065800  ...         0.157861   \n..        ...          ...           ...  ...              ...   \n919    -6.502       0.1280      0.034100  ...         0.172564   \n920    -7.694       0.0534      0.081600  ...         0.215116   \n921    -7.006       0.0722      0.000004  ...         0.208891   \n922    -5.208       0.0693      0.000624  ...         0.177862   \n923    -5.187       0.0312      0.003120  ...         0.157453   \n\n     speechiness_artist  valence_artist               artist_id  \\\n0              0.146351        0.486658  2d0hyoQ5ynDBnkvAbJKORj   \n1              0.048473        0.547464  4AK6F7OLvEQ5QYCBNiQWHq   \n2              0.249900        0.507829  1gPhS1zisyXr5dHTYZyiMe   \n3              0.127400        0.764000  2HUwZ0kumzCSlhFcjFZfpp   \n4              0.084006        0.630242  0OpWIlokQeE7BNQMhuu2Nx   \n..                  ...             ...                     ...   \n919            0.130031        0.486374  7bXgB6jMjp9ATFy66eO08Z   \n920            0.072195        0.504891  1Cs0zKBU1kc0i8ypK3B9ai   \n921            0.088555        0.365315  14pVkFUHDL207LzLHtSA18   \n922            0.179372        0.715639  3Isy6kedDrgPYoTS1dazA9   \n923            0.034933        0.689947  7okwEbXzyT2VffBmyQBWLz   \n\n                                                genres  \\\n0    ['alternative metal', 'alternative rock', 'har...   \n1                                              ['pop']   \n2                           ['pop rap', 'rap', 'trap']   \n3                                             ['trap']   \n4                  ['contemporary country', 'country']   \n..                                                 ...   \n919                                     ['r&b', 'rap']   \n920                        ['dance pop', 'edm', 'pop']   \n921  ['alternative metal', 'hard rock', 'metal', 'n...   \n922                    ['dance pop', 'pop', 'pop rap']   \n923                       ['latin pop', 'mexican pop']   \n\n                                             file_path  \\\n0       ../mp3songs/43_genres_multi_label/Revolver.mp3   \n1    ../mp3songs/43_genres_multi_label/Last First K...   \n2       ../mp3songs/43_genres_multi_label/D U Down.mp3   \n3    ../mp3songs/43_genres_multi_label/How I Move (...   \n4     ../mp3songs/43_genres_multi_label/Workin' on.mp3   \n..                                                 ...   \n919  ../mp3songs/43_genres_multi_label/She Ain't Yo...   \n920  ../mp3songs/43_genres_multi_label/Sexy Chick (...   \n921  ../mp3songs/43_genres_multi_label/Mouth for Wa...   \n922  ../mp3songs/43_genres_multi_label/She Doesn't ...   \n923  ../mp3songs/43_genres_multi_label/Mi Reina Del...   \n\n                                            genres_str  \\\n0    ['alternative metal', 'alternative rock', 'har...   \n1                                              ['pop']   \n2                           ['pop rap', 'rap', 'trap']   \n3                                             ['trap']   \n4                  ['contemporary country', 'country']   \n..                                                 ...   \n919                                     ['r&b', 'rap']   \n920                        ['dance pop', 'edm', 'pop']   \n921  ['alternative metal', 'hard rock', 'metal', 'n...   \n922                    ['dance pop', 'pop', 'pop rap']   \n923                       ['latin pop', 'mexican pop']   \n\n                                          genre_array2  \\\n0    [0 0 0 0 0 0 0 0 0 0 0 0 0 0 0 0 0 0 0 0 0 0 0...   \n1    [0 0 0 0 0 0 0 0 0 0 0 0 1 0 0 0 0 0 0 0 0 0 0...   \n2    [0 0 0 0 1 0 0 0 0 0 1 0 0 1 0 0 0 0 0 0 0 0 0...   \n3    [0 0 0 0 1 0 0 0 0 0 0 0 0 0 0 0 0 0 0 0 0 0 0...   \n4    [1 0 0 0 0 0 0 0 0 0 0 0 0 0 0 0 0 0 0 0 0 0 0...   \n..                                                 ...   \n919  [0 0 0 0 0 0 0 0 0 0 1 0 0 0 0 0 0 0 0 0 0 0 0...   \n920  [0 0 0 0 0 0 1 0 0 0 0 0 1 0 0 0 0 0 0 0 0 0 0...   \n921  [0 1 0 0 0 0 0 0 0 0 0 0 0 0 0 0 0 0 0 0 0 0 0...   \n922  [0 0 0 0 0 0 0 0 0 0 0 0 1 1 0 0 0 0 0 0 0 0 0...   \n923  [0 0 0 0 0 0 0 0 0 0 0 1 0 0 0 0 0 0 0 0 0 0 0...   \n\n      VGG_embeddings_8_seconds_base_43_multilabel_test  main_genre  \n0    [-0.8018218278884888, -0.22799083590507507, 0....       metal  \n1    [-0.7555744647979736, -0.009560048580169678, 0...         pop  \n2    [-0.9172438383102417, -0.06023094058036804, 0....         rap  \n3    [-0.8096623420715332, 0.05372752249240875, 0.8...         rap  \n4    [-0.7705914974212646, 0.24718138575553894, 0.1...     country  \n..                                                 ...         ...  \n919  [-0.5154333114624023, 0.04339984059333801, 0.2...         rnb  \n920  [-0.5577372312545776, 0.12402720004320145, 0.2...         pop  \n921  [-0.7344160079956055, -0.05429854989051819, -0...       metal  \n922  [-0.9404375553131104, 0.2554495632648468, 0.55...         pop  \n923  [-0.8619656562805176, -0.20747187733650208, -0...         pop  \n\n[924 rows x 27 columns]",
      "text/html": "<div>\n<style scoped>\n    .dataframe tbody tr th:only-of-type {\n        vertical-align: middle;\n    }\n\n    .dataframe tbody tr th {\n        vertical-align: top;\n    }\n\n    .dataframe thead th {\n        text-align: right;\n    }\n</style>\n<table border=\"1\" class=\"dataframe\">\n  <thead>\n    <tr style=\"text-align: right;\">\n      <th></th>\n      <th>name</th>\n      <th>artist</th>\n      <th>spotify_id</th>\n      <th>preview</th>\n      <th>img</th>\n      <th>danceability</th>\n      <th>energy</th>\n      <th>loudness</th>\n      <th>speechiness</th>\n      <th>acousticness</th>\n      <th>...</th>\n      <th>liveness_artist</th>\n      <th>speechiness_artist</th>\n      <th>valence_artist</th>\n      <th>artist_id</th>\n      <th>genres</th>\n      <th>file_path</th>\n      <th>genres_str</th>\n      <th>genre_array2</th>\n      <th>VGG_embeddings_8_seconds_base_43_multilabel_test</th>\n      <th>main_genre</th>\n    </tr>\n  </thead>\n  <tbody>\n    <tr>\n      <th>0</th>\n      <td>Revolver</td>\n      <td>Rage Against The Machine</td>\n      <td>655gNlXQ7zb9jPrTuqJ4mf</td>\n      <td>https://p.scdn.co/mp3-preview/d0ed6e220218ce8e...</td>\n      <td>https://i.scdn.co/image/ab67616d0000b273053f00...</td>\n      <td>0.350</td>\n      <td>0.792</td>\n      <td>-8.214</td>\n      <td>0.0951</td>\n      <td>0.008760</td>\n      <td>...</td>\n      <td>0.277857</td>\n      <td>0.146351</td>\n      <td>0.486658</td>\n      <td>2d0hyoQ5ynDBnkvAbJKORj</td>\n      <td>['alternative metal', 'alternative rock', 'har...</td>\n      <td>../mp3songs/43_genres_multi_label/Revolver.mp3</td>\n      <td>['alternative metal', 'alternative rock', 'har...</td>\n      <td>[0 0 0 0 0 0 0 0 0 0 0 0 0 0 0 0 0 0 0 0 0 0 0...</td>\n      <td>[-0.8018218278884888, -0.22799083590507507, 0....</td>\n      <td>metal</td>\n    </tr>\n    <tr>\n      <th>1</th>\n      <td>Last First Kiss</td>\n      <td>One Direction</td>\n      <td>0KqlLyIGuBZWqzNwP9rypc</td>\n      <td>https://p.scdn.co/mp3-preview/6aaeaaab31f77494...</td>\n      <td>https://i.scdn.co/image/ab67616d0000b2734e31e0...</td>\n      <td>0.538</td>\n      <td>0.819</td>\n      <td>-2.662</td>\n      <td>0.0435</td>\n      <td>0.044500</td>\n      <td>...</td>\n      <td>0.178461</td>\n      <td>0.048473</td>\n      <td>0.547464</td>\n      <td>4AK6F7OLvEQ5QYCBNiQWHq</td>\n      <td>['pop']</td>\n      <td>../mp3songs/43_genres_multi_label/Last First K...</td>\n      <td>['pop']</td>\n      <td>[0 0 0 0 0 0 0 0 0 0 0 0 1 0 0 0 0 0 0 0 0 0 0...</td>\n      <td>[-0.7555744647979736, -0.009560048580169678, 0...</td>\n      <td>pop</td>\n    </tr>\n    <tr>\n      <th>2</th>\n      <td>D U Down</td>\n      <td>Kevin Gates</td>\n      <td>0fivzT98mFK9EZAtJtV2iW</td>\n      <td>https://p.scdn.co/mp3-preview/471515955e2e5a3c...</td>\n      <td>https://i.scdn.co/image/ab67616d0000b2739d34eb...</td>\n      <td>0.795</td>\n      <td>0.597</td>\n      <td>-6.592</td>\n      <td>0.2630</td>\n      <td>0.014200</td>\n      <td>...</td>\n      <td>0.184913</td>\n      <td>0.249900</td>\n      <td>0.507829</td>\n      <td>1gPhS1zisyXr5dHTYZyiMe</td>\n      <td>['pop rap', 'rap', 'trap']</td>\n      <td>../mp3songs/43_genres_multi_label/D U Down.mp3</td>\n      <td>['pop rap', 'rap', 'trap']</td>\n      <td>[0 0 0 0 1 0 0 0 0 0 1 0 0 1 0 0 0 0 0 0 0 0 0...</td>\n      <td>[-0.9172438383102417, -0.06023094058036804, 0....</td>\n      <td>rap</td>\n    </tr>\n    <tr>\n      <th>3</th>\n      <td>How I Move (feat. Lil Baby)</td>\n      <td>Flipp Dinero</td>\n      <td>0jBJIQuToUUOEx7JJkiPzm</td>\n      <td>https://p.scdn.co/mp3-preview/777e33a158d29f89...</td>\n      <td>https://i.scdn.co/image/ab67616d0000b2731dbffc...</td>\n      <td>0.826</td>\n      <td>0.635</td>\n      <td>-5.181</td>\n      <td>0.2120</td>\n      <td>0.102000</td>\n      <td>...</td>\n      <td>0.203667</td>\n      <td>0.127400</td>\n      <td>0.764000</td>\n      <td>2HUwZ0kumzCSlhFcjFZfpp</td>\n      <td>['trap']</td>\n      <td>../mp3songs/43_genres_multi_label/How I Move (...</td>\n      <td>['trap']</td>\n      <td>[0 0 0 0 1 0 0 0 0 0 0 0 0 0 0 0 0 0 0 0 0 0 0...</td>\n      <td>[-0.8096623420715332, 0.05372752249240875, 0.8...</td>\n      <td>rap</td>\n    </tr>\n    <tr>\n      <th>4</th>\n      <td>Workin' on</td>\n      <td>Colt Ford</td>\n      <td>5kSPD3rOo2hGYVwheIxpv8</td>\n      <td>https://p.scdn.co/mp3-preview/0805a9f57265f0ab...</td>\n      <td>https://i.scdn.co/image/ab67616d0000b273e7d22b...</td>\n      <td>0.521</td>\n      <td>0.804</td>\n      <td>-4.395</td>\n      <td>0.0569</td>\n      <td>0.065800</td>\n      <td>...</td>\n      <td>0.157861</td>\n      <td>0.084006</td>\n      <td>0.630242</td>\n      <td>0OpWIlokQeE7BNQMhuu2Nx</td>\n      <td>['contemporary country', 'country']</td>\n      <td>../mp3songs/43_genres_multi_label/Workin' on.mp3</td>\n      <td>['contemporary country', 'country']</td>\n      <td>[1 0 0 0 0 0 0 0 0 0 0 0 0 0 0 0 0 0 0 0 0 0 0...</td>\n      <td>[-0.7705914974212646, 0.24718138575553894, 0.1...</td>\n      <td>country</td>\n    </tr>\n    <tr>\n      <th>...</th>\n      <td>...</td>\n      <td>...</td>\n      <td>...</td>\n      <td>...</td>\n      <td>...</td>\n      <td>...</td>\n      <td>...</td>\n      <td>...</td>\n      <td>...</td>\n      <td>...</td>\n      <td>...</td>\n      <td>...</td>\n      <td>...</td>\n      <td>...</td>\n      <td>...</td>\n      <td>...</td>\n      <td>...</td>\n      <td>...</td>\n      <td>...</td>\n      <td>...</td>\n      <td>...</td>\n    </tr>\n    <tr>\n      <th>919</th>\n      <td>She Ain't You</td>\n      <td>Chris Brown</td>\n      <td>3dhvQUA0NyrAea4vQ7X6Gn</td>\n      <td>https://p.scdn.co/mp3-preview/dc674b441cd870ba...</td>\n      <td>https://i.scdn.co/image/ab67616d0000b2730a1d20...</td>\n      <td>0.634</td>\n      <td>0.716</td>\n      <td>-6.502</td>\n      <td>0.1280</td>\n      <td>0.034100</td>\n      <td>...</td>\n      <td>0.172564</td>\n      <td>0.130031</td>\n      <td>0.486374</td>\n      <td>7bXgB6jMjp9ATFy66eO08Z</td>\n      <td>['r&amp;b', 'rap']</td>\n      <td>../mp3songs/43_genres_multi_label/She Ain't Yo...</td>\n      <td>['r&amp;b', 'rap']</td>\n      <td>[0 0 0 0 0 0 0 0 0 0 1 0 0 0 0 0 0 0 0 0 0 0 0...</td>\n      <td>[-0.5154333114624023, 0.04339984059333801, 0.2...</td>\n      <td>rnb</td>\n    </tr>\n    <tr>\n      <th>920</th>\n      <td>Sexy Chick (feat. Akon)</td>\n      <td>David Guetta</td>\n      <td>4MKzCHlZvkwJOQRNkdw4zq</td>\n      <td>https://p.scdn.co/mp3-preview/7a3b6610900563c5...</td>\n      <td>https://i.scdn.co/image/ab67616d0000b273804954...</td>\n      <td>0.809</td>\n      <td>0.562</td>\n      <td>-7.694</td>\n      <td>0.0534</td>\n      <td>0.081600</td>\n      <td>...</td>\n      <td>0.215116</td>\n      <td>0.072195</td>\n      <td>0.504891</td>\n      <td>1Cs0zKBU1kc0i8ypK3B9ai</td>\n      <td>['dance pop', 'edm', 'pop']</td>\n      <td>../mp3songs/43_genres_multi_label/Sexy Chick (...</td>\n      <td>['dance pop', 'edm', 'pop']</td>\n      <td>[0 0 0 0 0 0 1 0 0 0 0 0 1 0 0 0 0 0 0 0 0 0 0...</td>\n      <td>[-0.5577372312545776, 0.12402720004320145, 0.2...</td>\n      <td>pop</td>\n    </tr>\n    <tr>\n      <th>921</th>\n      <td>Mouth for War</td>\n      <td>Pantera</td>\n      <td>6rkeaQRCWZxwkjhyqgxjXi</td>\n      <td>https://p.scdn.co/mp3-preview/cb8116effd9beb66...</td>\n      <td>https://i.scdn.co/image/ab67616d0000b273347c0a...</td>\n      <td>0.329</td>\n      <td>0.954</td>\n      <td>-7.006</td>\n      <td>0.0722</td>\n      <td>0.000004</td>\n      <td>...</td>\n      <td>0.208891</td>\n      <td>0.088555</td>\n      <td>0.365315</td>\n      <td>14pVkFUHDL207LzLHtSA18</td>\n      <td>['alternative metal', 'hard rock', 'metal', 'n...</td>\n      <td>../mp3songs/43_genres_multi_label/Mouth for Wa...</td>\n      <td>['alternative metal', 'hard rock', 'metal', 'n...</td>\n      <td>[0 1 0 0 0 0 0 0 0 0 0 0 0 0 0 0 0 0 0 0 0 0 0...</td>\n      <td>[-0.7344160079956055, -0.05429854989051819, -0...</td>\n      <td>metal</td>\n    </tr>\n    <tr>\n      <th>922</th>\n      <td>She Doesn't Mind</td>\n      <td>Sean Paul</td>\n      <td>1zZIGnXIcDKU8QIUkR20nK</td>\n      <td>https://p.scdn.co/mp3-preview/f7b3f3f19f93b59c...</td>\n      <td>https://i.scdn.co/image/ab67616d0000b273d2138c...</td>\n      <td>0.718</td>\n      <td>0.776</td>\n      <td>-5.208</td>\n      <td>0.0693</td>\n      <td>0.000624</td>\n      <td>...</td>\n      <td>0.177862</td>\n      <td>0.179372</td>\n      <td>0.715639</td>\n      <td>3Isy6kedDrgPYoTS1dazA9</td>\n      <td>['dance pop', 'pop', 'pop rap']</td>\n      <td>../mp3songs/43_genres_multi_label/She Doesn't ...</td>\n      <td>['dance pop', 'pop', 'pop rap']</td>\n      <td>[0 0 0 0 0 0 0 0 0 0 0 0 1 1 0 0 0 0 0 0 0 0 0...</td>\n      <td>[-0.9404375553131104, 0.2554495632648468, 0.55...</td>\n      <td>pop</td>\n    </tr>\n    <tr>\n      <th>923</th>\n      <td>Mi Reina Del Dolor</td>\n      <td>Maná</td>\n      <td>57yEbqu0L6Dq614Vv5hHHL</td>\n      <td>https://p.scdn.co/mp3-preview/5390a7d0e9b81c66...</td>\n      <td>https://i.scdn.co/image/ab67616d0000b273507bca...</td>\n      <td>0.611</td>\n      <td>0.858</td>\n      <td>-5.187</td>\n      <td>0.0312</td>\n      <td>0.003120</td>\n      <td>...</td>\n      <td>0.157453</td>\n      <td>0.034933</td>\n      <td>0.689947</td>\n      <td>7okwEbXzyT2VffBmyQBWLz</td>\n      <td>['latin pop', 'mexican pop']</td>\n      <td>../mp3songs/43_genres_multi_label/Mi Reina Del...</td>\n      <td>['latin pop', 'mexican pop']</td>\n      <td>[0 0 0 0 0 0 0 0 0 0 0 1 0 0 0 0 0 0 0 0 0 0 0...</td>\n      <td>[-0.8619656562805176, -0.20747187733650208, -0...</td>\n      <td>pop</td>\n    </tr>\n  </tbody>\n</table>\n<p>924 rows × 27 columns</p>\n</div>"
     },
     "execution_count": 24,
     "metadata": {},
     "output_type": "execute_result"
    }
   ],
   "source": [
    "df"
   ],
   "metadata": {
    "collapsed": false,
    "ExecuteTime": {
     "start_time": "2025-03-11T12:22:52.955396Z",
     "end_time": "2025-03-11T12:22:53.044829Z"
    }
   }
  },
  {
   "cell_type": "code",
   "execution_count": 18,
   "outputs": [
    {
     "data": {
      "text/plain": "            genres              spotify_id  \\\n0      acid_techno  4J5YDSS5tzUzrYKM9mONgv   \n1        hardstyle  4mALGoOhRMFVfphsMppSb2   \n2        hardstyle  1qt9COCAqTZbWhESNHOqer   \n3        90s_house  5mOn7oJdEBmG43elhWGfXo   \n4        90s_house  2F5W5f8COoQKpoGqPcZ1EN   \n..             ...                     ...   \n105         tekkno  1GQ7bQs2li51f8h7ltunpH   \n106    jump_up_dnb  5mT3qi3qyzAwSC1Drgp8lb   \n107  groove_techno  5si5OPtVvV69chXMtaZkvk   \n108     liquid_dnb  0cMx1KW8B0r9UOKLxCj5aR   \n109    hard_techno  19I6p2HpdJmHg5bbDWxnLX   \n\n                                        name  \\\n0                                 Multiverse   \n1                        Muzika - Sefa Remix   \n2      Oh My - DJ Paul Elstak's Hardcore Mix   \n3            Let's Get Brutal - Brutal House   \n4    Nitelife - Armand Van Helden Retail Mix   \n..                                       ...   \n105                                      MFB   \n106                  I Want Your Love V.I.P.   \n107                              Am I Drunk?   \n108                       No Sunset For Soul   \n109                                   Switch   \n\n                                          artist_id  \\\n0    2jvTYwyzxK1FVYGEoKfZLQ, 0bIOCVFnNDbixFxTdPjE7R   \n1    4RbUYWWjEBb4umwqakOEd3, 0caJEGgVuXuSHhhrMCmlkI   \n2    2dQgOfBP52UwjegY8FwJAY, 123hDJRbi4KtCdBaaKNHW6   \n3                            6KcNmchIyvo5TqzjfJtwYR   \n4                            1Tvhj4mF2pvvAT1InLbRKs   \n..                                              ...   \n105  5yYwA7jmFlU01EKoLfeNpV, 2dntPqbt5DYNfJHx7Dm8wV   \n106                          2yJbiseBZFvrCK5GueLnk7   \n107                          0iS9Zzud5hNvjx0wVfIVvd   \n108  2w5c2l70mYNDdSLifFyZjJ, 022EiWsch2zvty0qBUksDO   \n109  4gF60Mys5KoWdQrf0bhRWq, 6wBqeigBUFAIAnPuBQl071   \n\n                          artist  danceability  energy  speechiness  valence  \\\n0       Cosmic Boys, Demon Noise         0.630   0.995       0.0420   0.3350   \n1              Dr. Peacock, Sefa         0.447   0.993       0.0431   0.0389   \n2    The Partysquad, Paul Elstak         0.618   0.772       0.0556   0.1980   \n3                   Nitro Deluxe         0.805   0.507       0.1090   0.5370   \n4                    Kim English         0.793   0.556       0.0502   0.4120   \n..                           ...           ...     ...          ...      ...   \n105          KomaCasper, HRDSFCK         0.809   0.711       0.3020   0.4300   \n106                        Tsuki         0.533   0.943       0.0584   0.1460   \n107                  Alfa Cornae         0.698   0.870       0.1490   0.4270   \n108           Monty, Liam Bailey         0.702   0.850       0.2660   0.1320   \n109   Luca Agnelli, PISAPIA (IT)         0.600   0.998       0.1460   0.0369   \n\n                                             file_path main_genre  \\\n0    ../mp3songs/ACID!_Best_Acid_Techno_Mix/Multive...     techno   \n1    ../mp3songs/Hardcore_Techno_Hardstyle/Muzika -...     techno   \n2    ../mp3songs/Hardcore_Techno_Hardstyle/Oh My - ...     techno   \n3    ../mp3songs/90s_House_Classics/Let's Get Bruta...      dance   \n4    ../mp3songs/90s_House_Classics/Nitelife - Arma...      dance   \n..                                                 ...        ...   \n105                         ../mp3songs/tekkno/MFB.mp3     techno   \n106  ../mp3songs/Jump-Up_Drum_and_Bass/I Want Your ...        dnb   \n107          ../mp3songs/Groove_Techno/Am I Drunk?.mp3     techno   \n108  ../mp3songs/Liquid_Drum_and_Bass/No Sunset For...        dnb   \n109                 ../mp3songs/HARD_TECHNO/Switch.mp3     techno   \n\n                    main_genre_encoded  \\\n0    [0, 1, 0, 0, 0, 0, 0, 0, 0, 0, 0]   \n1    [0, 0, 0, 1, 0, 0, 0, 0, 0, 0, 0]   \n2    [0, 0, 0, 1, 0, 0, 0, 0, 0, 0, 0]   \n3    [1, 0, 0, 0, 0, 0, 0, 0, 0, 0, 0]   \n4    [1, 0, 0, 0, 0, 0, 0, 0, 0, 0, 0]   \n..                                 ...   \n105  [0, 0, 0, 0, 0, 0, 0, 0, 0, 1, 0]   \n106  [0, 0, 0, 0, 1, 0, 0, 0, 0, 0, 0]   \n107  [0, 0, 0, 0, 0, 0, 0, 0, 0, 0, 1]   \n108  [0, 0, 0, 0, 0, 1, 0, 0, 0, 0, 0]   \n109  [0, 0, 1, 0, 0, 0, 0, 0, 0, 0, 0]   \n\n                  base_11_genres_EDM_with_vggish_model  \n0    [-1.1412535905838013, 0.08442866802215576, 0.1...  \n1    [-1.065509557723999, -0.4460943639278412, 1.51...  \n2    [-0.9446086883544922, -0.03999096155166626, 0....  \n3    [-0.4920635521411896, -0.021116137504577637, 0...  \n4    [-0.8604552745819092, 0.0033154338598251343, 0...  \n..                                                 ...  \n105  [-1.155425786972046, -0.057559579610824585, 0....  \n106  [-0.4580102860927582, -0.0642130970954895, 0.5...  \n107  [-0.9225215911865234, 0.028807833790779114, 0....  \n108  [-0.7950646877288818, -0.10124924778938293, 0....  \n109  [-0.6094541549682617, -0.19779184460639954, 0....  \n\n[110 rows x 13 columns]",
      "text/html": "<div>\n<style scoped>\n    .dataframe tbody tr th:only-of-type {\n        vertical-align: middle;\n    }\n\n    .dataframe tbody tr th {\n        vertical-align: top;\n    }\n\n    .dataframe thead th {\n        text-align: right;\n    }\n</style>\n<table border=\"1\" class=\"dataframe\">\n  <thead>\n    <tr style=\"text-align: right;\">\n      <th></th>\n      <th>genres</th>\n      <th>spotify_id</th>\n      <th>name</th>\n      <th>artist_id</th>\n      <th>artist</th>\n      <th>danceability</th>\n      <th>energy</th>\n      <th>speechiness</th>\n      <th>valence</th>\n      <th>file_path</th>\n      <th>main_genre</th>\n      <th>main_genre_encoded</th>\n      <th>base_11_genres_EDM_with_vggish_model</th>\n    </tr>\n  </thead>\n  <tbody>\n    <tr>\n      <th>0</th>\n      <td>acid_techno</td>\n      <td>4J5YDSS5tzUzrYKM9mONgv</td>\n      <td>Multiverse</td>\n      <td>2jvTYwyzxK1FVYGEoKfZLQ, 0bIOCVFnNDbixFxTdPjE7R</td>\n      <td>Cosmic Boys, Demon Noise</td>\n      <td>0.630</td>\n      <td>0.995</td>\n      <td>0.0420</td>\n      <td>0.3350</td>\n      <td>../mp3songs/ACID!_Best_Acid_Techno_Mix/Multive...</td>\n      <td>techno</td>\n      <td>[0, 1, 0, 0, 0, 0, 0, 0, 0, 0, 0]</td>\n      <td>[-1.1412535905838013, 0.08442866802215576, 0.1...</td>\n    </tr>\n    <tr>\n      <th>1</th>\n      <td>hardstyle</td>\n      <td>4mALGoOhRMFVfphsMppSb2</td>\n      <td>Muzika - Sefa Remix</td>\n      <td>4RbUYWWjEBb4umwqakOEd3, 0caJEGgVuXuSHhhrMCmlkI</td>\n      <td>Dr. Peacock, Sefa</td>\n      <td>0.447</td>\n      <td>0.993</td>\n      <td>0.0431</td>\n      <td>0.0389</td>\n      <td>../mp3songs/Hardcore_Techno_Hardstyle/Muzika -...</td>\n      <td>techno</td>\n      <td>[0, 0, 0, 1, 0, 0, 0, 0, 0, 0, 0]</td>\n      <td>[-1.065509557723999, -0.4460943639278412, 1.51...</td>\n    </tr>\n    <tr>\n      <th>2</th>\n      <td>hardstyle</td>\n      <td>1qt9COCAqTZbWhESNHOqer</td>\n      <td>Oh My - DJ Paul Elstak's Hardcore Mix</td>\n      <td>2dQgOfBP52UwjegY8FwJAY, 123hDJRbi4KtCdBaaKNHW6</td>\n      <td>The Partysquad, Paul Elstak</td>\n      <td>0.618</td>\n      <td>0.772</td>\n      <td>0.0556</td>\n      <td>0.1980</td>\n      <td>../mp3songs/Hardcore_Techno_Hardstyle/Oh My - ...</td>\n      <td>techno</td>\n      <td>[0, 0, 0, 1, 0, 0, 0, 0, 0, 0, 0]</td>\n      <td>[-0.9446086883544922, -0.03999096155166626, 0....</td>\n    </tr>\n    <tr>\n      <th>3</th>\n      <td>90s_house</td>\n      <td>5mOn7oJdEBmG43elhWGfXo</td>\n      <td>Let's Get Brutal - Brutal House</td>\n      <td>6KcNmchIyvo5TqzjfJtwYR</td>\n      <td>Nitro Deluxe</td>\n      <td>0.805</td>\n      <td>0.507</td>\n      <td>0.1090</td>\n      <td>0.5370</td>\n      <td>../mp3songs/90s_House_Classics/Let's Get Bruta...</td>\n      <td>dance</td>\n      <td>[1, 0, 0, 0, 0, 0, 0, 0, 0, 0, 0]</td>\n      <td>[-0.4920635521411896, -0.021116137504577637, 0...</td>\n    </tr>\n    <tr>\n      <th>4</th>\n      <td>90s_house</td>\n      <td>2F5W5f8COoQKpoGqPcZ1EN</td>\n      <td>Nitelife - Armand Van Helden Retail Mix</td>\n      <td>1Tvhj4mF2pvvAT1InLbRKs</td>\n      <td>Kim English</td>\n      <td>0.793</td>\n      <td>0.556</td>\n      <td>0.0502</td>\n      <td>0.4120</td>\n      <td>../mp3songs/90s_House_Classics/Nitelife - Arma...</td>\n      <td>dance</td>\n      <td>[1, 0, 0, 0, 0, 0, 0, 0, 0, 0, 0]</td>\n      <td>[-0.8604552745819092, 0.0033154338598251343, 0...</td>\n    </tr>\n    <tr>\n      <th>...</th>\n      <td>...</td>\n      <td>...</td>\n      <td>...</td>\n      <td>...</td>\n      <td>...</td>\n      <td>...</td>\n      <td>...</td>\n      <td>...</td>\n      <td>...</td>\n      <td>...</td>\n      <td>...</td>\n      <td>...</td>\n      <td>...</td>\n    </tr>\n    <tr>\n      <th>105</th>\n      <td>tekkno</td>\n      <td>1GQ7bQs2li51f8h7ltunpH</td>\n      <td>MFB</td>\n      <td>5yYwA7jmFlU01EKoLfeNpV, 2dntPqbt5DYNfJHx7Dm8wV</td>\n      <td>KomaCasper, HRDSFCK</td>\n      <td>0.809</td>\n      <td>0.711</td>\n      <td>0.3020</td>\n      <td>0.4300</td>\n      <td>../mp3songs/tekkno/MFB.mp3</td>\n      <td>techno</td>\n      <td>[0, 0, 0, 0, 0, 0, 0, 0, 0, 1, 0]</td>\n      <td>[-1.155425786972046, -0.057559579610824585, 0....</td>\n    </tr>\n    <tr>\n      <th>106</th>\n      <td>jump_up_dnb</td>\n      <td>5mT3qi3qyzAwSC1Drgp8lb</td>\n      <td>I Want Your Love V.I.P.</td>\n      <td>2yJbiseBZFvrCK5GueLnk7</td>\n      <td>Tsuki</td>\n      <td>0.533</td>\n      <td>0.943</td>\n      <td>0.0584</td>\n      <td>0.1460</td>\n      <td>../mp3songs/Jump-Up_Drum_and_Bass/I Want Your ...</td>\n      <td>dnb</td>\n      <td>[0, 0, 0, 0, 1, 0, 0, 0, 0, 0, 0]</td>\n      <td>[-0.4580102860927582, -0.0642130970954895, 0.5...</td>\n    </tr>\n    <tr>\n      <th>107</th>\n      <td>groove_techno</td>\n      <td>5si5OPtVvV69chXMtaZkvk</td>\n      <td>Am I Drunk?</td>\n      <td>0iS9Zzud5hNvjx0wVfIVvd</td>\n      <td>Alfa Cornae</td>\n      <td>0.698</td>\n      <td>0.870</td>\n      <td>0.1490</td>\n      <td>0.4270</td>\n      <td>../mp3songs/Groove_Techno/Am I Drunk?.mp3</td>\n      <td>techno</td>\n      <td>[0, 0, 0, 0, 0, 0, 0, 0, 0, 0, 1]</td>\n      <td>[-0.9225215911865234, 0.028807833790779114, 0....</td>\n    </tr>\n    <tr>\n      <th>108</th>\n      <td>liquid_dnb</td>\n      <td>0cMx1KW8B0r9UOKLxCj5aR</td>\n      <td>No Sunset For Soul</td>\n      <td>2w5c2l70mYNDdSLifFyZjJ, 022EiWsch2zvty0qBUksDO</td>\n      <td>Monty, Liam Bailey</td>\n      <td>0.702</td>\n      <td>0.850</td>\n      <td>0.2660</td>\n      <td>0.1320</td>\n      <td>../mp3songs/Liquid_Drum_and_Bass/No Sunset For...</td>\n      <td>dnb</td>\n      <td>[0, 0, 0, 0, 0, 1, 0, 0, 0, 0, 0]</td>\n      <td>[-0.7950646877288818, -0.10124924778938293, 0....</td>\n    </tr>\n    <tr>\n      <th>109</th>\n      <td>hard_techno</td>\n      <td>19I6p2HpdJmHg5bbDWxnLX</td>\n      <td>Switch</td>\n      <td>4gF60Mys5KoWdQrf0bhRWq, 6wBqeigBUFAIAnPuBQl071</td>\n      <td>Luca Agnelli, PISAPIA (IT)</td>\n      <td>0.600</td>\n      <td>0.998</td>\n      <td>0.1460</td>\n      <td>0.0369</td>\n      <td>../mp3songs/HARD_TECHNO/Switch.mp3</td>\n      <td>techno</td>\n      <td>[0, 0, 1, 0, 0, 0, 0, 0, 0, 0, 0]</td>\n      <td>[-0.6094541549682617, -0.19779184460639954, 0....</td>\n    </tr>\n  </tbody>\n</table>\n<p>110 rows × 13 columns</p>\n</div>"
     },
     "execution_count": 18,
     "metadata": {},
     "output_type": "execute_result"
    }
   ],
   "source": [
    "from qdrant_client import QdrantClient, models\n",
    "import pandas as pd\n",
    "import numpy as np\n",
    "from tqdm import tqdm\n",
    "\n",
    "# Initialize Qdrant client\n",
    "client = QdrantClient(\"http://localhost:6333\")\n",
    "csv_file = 'test_df_EDM.csv'\n",
    "\n",
    "# Load the DataFrame\n",
    "# df = pd.read_csv(csv_file)\n",
    "df"
   ],
   "metadata": {
    "collapsed": false,
    "ExecuteTime": {
     "start_time": "2025-03-13T20:28:39.316567Z",
     "end_time": "2025-03-13T20:28:39.567619Z"
    }
   }
  },
  {
   "cell_type": "code",
   "execution_count": 19,
   "outputs": [
    {
     "data": {
      "text/plain": "            genres              spotify_id  \\\n0      acid_techno  4J5YDSS5tzUzrYKM9mONgv   \n1        hardstyle  4mALGoOhRMFVfphsMppSb2   \n2        hardstyle  1qt9COCAqTZbWhESNHOqer   \n3        90s_house  5mOn7oJdEBmG43elhWGfXo   \n4        90s_house  2F5W5f8COoQKpoGqPcZ1EN   \n..             ...                     ...   \n105         tekkno  1GQ7bQs2li51f8h7ltunpH   \n106    jump_up_dnb  5mT3qi3qyzAwSC1Drgp8lb   \n107  groove_techno  5si5OPtVvV69chXMtaZkvk   \n108     liquid_dnb  0cMx1KW8B0r9UOKLxCj5aR   \n109    hard_techno  19I6p2HpdJmHg5bbDWxnLX   \n\n                                        name  \\\n0                                 Multiverse   \n1                        Muzika - Sefa Remix   \n2      Oh My - DJ Paul Elstak's Hardcore Mix   \n3            Let's Get Brutal - Brutal House   \n4    Nitelife - Armand Van Helden Retail Mix   \n..                                       ...   \n105                                      MFB   \n106                  I Want Your Love V.I.P.   \n107                              Am I Drunk?   \n108                       No Sunset For Soul   \n109                                   Switch   \n\n                                          artist_id  \\\n0    2jvTYwyzxK1FVYGEoKfZLQ, 0bIOCVFnNDbixFxTdPjE7R   \n1    4RbUYWWjEBb4umwqakOEd3, 0caJEGgVuXuSHhhrMCmlkI   \n2    2dQgOfBP52UwjegY8FwJAY, 123hDJRbi4KtCdBaaKNHW6   \n3                            6KcNmchIyvo5TqzjfJtwYR   \n4                            1Tvhj4mF2pvvAT1InLbRKs   \n..                                              ...   \n105  5yYwA7jmFlU01EKoLfeNpV, 2dntPqbt5DYNfJHx7Dm8wV   \n106                          2yJbiseBZFvrCK5GueLnk7   \n107                          0iS9Zzud5hNvjx0wVfIVvd   \n108  2w5c2l70mYNDdSLifFyZjJ, 022EiWsch2zvty0qBUksDO   \n109  4gF60Mys5KoWdQrf0bhRWq, 6wBqeigBUFAIAnPuBQl071   \n\n                          artist  danceability  energy  speechiness  valence  \\\n0       Cosmic Boys, Demon Noise         0.630   0.995       0.0420   0.3350   \n1              Dr. Peacock, Sefa         0.447   0.993       0.0431   0.0389   \n2    The Partysquad, Paul Elstak         0.618   0.772       0.0556   0.1980   \n3                   Nitro Deluxe         0.805   0.507       0.1090   0.5370   \n4                    Kim English         0.793   0.556       0.0502   0.4120   \n..                           ...           ...     ...          ...      ...   \n105          KomaCasper, HRDSFCK         0.809   0.711       0.3020   0.4300   \n106                        Tsuki         0.533   0.943       0.0584   0.1460   \n107                  Alfa Cornae         0.698   0.870       0.1490   0.4270   \n108           Monty, Liam Bailey         0.702   0.850       0.2660   0.1320   \n109   Luca Agnelli, PISAPIA (IT)         0.600   0.998       0.1460   0.0369   \n\n                                             file_path main_genre  \\\n0    ../mp3songs/ACID!_Best_Acid_Techno_Mix/Multive...     techno   \n1    ../mp3songs/Hardcore_Techno_Hardstyle/Muzika -...     techno   \n2    ../mp3songs/Hardcore_Techno_Hardstyle/Oh My - ...     techno   \n3    ../mp3songs/90s_House_Classics/Let's Get Bruta...      dance   \n4    ../mp3songs/90s_House_Classics/Nitelife - Arma...      dance   \n..                                                 ...        ...   \n105                         ../mp3songs/tekkno/MFB.mp3     techno   \n106  ../mp3songs/Jump-Up_Drum_and_Bass/I Want Your ...        dnb   \n107          ../mp3songs/Groove_Techno/Am I Drunk?.mp3     techno   \n108  ../mp3songs/Liquid_Drum_and_Bass/No Sunset For...        dnb   \n109                 ../mp3songs/HARD_TECHNO/Switch.mp3     techno   \n\n                    main_genre_encoded  \\\n0    [0, 1, 0, 0, 0, 0, 0, 0, 0, 0, 0]   \n1    [0, 0, 0, 1, 0, 0, 0, 0, 0, 0, 0]   \n2    [0, 0, 0, 1, 0, 0, 0, 0, 0, 0, 0]   \n3    [1, 0, 0, 0, 0, 0, 0, 0, 0, 0, 0]   \n4    [1, 0, 0, 0, 0, 0, 0, 0, 0, 0, 0]   \n..                                 ...   \n105  [0, 0, 0, 0, 0, 0, 0, 0, 0, 1, 0]   \n106  [0, 0, 0, 0, 1, 0, 0, 0, 0, 0, 0]   \n107  [0, 0, 0, 0, 0, 0, 0, 0, 0, 0, 1]   \n108  [0, 0, 0, 0, 0, 1, 0, 0, 0, 0, 0]   \n109  [0, 0, 1, 0, 0, 0, 0, 0, 0, 0, 0]   \n\n                  base_11_genres_EDM_with_vggish_model  \n0    [-1.1412535905838013, 0.08442866802215576, 0.1...  \n1    [-1.065509557723999, -0.4460943639278412, 1.51...  \n2    [-0.9446086883544922, -0.03999096155166626, 0....  \n3    [-0.4920635521411896, -0.021116137504577637, 0...  \n4    [-0.8604552745819092, 0.0033154338598251343, 0...  \n..                                                 ...  \n105  [-1.155425786972046, -0.057559579610824585, 0....  \n106  [-0.4580102860927582, -0.0642130970954895, 0.5...  \n107  [-0.9225215911865234, 0.028807833790779114, 0....  \n108  [-0.7950646877288818, -0.10124924778938293, 0....  \n109  [-0.6094541549682617, -0.19779184460639954, 0....  \n\n[110 rows x 13 columns]",
      "text/html": "<div>\n<style scoped>\n    .dataframe tbody tr th:only-of-type {\n        vertical-align: middle;\n    }\n\n    .dataframe tbody tr th {\n        vertical-align: top;\n    }\n\n    .dataframe thead th {\n        text-align: right;\n    }\n</style>\n<table border=\"1\" class=\"dataframe\">\n  <thead>\n    <tr style=\"text-align: right;\">\n      <th></th>\n      <th>genres</th>\n      <th>spotify_id</th>\n      <th>name</th>\n      <th>artist_id</th>\n      <th>artist</th>\n      <th>danceability</th>\n      <th>energy</th>\n      <th>speechiness</th>\n      <th>valence</th>\n      <th>file_path</th>\n      <th>main_genre</th>\n      <th>main_genre_encoded</th>\n      <th>base_11_genres_EDM_with_vggish_model</th>\n    </tr>\n  </thead>\n  <tbody>\n    <tr>\n      <th>0</th>\n      <td>acid_techno</td>\n      <td>4J5YDSS5tzUzrYKM9mONgv</td>\n      <td>Multiverse</td>\n      <td>2jvTYwyzxK1FVYGEoKfZLQ, 0bIOCVFnNDbixFxTdPjE7R</td>\n      <td>Cosmic Boys, Demon Noise</td>\n      <td>0.630</td>\n      <td>0.995</td>\n      <td>0.0420</td>\n      <td>0.3350</td>\n      <td>../mp3songs/ACID!_Best_Acid_Techno_Mix/Multive...</td>\n      <td>techno</td>\n      <td>[0, 1, 0, 0, 0, 0, 0, 0, 0, 0, 0]</td>\n      <td>[-1.1412535905838013, 0.08442866802215576, 0.1...</td>\n    </tr>\n    <tr>\n      <th>1</th>\n      <td>hardstyle</td>\n      <td>4mALGoOhRMFVfphsMppSb2</td>\n      <td>Muzika - Sefa Remix</td>\n      <td>4RbUYWWjEBb4umwqakOEd3, 0caJEGgVuXuSHhhrMCmlkI</td>\n      <td>Dr. Peacock, Sefa</td>\n      <td>0.447</td>\n      <td>0.993</td>\n      <td>0.0431</td>\n      <td>0.0389</td>\n      <td>../mp3songs/Hardcore_Techno_Hardstyle/Muzika -...</td>\n      <td>techno</td>\n      <td>[0, 0, 0, 1, 0, 0, 0, 0, 0, 0, 0]</td>\n      <td>[-1.065509557723999, -0.4460943639278412, 1.51...</td>\n    </tr>\n    <tr>\n      <th>2</th>\n      <td>hardstyle</td>\n      <td>1qt9COCAqTZbWhESNHOqer</td>\n      <td>Oh My - DJ Paul Elstak's Hardcore Mix</td>\n      <td>2dQgOfBP52UwjegY8FwJAY, 123hDJRbi4KtCdBaaKNHW6</td>\n      <td>The Partysquad, Paul Elstak</td>\n      <td>0.618</td>\n      <td>0.772</td>\n      <td>0.0556</td>\n      <td>0.1980</td>\n      <td>../mp3songs/Hardcore_Techno_Hardstyle/Oh My - ...</td>\n      <td>techno</td>\n      <td>[0, 0, 0, 1, 0, 0, 0, 0, 0, 0, 0]</td>\n      <td>[-0.9446086883544922, -0.03999096155166626, 0....</td>\n    </tr>\n    <tr>\n      <th>3</th>\n      <td>90s_house</td>\n      <td>5mOn7oJdEBmG43elhWGfXo</td>\n      <td>Let's Get Brutal - Brutal House</td>\n      <td>6KcNmchIyvo5TqzjfJtwYR</td>\n      <td>Nitro Deluxe</td>\n      <td>0.805</td>\n      <td>0.507</td>\n      <td>0.1090</td>\n      <td>0.5370</td>\n      <td>../mp3songs/90s_House_Classics/Let's Get Bruta...</td>\n      <td>dance</td>\n      <td>[1, 0, 0, 0, 0, 0, 0, 0, 0, 0, 0]</td>\n      <td>[-0.4920635521411896, -0.021116137504577637, 0...</td>\n    </tr>\n    <tr>\n      <th>4</th>\n      <td>90s_house</td>\n      <td>2F5W5f8COoQKpoGqPcZ1EN</td>\n      <td>Nitelife - Armand Van Helden Retail Mix</td>\n      <td>1Tvhj4mF2pvvAT1InLbRKs</td>\n      <td>Kim English</td>\n      <td>0.793</td>\n      <td>0.556</td>\n      <td>0.0502</td>\n      <td>0.4120</td>\n      <td>../mp3songs/90s_House_Classics/Nitelife - Arma...</td>\n      <td>dance</td>\n      <td>[1, 0, 0, 0, 0, 0, 0, 0, 0, 0, 0]</td>\n      <td>[-0.8604552745819092, 0.0033154338598251343, 0...</td>\n    </tr>\n    <tr>\n      <th>...</th>\n      <td>...</td>\n      <td>...</td>\n      <td>...</td>\n      <td>...</td>\n      <td>...</td>\n      <td>...</td>\n      <td>...</td>\n      <td>...</td>\n      <td>...</td>\n      <td>...</td>\n      <td>...</td>\n      <td>...</td>\n      <td>...</td>\n    </tr>\n    <tr>\n      <th>105</th>\n      <td>tekkno</td>\n      <td>1GQ7bQs2li51f8h7ltunpH</td>\n      <td>MFB</td>\n      <td>5yYwA7jmFlU01EKoLfeNpV, 2dntPqbt5DYNfJHx7Dm8wV</td>\n      <td>KomaCasper, HRDSFCK</td>\n      <td>0.809</td>\n      <td>0.711</td>\n      <td>0.3020</td>\n      <td>0.4300</td>\n      <td>../mp3songs/tekkno/MFB.mp3</td>\n      <td>techno</td>\n      <td>[0, 0, 0, 0, 0, 0, 0, 0, 0, 1, 0]</td>\n      <td>[-1.155425786972046, -0.057559579610824585, 0....</td>\n    </tr>\n    <tr>\n      <th>106</th>\n      <td>jump_up_dnb</td>\n      <td>5mT3qi3qyzAwSC1Drgp8lb</td>\n      <td>I Want Your Love V.I.P.</td>\n      <td>2yJbiseBZFvrCK5GueLnk7</td>\n      <td>Tsuki</td>\n      <td>0.533</td>\n      <td>0.943</td>\n      <td>0.0584</td>\n      <td>0.1460</td>\n      <td>../mp3songs/Jump-Up_Drum_and_Bass/I Want Your ...</td>\n      <td>dnb</td>\n      <td>[0, 0, 0, 0, 1, 0, 0, 0, 0, 0, 0]</td>\n      <td>[-0.4580102860927582, -0.0642130970954895, 0.5...</td>\n    </tr>\n    <tr>\n      <th>107</th>\n      <td>groove_techno</td>\n      <td>5si5OPtVvV69chXMtaZkvk</td>\n      <td>Am I Drunk?</td>\n      <td>0iS9Zzud5hNvjx0wVfIVvd</td>\n      <td>Alfa Cornae</td>\n      <td>0.698</td>\n      <td>0.870</td>\n      <td>0.1490</td>\n      <td>0.4270</td>\n      <td>../mp3songs/Groove_Techno/Am I Drunk?.mp3</td>\n      <td>techno</td>\n      <td>[0, 0, 0, 0, 0, 0, 0, 0, 0, 0, 1]</td>\n      <td>[-0.9225215911865234, 0.028807833790779114, 0....</td>\n    </tr>\n    <tr>\n      <th>108</th>\n      <td>liquid_dnb</td>\n      <td>0cMx1KW8B0r9UOKLxCj5aR</td>\n      <td>No Sunset For Soul</td>\n      <td>2w5c2l70mYNDdSLifFyZjJ, 022EiWsch2zvty0qBUksDO</td>\n      <td>Monty, Liam Bailey</td>\n      <td>0.702</td>\n      <td>0.850</td>\n      <td>0.2660</td>\n      <td>0.1320</td>\n      <td>../mp3songs/Liquid_Drum_and_Bass/No Sunset For...</td>\n      <td>dnb</td>\n      <td>[0, 0, 0, 0, 0, 1, 0, 0, 0, 0, 0]</td>\n      <td>[-0.7950646877288818, -0.10124924778938293, 0....</td>\n    </tr>\n    <tr>\n      <th>109</th>\n      <td>hard_techno</td>\n      <td>19I6p2HpdJmHg5bbDWxnLX</td>\n      <td>Switch</td>\n      <td>4gF60Mys5KoWdQrf0bhRWq, 6wBqeigBUFAIAnPuBQl071</td>\n      <td>Luca Agnelli, PISAPIA (IT)</td>\n      <td>0.600</td>\n      <td>0.998</td>\n      <td>0.1460</td>\n      <td>0.0369</td>\n      <td>../mp3songs/HARD_TECHNO/Switch.mp3</td>\n      <td>techno</td>\n      <td>[0, 0, 1, 0, 0, 0, 0, 0, 0, 0, 0]</td>\n      <td>[-0.6094541549682617, -0.19779184460639954, 0....</td>\n    </tr>\n  </tbody>\n</table>\n<p>110 rows × 13 columns</p>\n</div>"
     },
     "execution_count": 19,
     "metadata": {},
     "output_type": "execute_result"
    }
   ],
   "source": [
    "df"
   ],
   "metadata": {
    "collapsed": false,
    "ExecuteTime": {
     "start_time": "2025-03-13T20:30:22.646972Z",
     "end_time": "2025-03-13T20:30:22.685571Z"
    }
   }
  },
  {
   "cell_type": "code",
   "execution_count": 20,
   "outputs": [
    {
     "name": "stderr",
     "output_type": "stream",
     "text": [
      "  0%|          | 0/110 [00:00<?, ?it/s]/Users/A117792292/anaconda3/envs/VGGish/lib/python3.10/site-packages/tensorflow/python/keras/engine/base_layer_v1.py:1694: UserWarning: `layer.apply` is deprecated and will be removed in a future version. Please use `layer.__call__` method instead.\n",
      "  warnings.warn('`layer.apply` is deprecated and '\n",
      "/Users/A117792292/anaconda3/envs/VGGish/lib/python3.10/site-packages/tensorflow/python/keras/legacy_tf_layers/core.py:318: UserWarning: `tf.layers.flatten` is deprecated and will be removed in a future version. Please use `tf.keras.layers.Flatten` instead.\n",
      "  warnings.warn('`tf.layers.flatten` is deprecated and '\n"
     ]
    },
    {
     "name": "stdout",
     "output_type": "stream",
     "text": [
      "INFO:tensorflow:Restoring parameters from fine_tuned_11_genres_EDM_with_val_softmax_vggish_model_batch_size_1.ckpt\n"
     ]
    },
    {
     "name": "stderr",
     "output_type": "stream",
     "text": [
      "  1%|          | 1/110 [00:01<02:57,  1.62s/it]"
     ]
    },
    {
     "name": "stdout",
     "output_type": "stream",
     "text": [
      "INFO:tensorflow:Restoring parameters from fine_tuned_11_genres_EDM_with_val_softmax_vggish_model_batch_size_1.ckpt\n"
     ]
    },
    {
     "name": "stderr",
     "output_type": "stream",
     "text": [
      "  2%|▏         | 2/110 [00:02<02:23,  1.33s/it]"
     ]
    },
    {
     "name": "stdout",
     "output_type": "stream",
     "text": [
      "INFO:tensorflow:Restoring parameters from fine_tuned_11_genres_EDM_with_val_softmax_vggish_model_batch_size_1.ckpt\n"
     ]
    },
    {
     "name": "stderr",
     "output_type": "stream",
     "text": [
      "  3%|▎         | 3/110 [00:03<02:09,  1.21s/it]"
     ]
    },
    {
     "name": "stdout",
     "output_type": "stream",
     "text": [
      "INFO:tensorflow:Restoring parameters from fine_tuned_11_genres_EDM_with_val_softmax_vggish_model_batch_size_1.ckpt\n"
     ]
    },
    {
     "name": "stderr",
     "output_type": "stream",
     "text": [
      "  4%|▎         | 4/110 [00:04<01:59,  1.13s/it]"
     ]
    },
    {
     "name": "stdout",
     "output_type": "stream",
     "text": [
      "INFO:tensorflow:Restoring parameters from fine_tuned_11_genres_EDM_with_val_softmax_vggish_model_batch_size_1.ckpt\n"
     ]
    },
    {
     "name": "stderr",
     "output_type": "stream",
     "text": [
      "  5%|▍         | 5/110 [00:05<01:58,  1.13s/it]"
     ]
    },
    {
     "name": "stdout",
     "output_type": "stream",
     "text": [
      "INFO:tensorflow:Restoring parameters from fine_tuned_11_genres_EDM_with_val_softmax_vggish_model_batch_size_1.ckpt\n"
     ]
    },
    {
     "name": "stderr",
     "output_type": "stream",
     "text": [
      "  5%|▌         | 6/110 [00:06<01:51,  1.07s/it]"
     ]
    },
    {
     "name": "stdout",
     "output_type": "stream",
     "text": [
      "INFO:tensorflow:Restoring parameters from fine_tuned_11_genres_EDM_with_val_softmax_vggish_model_batch_size_1.ckpt\n"
     ]
    },
    {
     "name": "stderr",
     "output_type": "stream",
     "text": [
      "  6%|▋         | 7/110 [00:07<01:46,  1.03s/it]"
     ]
    },
    {
     "name": "stdout",
     "output_type": "stream",
     "text": [
      "INFO:tensorflow:Restoring parameters from fine_tuned_11_genres_EDM_with_val_softmax_vggish_model_batch_size_1.ckpt\n"
     ]
    },
    {
     "name": "stderr",
     "output_type": "stream",
     "text": [
      "  7%|▋         | 8/110 [00:08<01:41,  1.00it/s]"
     ]
    },
    {
     "name": "stdout",
     "output_type": "stream",
     "text": [
      "INFO:tensorflow:Restoring parameters from fine_tuned_11_genres_EDM_with_val_softmax_vggish_model_batch_size_1.ckpt\n"
     ]
    },
    {
     "name": "stderr",
     "output_type": "stream",
     "text": [
      "  8%|▊         | 9/110 [00:09<01:37,  1.04it/s]"
     ]
    },
    {
     "name": "stdout",
     "output_type": "stream",
     "text": [
      "INFO:tensorflow:Restoring parameters from fine_tuned_11_genres_EDM_with_val_softmax_vggish_model_batch_size_1.ckpt\n"
     ]
    },
    {
     "name": "stderr",
     "output_type": "stream",
     "text": [
      "  9%|▉         | 10/110 [00:10<01:39,  1.00it/s]"
     ]
    },
    {
     "name": "stdout",
     "output_type": "stream",
     "text": [
      "Upserted batch 1 from: test_df_EDM.csv\n",
      "operation_id=0 status=<UpdateStatus.COMPLETED: 'completed'>\n",
      "Saved DataFrame with embeddings to: test_df_EDM.csv\n"
     ]
    },
    {
     "name": "stderr",
     "output_type": "stream",
     "text": [
      "/Users/A117792292/anaconda3/envs/VGGish/lib/python3.10/site-packages/tensorflow/python/keras/engine/base_layer_v1.py:1694: UserWarning: `layer.apply` is deprecated and will be removed in a future version. Please use `layer.__call__` method instead.\n",
      "  warnings.warn('`layer.apply` is deprecated and '\n",
      "/Users/A117792292/anaconda3/envs/VGGish/lib/python3.10/site-packages/tensorflow/python/keras/legacy_tf_layers/core.py:318: UserWarning: `tf.layers.flatten` is deprecated and will be removed in a future version. Please use `tf.keras.layers.Flatten` instead.\n",
      "  warnings.warn('`tf.layers.flatten` is deprecated and '\n"
     ]
    },
    {
     "name": "stdout",
     "output_type": "stream",
     "text": [
      "INFO:tensorflow:Restoring parameters from fine_tuned_11_genres_EDM_with_val_softmax_vggish_model_batch_size_1.ckpt\n"
     ]
    },
    {
     "name": "stderr",
     "output_type": "stream",
     "text": [
      " 10%|█         | 11/110 [00:11<01:36,  1.03it/s]"
     ]
    },
    {
     "name": "stdout",
     "output_type": "stream",
     "text": [
      "INFO:tensorflow:Restoring parameters from fine_tuned_11_genres_EDM_with_val_softmax_vggish_model_batch_size_1.ckpt\n"
     ]
    },
    {
     "name": "stderr",
     "output_type": "stream",
     "text": [
      " 11%|█         | 12/110 [00:12<01:32,  1.06it/s]"
     ]
    },
    {
     "name": "stdout",
     "output_type": "stream",
     "text": [
      "INFO:tensorflow:Restoring parameters from fine_tuned_11_genres_EDM_with_val_softmax_vggish_model_batch_size_1.ckpt\n"
     ]
    },
    {
     "name": "stderr",
     "output_type": "stream",
     "text": [
      " 12%|█▏        | 13/110 [00:13<01:30,  1.07it/s]"
     ]
    },
    {
     "name": "stdout",
     "output_type": "stream",
     "text": [
      "INFO:tensorflow:Restoring parameters from fine_tuned_11_genres_EDM_with_val_softmax_vggish_model_batch_size_1.ckpt\n"
     ]
    },
    {
     "name": "stderr",
     "output_type": "stream",
     "text": [
      " 13%|█▎        | 14/110 [00:14<01:30,  1.07it/s]"
     ]
    },
    {
     "name": "stdout",
     "output_type": "stream",
     "text": [
      "INFO:tensorflow:Restoring parameters from fine_tuned_11_genres_EDM_with_val_softmax_vggish_model_batch_size_1.ckpt\n"
     ]
    },
    {
     "name": "stderr",
     "output_type": "stream",
     "text": [
      " 14%|█▎        | 15/110 [00:15<01:28,  1.08it/s]"
     ]
    },
    {
     "name": "stdout",
     "output_type": "stream",
     "text": [
      "INFO:tensorflow:Restoring parameters from fine_tuned_11_genres_EDM_with_val_softmax_vggish_model_batch_size_1.ckpt\n"
     ]
    },
    {
     "name": "stderr",
     "output_type": "stream",
     "text": [
      " 15%|█▍        | 16/110 [00:16<01:26,  1.08it/s]"
     ]
    },
    {
     "name": "stdout",
     "output_type": "stream",
     "text": [
      "INFO:tensorflow:Restoring parameters from fine_tuned_11_genres_EDM_with_val_softmax_vggish_model_batch_size_1.ckpt\n"
     ]
    },
    {
     "name": "stderr",
     "output_type": "stream",
     "text": [
      " 15%|█▌        | 17/110 [00:17<01:25,  1.09it/s]"
     ]
    },
    {
     "name": "stdout",
     "output_type": "stream",
     "text": [
      "INFO:tensorflow:Restoring parameters from fine_tuned_11_genres_EDM_with_val_softmax_vggish_model_batch_size_1.ckpt\n"
     ]
    },
    {
     "name": "stderr",
     "output_type": "stream",
     "text": [
      " 16%|█▋        | 18/110 [00:18<01:23,  1.10it/s]"
     ]
    },
    {
     "name": "stdout",
     "output_type": "stream",
     "text": [
      "INFO:tensorflow:Restoring parameters from fine_tuned_11_genres_EDM_with_val_softmax_vggish_model_batch_size_1.ckpt\n"
     ]
    },
    {
     "name": "stderr",
     "output_type": "stream",
     "text": [
      " 17%|█▋        | 19/110 [00:18<01:22,  1.11it/s]"
     ]
    },
    {
     "name": "stdout",
     "output_type": "stream",
     "text": [
      "INFO:tensorflow:Restoring parameters from fine_tuned_11_genres_EDM_with_val_softmax_vggish_model_batch_size_1.ckpt\n"
     ]
    },
    {
     "name": "stderr",
     "output_type": "stream",
     "text": [
      " 18%|█▊        | 20/110 [00:20<01:26,  1.04it/s]"
     ]
    },
    {
     "name": "stdout",
     "output_type": "stream",
     "text": [
      "Upserted batch 2 from: test_df_EDM.csv\n",
      "operation_id=1 status=<UpdateStatus.COMPLETED: 'completed'>\n",
      "Saved DataFrame with embeddings to: test_df_EDM.csv\n"
     ]
    },
    {
     "name": "stderr",
     "output_type": "stream",
     "text": [
      "/Users/A117792292/anaconda3/envs/VGGish/lib/python3.10/site-packages/tensorflow/python/keras/engine/base_layer_v1.py:1694: UserWarning: `layer.apply` is deprecated and will be removed in a future version. Please use `layer.__call__` method instead.\n",
      "  warnings.warn('`layer.apply` is deprecated and '\n",
      "/Users/A117792292/anaconda3/envs/VGGish/lib/python3.10/site-packages/tensorflow/python/keras/legacy_tf_layers/core.py:318: UserWarning: `tf.layers.flatten` is deprecated and will be removed in a future version. Please use `tf.keras.layers.Flatten` instead.\n",
      "  warnings.warn('`tf.layers.flatten` is deprecated and '\n"
     ]
    },
    {
     "name": "stdout",
     "output_type": "stream",
     "text": [
      "INFO:tensorflow:Restoring parameters from fine_tuned_11_genres_EDM_with_val_softmax_vggish_model_batch_size_1.ckpt\n"
     ]
    },
    {
     "name": "stderr",
     "output_type": "stream",
     "text": [
      " 19%|█▉        | 21/110 [00:21<01:32,  1.04s/it]"
     ]
    },
    {
     "name": "stdout",
     "output_type": "stream",
     "text": [
      "INFO:tensorflow:Restoring parameters from fine_tuned_11_genres_EDM_with_val_softmax_vggish_model_batch_size_1.ckpt\n"
     ]
    },
    {
     "name": "stderr",
     "output_type": "stream",
     "text": [
      " 20%|██        | 22/110 [00:22<01:31,  1.04s/it]"
     ]
    },
    {
     "name": "stdout",
     "output_type": "stream",
     "text": [
      "INFO:tensorflow:Restoring parameters from fine_tuned_11_genres_EDM_with_val_softmax_vggish_model_batch_size_1.ckpt\n"
     ]
    },
    {
     "name": "stderr",
     "output_type": "stream",
     "text": [
      " 21%|██        | 23/110 [00:23<01:26,  1.00it/s]"
     ]
    },
    {
     "name": "stdout",
     "output_type": "stream",
     "text": [
      "INFO:tensorflow:Restoring parameters from fine_tuned_11_genres_EDM_with_val_softmax_vggish_model_batch_size_1.ckpt\n"
     ]
    },
    {
     "name": "stderr",
     "output_type": "stream",
     "text": [
      " 22%|██▏       | 24/110 [00:24<01:22,  1.04it/s]"
     ]
    },
    {
     "name": "stdout",
     "output_type": "stream",
     "text": [
      "INFO:tensorflow:Restoring parameters from fine_tuned_11_genres_EDM_with_val_softmax_vggish_model_batch_size_1.ckpt\n"
     ]
    },
    {
     "name": "stderr",
     "output_type": "stream",
     "text": [
      " 23%|██▎       | 25/110 [00:24<01:20,  1.05it/s]"
     ]
    },
    {
     "name": "stdout",
     "output_type": "stream",
     "text": [
      "INFO:tensorflow:Restoring parameters from fine_tuned_11_genres_EDM_with_val_softmax_vggish_model_batch_size_1.ckpt\n"
     ]
    },
    {
     "name": "stderr",
     "output_type": "stream",
     "text": [
      " 24%|██▎       | 26/110 [00:25<01:18,  1.07it/s]"
     ]
    },
    {
     "name": "stdout",
     "output_type": "stream",
     "text": [
      "INFO:tensorflow:Restoring parameters from fine_tuned_11_genres_EDM_with_val_softmax_vggish_model_batch_size_1.ckpt\n"
     ]
    },
    {
     "name": "stderr",
     "output_type": "stream",
     "text": [
      " 25%|██▍       | 27/110 [00:26<01:14,  1.12it/s]"
     ]
    },
    {
     "name": "stdout",
     "output_type": "stream",
     "text": [
      "INFO:tensorflow:Restoring parameters from fine_tuned_11_genres_EDM_with_val_softmax_vggish_model_batch_size_1.ckpt\n"
     ]
    },
    {
     "name": "stderr",
     "output_type": "stream",
     "text": [
      " 25%|██▌       | 28/110 [00:27<01:14,  1.09it/s]"
     ]
    },
    {
     "name": "stdout",
     "output_type": "stream",
     "text": [
      "INFO:tensorflow:Restoring parameters from fine_tuned_11_genres_EDM_with_val_softmax_vggish_model_batch_size_1.ckpt\n"
     ]
    },
    {
     "name": "stderr",
     "output_type": "stream",
     "text": [
      " 26%|██▋       | 29/110 [00:28<01:14,  1.09it/s]"
     ]
    },
    {
     "name": "stdout",
     "output_type": "stream",
     "text": [
      "INFO:tensorflow:Restoring parameters from fine_tuned_11_genres_EDM_with_val_softmax_vggish_model_batch_size_1.ckpt\n"
     ]
    },
    {
     "name": "stderr",
     "output_type": "stream",
     "text": [
      " 27%|██▋       | 30/110 [00:29<01:18,  1.02it/s]"
     ]
    },
    {
     "name": "stdout",
     "output_type": "stream",
     "text": [
      "Upserted batch 3 from: test_df_EDM.csv\n",
      "operation_id=2 status=<UpdateStatus.COMPLETED: 'completed'>\n",
      "Saved DataFrame with embeddings to: test_df_EDM.csv\n"
     ]
    },
    {
     "name": "stderr",
     "output_type": "stream",
     "text": [
      "/Users/A117792292/anaconda3/envs/VGGish/lib/python3.10/site-packages/tensorflow/python/keras/engine/base_layer_v1.py:1694: UserWarning: `layer.apply` is deprecated and will be removed in a future version. Please use `layer.__call__` method instead.\n",
      "  warnings.warn('`layer.apply` is deprecated and '\n",
      "/Users/A117792292/anaconda3/envs/VGGish/lib/python3.10/site-packages/tensorflow/python/keras/legacy_tf_layers/core.py:318: UserWarning: `tf.layers.flatten` is deprecated and will be removed in a future version. Please use `tf.keras.layers.Flatten` instead.\n",
      "  warnings.warn('`tf.layers.flatten` is deprecated and '\n"
     ]
    },
    {
     "name": "stdout",
     "output_type": "stream",
     "text": [
      "INFO:tensorflow:Restoring parameters from fine_tuned_11_genres_EDM_with_val_softmax_vggish_model_batch_size_1.ckpt\n"
     ]
    },
    {
     "name": "stderr",
     "output_type": "stream",
     "text": [
      " 28%|██▊       | 31/110 [00:30<01:19,  1.01s/it]"
     ]
    },
    {
     "name": "stdout",
     "output_type": "stream",
     "text": [
      "INFO:tensorflow:Restoring parameters from fine_tuned_11_genres_EDM_with_val_softmax_vggish_model_batch_size_1.ckpt\n"
     ]
    },
    {
     "name": "stderr",
     "output_type": "stream",
     "text": [
      " 29%|██▉       | 32/110 [00:31<01:18,  1.01s/it]"
     ]
    },
    {
     "name": "stdout",
     "output_type": "stream",
     "text": [
      "INFO:tensorflow:Restoring parameters from fine_tuned_11_genres_EDM_with_val_softmax_vggish_model_batch_size_1.ckpt\n"
     ]
    },
    {
     "name": "stderr",
     "output_type": "stream",
     "text": [
      " 30%|███       | 33/110 [00:32<01:18,  1.02s/it]"
     ]
    },
    {
     "name": "stdout",
     "output_type": "stream",
     "text": [
      "INFO:tensorflow:Restoring parameters from fine_tuned_11_genres_EDM_with_val_softmax_vggish_model_batch_size_1.ckpt\n"
     ]
    },
    {
     "name": "stderr",
     "output_type": "stream",
     "text": [
      " 31%|███       | 34/110 [00:33<01:15,  1.01it/s]"
     ]
    },
    {
     "name": "stdout",
     "output_type": "stream",
     "text": [
      "INFO:tensorflow:Restoring parameters from fine_tuned_11_genres_EDM_with_val_softmax_vggish_model_batch_size_1.ckpt\n"
     ]
    },
    {
     "name": "stderr",
     "output_type": "stream",
     "text": [
      " 32%|███▏      | 35/110 [00:34<01:12,  1.04it/s]"
     ]
    },
    {
     "name": "stdout",
     "output_type": "stream",
     "text": [
      "INFO:tensorflow:Restoring parameters from fine_tuned_11_genres_EDM_with_val_softmax_vggish_model_batch_size_1.ckpt\n"
     ]
    },
    {
     "name": "stderr",
     "output_type": "stream",
     "text": [
      " 33%|███▎      | 36/110 [00:35<01:11,  1.04it/s]"
     ]
    },
    {
     "name": "stdout",
     "output_type": "stream",
     "text": [
      "INFO:tensorflow:Restoring parameters from fine_tuned_11_genres_EDM_with_val_softmax_vggish_model_batch_size_1.ckpt\n"
     ]
    },
    {
     "name": "stderr",
     "output_type": "stream",
     "text": [
      " 34%|███▎      | 37/110 [00:36<01:10,  1.04it/s]"
     ]
    },
    {
     "name": "stdout",
     "output_type": "stream",
     "text": [
      "INFO:tensorflow:Restoring parameters from fine_tuned_11_genres_EDM_with_val_softmax_vggish_model_batch_size_1.ckpt\n"
     ]
    },
    {
     "name": "stderr",
     "output_type": "stream",
     "text": [
      " 35%|███▍      | 38/110 [00:37<01:09,  1.04it/s]"
     ]
    },
    {
     "name": "stdout",
     "output_type": "stream",
     "text": [
      "INFO:tensorflow:Restoring parameters from fine_tuned_11_genres_EDM_with_val_softmax_vggish_model_batch_size_1.ckpt\n"
     ]
    },
    {
     "name": "stderr",
     "output_type": "stream",
     "text": [
      " 35%|███▌      | 39/110 [00:38<01:09,  1.03it/s]"
     ]
    },
    {
     "name": "stdout",
     "output_type": "stream",
     "text": [
      "INFO:tensorflow:Restoring parameters from fine_tuned_11_genres_EDM_with_val_softmax_vggish_model_batch_size_1.ckpt\n"
     ]
    },
    {
     "name": "stderr",
     "output_type": "stream",
     "text": [
      " 36%|███▋      | 40/110 [00:39<01:13,  1.04s/it]"
     ]
    },
    {
     "name": "stdout",
     "output_type": "stream",
     "text": [
      "Upserted batch 4 from: test_df_EDM.csv\n",
      "operation_id=3 status=<UpdateStatus.COMPLETED: 'completed'>\n",
      "Saved DataFrame with embeddings to: test_df_EDM.csv\n"
     ]
    },
    {
     "name": "stderr",
     "output_type": "stream",
     "text": [
      "/Users/A117792292/anaconda3/envs/VGGish/lib/python3.10/site-packages/tensorflow/python/keras/engine/base_layer_v1.py:1694: UserWarning: `layer.apply` is deprecated and will be removed in a future version. Please use `layer.__call__` method instead.\n",
      "  warnings.warn('`layer.apply` is deprecated and '\n",
      "/Users/A117792292/anaconda3/envs/VGGish/lib/python3.10/site-packages/tensorflow/python/keras/legacy_tf_layers/core.py:318: UserWarning: `tf.layers.flatten` is deprecated and will be removed in a future version. Please use `tf.keras.layers.Flatten` instead.\n",
      "  warnings.warn('`tf.layers.flatten` is deprecated and '\n"
     ]
    },
    {
     "name": "stdout",
     "output_type": "stream",
     "text": [
      "INFO:tensorflow:Restoring parameters from fine_tuned_11_genres_EDM_with_val_softmax_vggish_model_batch_size_1.ckpt\n"
     ]
    },
    {
     "name": "stderr",
     "output_type": "stream",
     "text": [
      " 37%|███▋      | 41/110 [00:40<01:09,  1.01s/it]"
     ]
    },
    {
     "name": "stdout",
     "output_type": "stream",
     "text": [
      "INFO:tensorflow:Restoring parameters from fine_tuned_11_genres_EDM_with_val_softmax_vggish_model_batch_size_1.ckpt\n"
     ]
    },
    {
     "name": "stderr",
     "output_type": "stream",
     "text": [
      " 38%|███▊      | 42/110 [00:41<01:07,  1.01it/s]"
     ]
    },
    {
     "name": "stdout",
     "output_type": "stream",
     "text": [
      "INFO:tensorflow:Restoring parameters from fine_tuned_11_genres_EDM_with_val_softmax_vggish_model_batch_size_1.ckpt\n"
     ]
    },
    {
     "name": "stderr",
     "output_type": "stream",
     "text": [
      " 39%|███▉      | 43/110 [00:42<01:05,  1.02it/s]"
     ]
    },
    {
     "name": "stdout",
     "output_type": "stream",
     "text": [
      "INFO:tensorflow:Restoring parameters from fine_tuned_11_genres_EDM_with_val_softmax_vggish_model_batch_size_1.ckpt\n"
     ]
    },
    {
     "name": "stderr",
     "output_type": "stream",
     "text": [
      " 40%|████      | 44/110 [00:43<01:03,  1.03it/s]"
     ]
    },
    {
     "name": "stdout",
     "output_type": "stream",
     "text": [
      "INFO:tensorflow:Restoring parameters from fine_tuned_11_genres_EDM_with_val_softmax_vggish_model_batch_size_1.ckpt\n"
     ]
    },
    {
     "name": "stderr",
     "output_type": "stream",
     "text": [
      " 41%|████      | 45/110 [00:44<01:01,  1.06it/s]"
     ]
    },
    {
     "name": "stdout",
     "output_type": "stream",
     "text": [
      "INFO:tensorflow:Restoring parameters from fine_tuned_11_genres_EDM_with_val_softmax_vggish_model_batch_size_1.ckpt\n"
     ]
    },
    {
     "name": "stderr",
     "output_type": "stream",
     "text": [
      " 42%|████▏     | 46/110 [00:45<01:00,  1.07it/s]"
     ]
    },
    {
     "name": "stdout",
     "output_type": "stream",
     "text": [
      "INFO:tensorflow:Restoring parameters from fine_tuned_11_genres_EDM_with_val_softmax_vggish_model_batch_size_1.ckpt\n"
     ]
    },
    {
     "name": "stderr",
     "output_type": "stream",
     "text": [
      " 43%|████▎     | 47/110 [00:46<00:58,  1.07it/s]"
     ]
    },
    {
     "name": "stdout",
     "output_type": "stream",
     "text": [
      "INFO:tensorflow:Restoring parameters from fine_tuned_11_genres_EDM_with_val_softmax_vggish_model_batch_size_1.ckpt\n"
     ]
    },
    {
     "name": "stderr",
     "output_type": "stream",
     "text": [
      " 44%|████▎     | 48/110 [00:47<00:58,  1.07it/s]"
     ]
    },
    {
     "name": "stdout",
     "output_type": "stream",
     "text": [
      "INFO:tensorflow:Restoring parameters from fine_tuned_11_genres_EDM_with_val_softmax_vggish_model_batch_size_1.ckpt\n"
     ]
    },
    {
     "name": "stderr",
     "output_type": "stream",
     "text": [
      " 45%|████▍     | 49/110 [00:48<01:00,  1.01it/s]"
     ]
    },
    {
     "name": "stdout",
     "output_type": "stream",
     "text": [
      "INFO:tensorflow:Restoring parameters from fine_tuned_11_genres_EDM_with_val_softmax_vggish_model_batch_size_1.ckpt\n"
     ]
    },
    {
     "name": "stderr",
     "output_type": "stream",
     "text": [
      " 45%|████▌     | 50/110 [00:49<01:06,  1.10s/it]"
     ]
    },
    {
     "name": "stdout",
     "output_type": "stream",
     "text": [
      "Upserted batch 5 from: test_df_EDM.csv\n",
      "operation_id=4 status=<UpdateStatus.COMPLETED: 'completed'>\n",
      "Saved DataFrame with embeddings to: test_df_EDM.csv\n"
     ]
    },
    {
     "name": "stderr",
     "output_type": "stream",
     "text": [
      "/Users/A117792292/anaconda3/envs/VGGish/lib/python3.10/site-packages/tensorflow/python/keras/engine/base_layer_v1.py:1694: UserWarning: `layer.apply` is deprecated and will be removed in a future version. Please use `layer.__call__` method instead.\n",
      "  warnings.warn('`layer.apply` is deprecated and '\n",
      "/Users/A117792292/anaconda3/envs/VGGish/lib/python3.10/site-packages/tensorflow/python/keras/legacy_tf_layers/core.py:318: UserWarning: `tf.layers.flatten` is deprecated and will be removed in a future version. Please use `tf.keras.layers.Flatten` instead.\n",
      "  warnings.warn('`tf.layers.flatten` is deprecated and '\n"
     ]
    },
    {
     "name": "stdout",
     "output_type": "stream",
     "text": [
      "INFO:tensorflow:Restoring parameters from fine_tuned_11_genres_EDM_with_val_softmax_vggish_model_batch_size_1.ckpt\n"
     ]
    },
    {
     "name": "stderr",
     "output_type": "stream",
     "text": [
      " 46%|████▋     | 51/110 [00:50<01:03,  1.08s/it]"
     ]
    },
    {
     "name": "stdout",
     "output_type": "stream",
     "text": [
      "INFO:tensorflow:Restoring parameters from fine_tuned_11_genres_EDM_with_val_softmax_vggish_model_batch_size_1.ckpt\n"
     ]
    },
    {
     "name": "stderr",
     "output_type": "stream",
     "text": [
      " 47%|████▋     | 52/110 [00:51<01:01,  1.06s/it]"
     ]
    },
    {
     "name": "stdout",
     "output_type": "stream",
     "text": [
      "INFO:tensorflow:Restoring parameters from fine_tuned_11_genres_EDM_with_val_softmax_vggish_model_batch_size_1.ckpt\n"
     ]
    },
    {
     "name": "stderr",
     "output_type": "stream",
     "text": [
      " 48%|████▊     | 53/110 [00:52<00:57,  1.02s/it]"
     ]
    },
    {
     "name": "stdout",
     "output_type": "stream",
     "text": [
      "INFO:tensorflow:Restoring parameters from fine_tuned_11_genres_EDM_with_val_softmax_vggish_model_batch_size_1.ckpt\n"
     ]
    },
    {
     "name": "stderr",
     "output_type": "stream",
     "text": [
      " 49%|████▉     | 54/110 [00:53<00:54,  1.03it/s]"
     ]
    },
    {
     "name": "stdout",
     "output_type": "stream",
     "text": [
      "INFO:tensorflow:Restoring parameters from fine_tuned_11_genres_EDM_with_val_softmax_vggish_model_batch_size_1.ckpt\n"
     ]
    },
    {
     "name": "stderr",
     "output_type": "stream",
     "text": [
      " 50%|█████     | 55/110 [00:56<01:22,  1.50s/it]"
     ]
    },
    {
     "name": "stdout",
     "output_type": "stream",
     "text": [
      "INFO:tensorflow:Restoring parameters from fine_tuned_11_genres_EDM_with_val_softmax_vggish_model_batch_size_1.ckpt\n"
     ]
    },
    {
     "name": "stderr",
     "output_type": "stream",
     "text": [
      " 51%|█████     | 56/110 [00:57<01:11,  1.32s/it]"
     ]
    },
    {
     "name": "stdout",
     "output_type": "stream",
     "text": [
      "INFO:tensorflow:Restoring parameters from fine_tuned_11_genres_EDM_with_val_softmax_vggish_model_batch_size_1.ckpt\n"
     ]
    },
    {
     "name": "stderr",
     "output_type": "stream",
     "text": [
      " 52%|█████▏    | 57/110 [00:57<01:02,  1.18s/it]"
     ]
    },
    {
     "name": "stdout",
     "output_type": "stream",
     "text": [
      "INFO:tensorflow:Restoring parameters from fine_tuned_11_genres_EDM_with_val_softmax_vggish_model_batch_size_1.ckpt\n"
     ]
    },
    {
     "name": "stderr",
     "output_type": "stream",
     "text": [
      " 53%|█████▎    | 58/110 [00:58<00:56,  1.09s/it]"
     ]
    },
    {
     "name": "stdout",
     "output_type": "stream",
     "text": [
      "INFO:tensorflow:Restoring parameters from fine_tuned_11_genres_EDM_with_val_softmax_vggish_model_batch_size_1.ckpt\n"
     ]
    },
    {
     "name": "stderr",
     "output_type": "stream",
     "text": [
      " 54%|█████▎    | 59/110 [00:59<00:52,  1.02s/it]"
     ]
    },
    {
     "name": "stdout",
     "output_type": "stream",
     "text": [
      "INFO:tensorflow:Restoring parameters from fine_tuned_11_genres_EDM_with_val_softmax_vggish_model_batch_size_1.ckpt\n"
     ]
    },
    {
     "name": "stderr",
     "output_type": "stream",
     "text": [
      " 55%|█████▍    | 60/110 [01:00<00:52,  1.04s/it]"
     ]
    },
    {
     "name": "stdout",
     "output_type": "stream",
     "text": [
      "Upserted batch 6 from: test_df_EDM.csv\n",
      "operation_id=5 status=<UpdateStatus.COMPLETED: 'completed'>\n",
      "Saved DataFrame with embeddings to: test_df_EDM.csv\n"
     ]
    },
    {
     "name": "stderr",
     "output_type": "stream",
     "text": [
      "/Users/A117792292/anaconda3/envs/VGGish/lib/python3.10/site-packages/tensorflow/python/keras/engine/base_layer_v1.py:1694: UserWarning: `layer.apply` is deprecated and will be removed in a future version. Please use `layer.__call__` method instead.\n",
      "  warnings.warn('`layer.apply` is deprecated and '\n",
      "/Users/A117792292/anaconda3/envs/VGGish/lib/python3.10/site-packages/tensorflow/python/keras/legacy_tf_layers/core.py:318: UserWarning: `tf.layers.flatten` is deprecated and will be removed in a future version. Please use `tf.keras.layers.Flatten` instead.\n",
      "  warnings.warn('`tf.layers.flatten` is deprecated and '\n"
     ]
    },
    {
     "name": "stdout",
     "output_type": "stream",
     "text": [
      "INFO:tensorflow:Restoring parameters from fine_tuned_11_genres_EDM_with_val_softmax_vggish_model_batch_size_1.ckpt\n"
     ]
    },
    {
     "name": "stderr",
     "output_type": "stream",
     "text": [
      " 55%|█████▌    | 61/110 [01:01<00:49,  1.01s/it]"
     ]
    },
    {
     "name": "stdout",
     "output_type": "stream",
     "text": [
      "INFO:tensorflow:Restoring parameters from fine_tuned_11_genres_EDM_with_val_softmax_vggish_model_batch_size_1.ckpt\n"
     ]
    },
    {
     "name": "stderr",
     "output_type": "stream",
     "text": [
      " 56%|█████▋    | 62/110 [01:02<00:46,  1.03it/s]"
     ]
    },
    {
     "name": "stdout",
     "output_type": "stream",
     "text": [
      "INFO:tensorflow:Restoring parameters from fine_tuned_11_genres_EDM_with_val_softmax_vggish_model_batch_size_1.ckpt\n"
     ]
    },
    {
     "name": "stderr",
     "output_type": "stream",
     "text": [
      " 57%|█████▋    | 63/110 [01:03<00:42,  1.10it/s]"
     ]
    },
    {
     "name": "stdout",
     "output_type": "stream",
     "text": [
      "INFO:tensorflow:Restoring parameters from fine_tuned_11_genres_EDM_with_val_softmax_vggish_model_batch_size_1.ckpt\n"
     ]
    },
    {
     "name": "stderr",
     "output_type": "stream",
     "text": [
      " 58%|█████▊    | 64/110 [01:04<00:41,  1.10it/s]"
     ]
    },
    {
     "name": "stdout",
     "output_type": "stream",
     "text": [
      "INFO:tensorflow:Restoring parameters from fine_tuned_11_genres_EDM_with_val_softmax_vggish_model_batch_size_1.ckpt\n"
     ]
    },
    {
     "name": "stderr",
     "output_type": "stream",
     "text": [
      " 59%|█████▉    | 65/110 [01:05<00:40,  1.11it/s]"
     ]
    },
    {
     "name": "stdout",
     "output_type": "stream",
     "text": [
      "INFO:tensorflow:Restoring parameters from fine_tuned_11_genres_EDM_with_val_softmax_vggish_model_batch_size_1.ckpt\n"
     ]
    },
    {
     "name": "stderr",
     "output_type": "stream",
     "text": [
      " 60%|██████    | 66/110 [01:06<00:40,  1.09it/s]"
     ]
    },
    {
     "name": "stdout",
     "output_type": "stream",
     "text": [
      "INFO:tensorflow:Restoring parameters from fine_tuned_11_genres_EDM_with_val_softmax_vggish_model_batch_size_1.ckpt\n"
     ]
    },
    {
     "name": "stderr",
     "output_type": "stream",
     "text": [
      " 61%|██████    | 67/110 [01:07<00:39,  1.08it/s]"
     ]
    },
    {
     "name": "stdout",
     "output_type": "stream",
     "text": [
      "INFO:tensorflow:Restoring parameters from fine_tuned_11_genres_EDM_with_val_softmax_vggish_model_batch_size_1.ckpt\n"
     ]
    },
    {
     "name": "stderr",
     "output_type": "stream",
     "text": [
      " 62%|██████▏   | 68/110 [01:07<00:38,  1.09it/s]"
     ]
    },
    {
     "name": "stdout",
     "output_type": "stream",
     "text": [
      "INFO:tensorflow:Restoring parameters from fine_tuned_11_genres_EDM_with_val_softmax_vggish_model_batch_size_1.ckpt\n"
     ]
    },
    {
     "name": "stderr",
     "output_type": "stream",
     "text": [
      " 63%|██████▎   | 69/110 [01:08<00:36,  1.11it/s]"
     ]
    },
    {
     "name": "stdout",
     "output_type": "stream",
     "text": [
      "INFO:tensorflow:Restoring parameters from fine_tuned_11_genres_EDM_with_val_softmax_vggish_model_batch_size_1.ckpt\n"
     ]
    },
    {
     "name": "stderr",
     "output_type": "stream",
     "text": [
      " 64%|██████▎   | 70/110 [01:09<00:38,  1.04it/s]"
     ]
    },
    {
     "name": "stdout",
     "output_type": "stream",
     "text": [
      "Upserted batch 7 from: test_df_EDM.csv\n",
      "operation_id=6 status=<UpdateStatus.COMPLETED: 'completed'>\n",
      "Saved DataFrame with embeddings to: test_df_EDM.csv\n"
     ]
    },
    {
     "name": "stderr",
     "output_type": "stream",
     "text": [
      "/Users/A117792292/anaconda3/envs/VGGish/lib/python3.10/site-packages/tensorflow/python/keras/engine/base_layer_v1.py:1694: UserWarning: `layer.apply` is deprecated and will be removed in a future version. Please use `layer.__call__` method instead.\n",
      "  warnings.warn('`layer.apply` is deprecated and '\n",
      "/Users/A117792292/anaconda3/envs/VGGish/lib/python3.10/site-packages/tensorflow/python/keras/legacy_tf_layers/core.py:318: UserWarning: `tf.layers.flatten` is deprecated and will be removed in a future version. Please use `tf.keras.layers.Flatten` instead.\n",
      "  warnings.warn('`tf.layers.flatten` is deprecated and '\n"
     ]
    },
    {
     "name": "stdout",
     "output_type": "stream",
     "text": [
      "INFO:tensorflow:Restoring parameters from fine_tuned_11_genres_EDM_with_val_softmax_vggish_model_batch_size_1.ckpt\n"
     ]
    },
    {
     "name": "stderr",
     "output_type": "stream",
     "text": [
      " 65%|██████▍   | 71/110 [01:10<00:37,  1.04it/s]"
     ]
    },
    {
     "name": "stdout",
     "output_type": "stream",
     "text": [
      "INFO:tensorflow:Restoring parameters from fine_tuned_11_genres_EDM_with_val_softmax_vggish_model_batch_size_1.ckpt\n"
     ]
    },
    {
     "name": "stderr",
     "output_type": "stream",
     "text": [
      " 65%|██████▌   | 72/110 [01:11<00:35,  1.06it/s]"
     ]
    },
    {
     "name": "stdout",
     "output_type": "stream",
     "text": [
      "INFO:tensorflow:Restoring parameters from fine_tuned_11_genres_EDM_with_val_softmax_vggish_model_batch_size_1.ckpt\n"
     ]
    },
    {
     "name": "stderr",
     "output_type": "stream",
     "text": [
      " 66%|██████▋   | 73/110 [01:12<00:34,  1.06it/s]"
     ]
    },
    {
     "name": "stdout",
     "output_type": "stream",
     "text": [
      "INFO:tensorflow:Restoring parameters from fine_tuned_11_genres_EDM_with_val_softmax_vggish_model_batch_size_1.ckpt\n"
     ]
    },
    {
     "name": "stderr",
     "output_type": "stream",
     "text": [
      " 67%|██████▋   | 74/110 [01:13<00:33,  1.07it/s]"
     ]
    },
    {
     "name": "stdout",
     "output_type": "stream",
     "text": [
      "INFO:tensorflow:Restoring parameters from fine_tuned_11_genres_EDM_with_val_softmax_vggish_model_batch_size_1.ckpt\n"
     ]
    },
    {
     "name": "stderr",
     "output_type": "stream",
     "text": [
      " 68%|██████▊   | 75/110 [01:14<00:32,  1.08it/s]"
     ]
    },
    {
     "name": "stdout",
     "output_type": "stream",
     "text": [
      "INFO:tensorflow:Restoring parameters from fine_tuned_11_genres_EDM_with_val_softmax_vggish_model_batch_size_1.ckpt\n"
     ]
    },
    {
     "name": "stderr",
     "output_type": "stream",
     "text": [
      " 69%|██████▉   | 76/110 [01:15<00:32,  1.06it/s]"
     ]
    },
    {
     "name": "stdout",
     "output_type": "stream",
     "text": [
      "INFO:tensorflow:Restoring parameters from fine_tuned_11_genres_EDM_with_val_softmax_vggish_model_batch_size_1.ckpt\n"
     ]
    },
    {
     "name": "stderr",
     "output_type": "stream",
     "text": [
      " 70%|███████   | 77/110 [01:16<00:30,  1.07it/s]"
     ]
    },
    {
     "name": "stdout",
     "output_type": "stream",
     "text": [
      "INFO:tensorflow:Restoring parameters from fine_tuned_11_genres_EDM_with_val_softmax_vggish_model_batch_size_1.ckpt\n"
     ]
    },
    {
     "name": "stderr",
     "output_type": "stream",
     "text": [
      " 71%|███████   | 78/110 [01:17<00:30,  1.07it/s]"
     ]
    },
    {
     "name": "stdout",
     "output_type": "stream",
     "text": [
      "INFO:tensorflow:Restoring parameters from fine_tuned_11_genres_EDM_with_val_softmax_vggish_model_batch_size_1.ckpt\n"
     ]
    },
    {
     "name": "stderr",
     "output_type": "stream",
     "text": [
      " 72%|███████▏  | 79/110 [01:18<00:28,  1.09it/s]"
     ]
    },
    {
     "name": "stdout",
     "output_type": "stream",
     "text": [
      "INFO:tensorflow:Restoring parameters from fine_tuned_11_genres_EDM_with_val_softmax_vggish_model_batch_size_1.ckpt\n"
     ]
    },
    {
     "name": "stderr",
     "output_type": "stream",
     "text": [
      " 73%|███████▎  | 80/110 [01:19<00:29,  1.02it/s]"
     ]
    },
    {
     "name": "stdout",
     "output_type": "stream",
     "text": [
      "Upserted batch 8 from: test_df_EDM.csv\n",
      "operation_id=7 status=<UpdateStatus.COMPLETED: 'completed'>\n",
      "Saved DataFrame with embeddings to: test_df_EDM.csv\n"
     ]
    },
    {
     "name": "stderr",
     "output_type": "stream",
     "text": [
      "/Users/A117792292/anaconda3/envs/VGGish/lib/python3.10/site-packages/tensorflow/python/keras/engine/base_layer_v1.py:1694: UserWarning: `layer.apply` is deprecated and will be removed in a future version. Please use `layer.__call__` method instead.\n",
      "  warnings.warn('`layer.apply` is deprecated and '\n",
      "/Users/A117792292/anaconda3/envs/VGGish/lib/python3.10/site-packages/tensorflow/python/keras/legacy_tf_layers/core.py:318: UserWarning: `tf.layers.flatten` is deprecated and will be removed in a future version. Please use `tf.keras.layers.Flatten` instead.\n",
      "  warnings.warn('`tf.layers.flatten` is deprecated and '\n"
     ]
    },
    {
     "name": "stdout",
     "output_type": "stream",
     "text": [
      "INFO:tensorflow:Restoring parameters from fine_tuned_11_genres_EDM_with_val_softmax_vggish_model_batch_size_1.ckpt\n"
     ]
    },
    {
     "name": "stderr",
     "output_type": "stream",
     "text": [
      " 74%|███████▎  | 81/110 [01:20<00:27,  1.04it/s]"
     ]
    },
    {
     "name": "stdout",
     "output_type": "stream",
     "text": [
      "INFO:tensorflow:Restoring parameters from fine_tuned_11_genres_EDM_with_val_softmax_vggish_model_batch_size_1.ckpt\n"
     ]
    },
    {
     "name": "stderr",
     "output_type": "stream",
     "text": [
      " 75%|███████▍  | 82/110 [01:21<00:26,  1.05it/s]"
     ]
    },
    {
     "name": "stdout",
     "output_type": "stream",
     "text": [
      "INFO:tensorflow:Restoring parameters from fine_tuned_11_genres_EDM_with_val_softmax_vggish_model_batch_size_1.ckpt\n"
     ]
    },
    {
     "name": "stderr",
     "output_type": "stream",
     "text": [
      " 75%|███████▌  | 83/110 [01:22<00:25,  1.08it/s]"
     ]
    },
    {
     "name": "stdout",
     "output_type": "stream",
     "text": [
      "INFO:tensorflow:Restoring parameters from fine_tuned_11_genres_EDM_with_val_softmax_vggish_model_batch_size_1.ckpt\n"
     ]
    },
    {
     "name": "stderr",
     "output_type": "stream",
     "text": [
      " 76%|███████▋  | 84/110 [01:23<00:23,  1.08it/s]"
     ]
    },
    {
     "name": "stdout",
     "output_type": "stream",
     "text": [
      "INFO:tensorflow:Restoring parameters from fine_tuned_11_genres_EDM_with_val_softmax_vggish_model_batch_size_1.ckpt\n"
     ]
    },
    {
     "name": "stderr",
     "output_type": "stream",
     "text": [
      " 77%|███████▋  | 85/110 [01:23<00:22,  1.10it/s]"
     ]
    },
    {
     "name": "stdout",
     "output_type": "stream",
     "text": [
      "INFO:tensorflow:Restoring parameters from fine_tuned_11_genres_EDM_with_val_softmax_vggish_model_batch_size_1.ckpt\n"
     ]
    },
    {
     "name": "stderr",
     "output_type": "stream",
     "text": [
      " 78%|███████▊  | 86/110 [01:24<00:21,  1.10it/s]"
     ]
    },
    {
     "name": "stdout",
     "output_type": "stream",
     "text": [
      "INFO:tensorflow:Restoring parameters from fine_tuned_11_genres_EDM_with_val_softmax_vggish_model_batch_size_1.ckpt\n"
     ]
    },
    {
     "name": "stderr",
     "output_type": "stream",
     "text": [
      " 79%|███████▉  | 87/110 [01:25<00:20,  1.11it/s]"
     ]
    },
    {
     "name": "stdout",
     "output_type": "stream",
     "text": [
      "INFO:tensorflow:Restoring parameters from fine_tuned_11_genres_EDM_with_val_softmax_vggish_model_batch_size_1.ckpt\n"
     ]
    },
    {
     "name": "stderr",
     "output_type": "stream",
     "text": [
      " 80%|████████  | 88/110 [01:26<00:19,  1.10it/s]"
     ]
    },
    {
     "name": "stdout",
     "output_type": "stream",
     "text": [
      "INFO:tensorflow:Restoring parameters from fine_tuned_11_genres_EDM_with_val_softmax_vggish_model_batch_size_1.ckpt\n"
     ]
    },
    {
     "name": "stderr",
     "output_type": "stream",
     "text": [
      " 81%|████████  | 89/110 [01:27<00:19,  1.07it/s]"
     ]
    },
    {
     "name": "stdout",
     "output_type": "stream",
     "text": [
      "INFO:tensorflow:Restoring parameters from fine_tuned_11_genres_EDM_with_val_softmax_vggish_model_batch_size_1.ckpt\n"
     ]
    },
    {
     "name": "stderr",
     "output_type": "stream",
     "text": [
      " 82%|████████▏ | 90/110 [01:28<00:19,  1.00it/s]"
     ]
    },
    {
     "name": "stdout",
     "output_type": "stream",
     "text": [
      "Upserted batch 9 from: test_df_EDM.csv\n",
      "operation_id=8 status=<UpdateStatus.COMPLETED: 'completed'>\n",
      "Saved DataFrame with embeddings to: test_df_EDM.csv\n"
     ]
    },
    {
     "name": "stderr",
     "output_type": "stream",
     "text": [
      "/Users/A117792292/anaconda3/envs/VGGish/lib/python3.10/site-packages/tensorflow/python/keras/engine/base_layer_v1.py:1694: UserWarning: `layer.apply` is deprecated and will be removed in a future version. Please use `layer.__call__` method instead.\n",
      "  warnings.warn('`layer.apply` is deprecated and '\n",
      "/Users/A117792292/anaconda3/envs/VGGish/lib/python3.10/site-packages/tensorflow/python/keras/legacy_tf_layers/core.py:318: UserWarning: `tf.layers.flatten` is deprecated and will be removed in a future version. Please use `tf.keras.layers.Flatten` instead.\n",
      "  warnings.warn('`tf.layers.flatten` is deprecated and '\n"
     ]
    },
    {
     "name": "stdout",
     "output_type": "stream",
     "text": [
      "INFO:tensorflow:Restoring parameters from fine_tuned_11_genres_EDM_with_val_softmax_vggish_model_batch_size_1.ckpt\n"
     ]
    },
    {
     "name": "stderr",
     "output_type": "stream",
     "text": [
      " 83%|████████▎ | 91/110 [01:29<00:18,  1.02it/s]"
     ]
    },
    {
     "name": "stdout",
     "output_type": "stream",
     "text": [
      "INFO:tensorflow:Restoring parameters from fine_tuned_11_genres_EDM_with_val_softmax_vggish_model_batch_size_1.ckpt\n"
     ]
    },
    {
     "name": "stderr",
     "output_type": "stream",
     "text": [
      " 84%|████████▎ | 92/110 [01:30<00:17,  1.06it/s]"
     ]
    },
    {
     "name": "stdout",
     "output_type": "stream",
     "text": [
      "INFO:tensorflow:Restoring parameters from fine_tuned_11_genres_EDM_with_val_softmax_vggish_model_batch_size_1.ckpt\n"
     ]
    },
    {
     "name": "stderr",
     "output_type": "stream",
     "text": [
      " 85%|████████▍ | 93/110 [01:31<00:15,  1.07it/s]"
     ]
    },
    {
     "name": "stdout",
     "output_type": "stream",
     "text": [
      "INFO:tensorflow:Restoring parameters from fine_tuned_11_genres_EDM_with_val_softmax_vggish_model_batch_size_1.ckpt\n"
     ]
    },
    {
     "name": "stderr",
     "output_type": "stream",
     "text": [
      " 85%|████████▌ | 94/110 [01:32<00:14,  1.10it/s]"
     ]
    },
    {
     "name": "stdout",
     "output_type": "stream",
     "text": [
      "INFO:tensorflow:Restoring parameters from fine_tuned_11_genres_EDM_with_val_softmax_vggish_model_batch_size_1.ckpt\n"
     ]
    },
    {
     "name": "stderr",
     "output_type": "stream",
     "text": [
      " 86%|████████▋ | 95/110 [01:33<00:13,  1.11it/s]"
     ]
    },
    {
     "name": "stdout",
     "output_type": "stream",
     "text": [
      "INFO:tensorflow:Restoring parameters from fine_tuned_11_genres_EDM_with_val_softmax_vggish_model_batch_size_1.ckpt\n"
     ]
    },
    {
     "name": "stderr",
     "output_type": "stream",
     "text": [
      " 87%|████████▋ | 96/110 [01:34<00:12,  1.12it/s]"
     ]
    },
    {
     "name": "stdout",
     "output_type": "stream",
     "text": [
      "INFO:tensorflow:Restoring parameters from fine_tuned_11_genres_EDM_with_val_softmax_vggish_model_batch_size_1.ckpt\n"
     ]
    },
    {
     "name": "stderr",
     "output_type": "stream",
     "text": [
      " 88%|████████▊ | 97/110 [01:35<00:11,  1.10it/s]"
     ]
    },
    {
     "name": "stdout",
     "output_type": "stream",
     "text": [
      "INFO:tensorflow:Restoring parameters from fine_tuned_11_genres_EDM_with_val_softmax_vggish_model_batch_size_1.ckpt\n"
     ]
    },
    {
     "name": "stderr",
     "output_type": "stream",
     "text": [
      " 89%|████████▉ | 98/110 [01:35<00:10,  1.10it/s]"
     ]
    },
    {
     "name": "stdout",
     "output_type": "stream",
     "text": [
      "INFO:tensorflow:Restoring parameters from fine_tuned_11_genres_EDM_with_val_softmax_vggish_model_batch_size_1.ckpt\n"
     ]
    },
    {
     "name": "stderr",
     "output_type": "stream",
     "text": [
      " 90%|█████████ | 99/110 [01:36<00:09,  1.11it/s]"
     ]
    },
    {
     "name": "stdout",
     "output_type": "stream",
     "text": [
      "INFO:tensorflow:Restoring parameters from fine_tuned_11_genres_EDM_with_val_softmax_vggish_model_batch_size_1.ckpt\n"
     ]
    },
    {
     "name": "stderr",
     "output_type": "stream",
     "text": [
      " 91%|█████████ | 100/110 [01:37<00:09,  1.02it/s]"
     ]
    },
    {
     "name": "stdout",
     "output_type": "stream",
     "text": [
      "Upserted batch 10 from: test_df_EDM.csv\n",
      "operation_id=9 status=<UpdateStatus.COMPLETED: 'completed'>\n",
      "Saved DataFrame with embeddings to: test_df_EDM.csv\n"
     ]
    },
    {
     "name": "stderr",
     "output_type": "stream",
     "text": [
      "/Users/A117792292/anaconda3/envs/VGGish/lib/python3.10/site-packages/tensorflow/python/keras/engine/base_layer_v1.py:1694: UserWarning: `layer.apply` is deprecated and will be removed in a future version. Please use `layer.__call__` method instead.\n",
      "  warnings.warn('`layer.apply` is deprecated and '\n",
      "/Users/A117792292/anaconda3/envs/VGGish/lib/python3.10/site-packages/tensorflow/python/keras/legacy_tf_layers/core.py:318: UserWarning: `tf.layers.flatten` is deprecated and will be removed in a future version. Please use `tf.keras.layers.Flatten` instead.\n",
      "  warnings.warn('`tf.layers.flatten` is deprecated and '\n"
     ]
    },
    {
     "name": "stdout",
     "output_type": "stream",
     "text": [
      "INFO:tensorflow:Restoring parameters from fine_tuned_11_genres_EDM_with_val_softmax_vggish_model_batch_size_1.ckpt\n"
     ]
    },
    {
     "name": "stderr",
     "output_type": "stream",
     "text": [
      " 92%|█████████▏| 101/110 [01:38<00:08,  1.04it/s]"
     ]
    },
    {
     "name": "stdout",
     "output_type": "stream",
     "text": [
      "INFO:tensorflow:Restoring parameters from fine_tuned_11_genres_EDM_with_val_softmax_vggish_model_batch_size_1.ckpt\n"
     ]
    },
    {
     "name": "stderr",
     "output_type": "stream",
     "text": [
      " 93%|█████████▎| 102/110 [01:39<00:07,  1.06it/s]"
     ]
    },
    {
     "name": "stdout",
     "output_type": "stream",
     "text": [
      "INFO:tensorflow:Restoring parameters from fine_tuned_11_genres_EDM_with_val_softmax_vggish_model_batch_size_1.ckpt\n"
     ]
    },
    {
     "name": "stderr",
     "output_type": "stream",
     "text": [
      " 94%|█████████▎| 103/110 [01:40<00:06,  1.07it/s]"
     ]
    },
    {
     "name": "stdout",
     "output_type": "stream",
     "text": [
      "INFO:tensorflow:Restoring parameters from fine_tuned_11_genres_EDM_with_val_softmax_vggish_model_batch_size_1.ckpt\n"
     ]
    },
    {
     "name": "stderr",
     "output_type": "stream",
     "text": [
      " 95%|█████████▍| 104/110 [01:41<00:05,  1.08it/s]"
     ]
    },
    {
     "name": "stdout",
     "output_type": "stream",
     "text": [
      "INFO:tensorflow:Restoring parameters from fine_tuned_11_genres_EDM_with_val_softmax_vggish_model_batch_size_1.ckpt\n"
     ]
    },
    {
     "name": "stderr",
     "output_type": "stream",
     "text": [
      " 95%|█████████▌| 105/110 [01:42<00:04,  1.06it/s]"
     ]
    },
    {
     "name": "stdout",
     "output_type": "stream",
     "text": [
      "INFO:tensorflow:Restoring parameters from fine_tuned_11_genres_EDM_with_val_softmax_vggish_model_batch_size_1.ckpt\n"
     ]
    },
    {
     "name": "stderr",
     "output_type": "stream",
     "text": [
      " 96%|█████████▋| 106/110 [01:43<00:03,  1.09it/s]"
     ]
    },
    {
     "name": "stdout",
     "output_type": "stream",
     "text": [
      "INFO:tensorflow:Restoring parameters from fine_tuned_11_genres_EDM_with_val_softmax_vggish_model_batch_size_1.ckpt\n"
     ]
    },
    {
     "name": "stderr",
     "output_type": "stream",
     "text": [
      " 97%|█████████▋| 107/110 [01:44<00:02,  1.09it/s]"
     ]
    },
    {
     "name": "stdout",
     "output_type": "stream",
     "text": [
      "INFO:tensorflow:Restoring parameters from fine_tuned_11_genres_EDM_with_val_softmax_vggish_model_batch_size_1.ckpt\n"
     ]
    },
    {
     "name": "stderr",
     "output_type": "stream",
     "text": [
      " 98%|█████████▊| 108/110 [01:45<00:01,  1.08it/s]"
     ]
    },
    {
     "name": "stdout",
     "output_type": "stream",
     "text": [
      "INFO:tensorflow:Restoring parameters from fine_tuned_11_genres_EDM_with_val_softmax_vggish_model_batch_size_1.ckpt\n"
     ]
    },
    {
     "name": "stderr",
     "output_type": "stream",
     "text": [
      " 99%|█████████▉| 109/110 [01:46<00:00,  1.08it/s]"
     ]
    },
    {
     "name": "stdout",
     "output_type": "stream",
     "text": [
      "INFO:tensorflow:Restoring parameters from fine_tuned_11_genres_EDM_with_val_softmax_vggish_model_batch_size_1.ckpt\n"
     ]
    },
    {
     "name": "stderr",
     "output_type": "stream",
     "text": [
      "100%|██████████| 110/110 [01:47<00:00,  1.02it/s]"
     ]
    },
    {
     "name": "stdout",
     "output_type": "stream",
     "text": [
      "Upserted batch 11 from: test_df_EDM.csv\n",
      "operation_id=10 status=<UpdateStatus.COMPLETED: 'completed'>\n",
      "Saved DataFrame with embeddings to: test_df_EDM.csv\n"
     ]
    },
    {
     "name": "stderr",
     "output_type": "stream",
     "text": [
      "\n"
     ]
    },
    {
     "name": "stdout",
     "output_type": "stream",
     "text": [
      "Final saved DataFrame with embeddings to: test_df_EDM.csv\n"
     ]
    }
   ],
   "source": [
    "\n",
    "# Initialize the new column to None\n",
    "df['fine_tuned_11_genres_EDM_with_val_softmax_vggish_model_batch_size_1'] = None\n",
    "\n",
    "batch_size = 10\n",
    "embeddings = []\n",
    "\n",
    "# Global ID counter\n",
    "global_id = 0\n",
    "\n",
    "# Iterate over each row in the DataFrame with progress tracking\n",
    "for i, file_path in enumerate(tqdm(df['file_path'])):\n",
    "    embedding = get_vggish_embedding(file_path)  # Compute VGGish embedding\n",
    "    embedding = embedding.flatten()  # Flatten the embedding\n",
    "\n",
    "    # Ensure embeddings have a fixed dimension of 1024 (pad with zeros if needed)\n",
    "    if embedding.shape[0] < 1024:\n",
    "        print(f\"Embedding dimension mismatch: {embedding.shape[0]}, padding with zeros.\")\n",
    "        embedding = np.pad(embedding, (0, 1024 - embedding.shape[0]), 'constant')\n",
    "\n",
    "    embeddings.append(embedding)\n",
    "\n",
    "    # Assign the embedding to the DataFrame\n",
    "    df.at[i, 'fine_tuned_11_genres_EDM_with_val_softmax_vggish_model_batch_size_1'] = embedding.tolist()\n",
    "\n",
    "    # Process batch every `batch_size` rows or on the last row\n",
    "    if (i + 1) % batch_size == 0 or (i + 1) == len(df):\n",
    "        points = []  # List to hold batch points\n",
    "\n",
    "        for index, (embedding, row) in enumerate(zip(embeddings, df.iloc[i + 1 - batch_size:i + 1].iterrows())):\n",
    "            # Convert payload values to standard Python types (avoid NumPy types)\n",
    "            payload = {\n",
    "                k: (v.item() if isinstance(v, np.generic) else v)\n",
    "                for k, v in row[1].drop(['fine_tuned_11_genres_EDM_with_val_softmax_vggish_model_batch_size_1','base_11_genres_EDM_with_vggish_model']).to_dict().items()\n",
    "            }\n",
    "\n",
    "            # Create a PointStruct object for Qdrant\n",
    "            point = models.PointStruct(\n",
    "                id=global_id + index,  # Unique ID for each point\n",
    "                vector=embedding.tolist(),  # Convert NumPy array to list\n",
    "                payload=payload  # Metadata for retrieval\n",
    "            )\n",
    "\n",
    "            points.append(point)\n",
    "\n",
    "        # Upsert the batch of points into Qdrant\n",
    "        operation_info = client.upsert(\n",
    "            collection_name=\"fine_tuned_11_genres_EDM_with_val_softmax_vggish_model_batch_size_1\",\n",
    "            wait=True,\n",
    "            points=points,\n",
    "        )\n",
    "\n",
    "        print(f\"Upserted batch {(i + 1) // batch_size} from: {csv_file}\")\n",
    "        print(operation_info)\n",
    "\n",
    "        # Update global ID counter\n",
    "        global_id += len(points)\n",
    "\n",
    "        # Reset embeddings list for the next batch\n",
    "        embeddings = []\n",
    "\n",
    "        # Save the updated DataFrame periodically\n",
    "        df.to_csv(csv_file, index=False)\n",
    "        print(f\"Saved DataFrame with embeddings to: {csv_file}\")\n",
    "\n",
    "# Final save after loop completes\n",
    "df.to_csv(csv_file, index=False)\n",
    "print(f\"Final saved DataFrame with embeddings to: {csv_file}\")\n"
   ],
   "metadata": {
    "collapsed": false,
    "ExecuteTime": {
     "start_time": "2025-03-13T20:31:00.723762Z",
     "end_time": "2025-03-13T20:32:48.302977Z"
    }
   }
  },
  {
   "cell_type": "code",
   "execution_count": null,
   "outputs": [],
   "source": [],
   "metadata": {
    "collapsed": false
   }
  }
 ],
 "metadata": {
  "kernelspec": {
   "display_name": "Python 3",
   "language": "python",
   "name": "python3"
  },
  "language_info": {
   "codemirror_mode": {
    "name": "ipython",
    "version": 2
   },
   "file_extension": ".py",
   "mimetype": "text/x-python",
   "name": "python",
   "nbconvert_exporter": "python",
   "pygments_lexer": "ipython2",
   "version": "2.7.6"
  }
 },
 "nbformat": 4,
 "nbformat_minor": 0
}
